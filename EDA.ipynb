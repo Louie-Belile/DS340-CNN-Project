{
 "cells": [
  {
   "cell_type": "markdown",
   "metadata": {},
   "source": [
    "### Exploratory Data Analysis"
   ]
  },
  {
   "cell_type": "markdown",
   "metadata": {},
   "source": [
    "#### libraries"
   ]
  },
  {
   "cell_type": "code",
   "execution_count": 1,
   "metadata": {},
   "outputs": [
    {
     "name": "stderr",
     "output_type": "stream",
     "text": [
      "c:\\Users\\sindh\\AppData\\Local\\Programs\\Python\\Python310\\lib\\site-packages\\tqdm\\auto.py:21: TqdmWarning: IProgress not found. Please update jupyter and ipywidgets. See https://ipywidgets.readthedocs.io/en/stable/user_install.html\n",
      "  from .autonotebook import tqdm as notebook_tqdm\n"
     ]
    }
   ],
   "source": [
    "import os\n",
    "\n",
    "import shutil\n",
    "import keras\n",
    "import random\n",
    "import keras_cv\n",
    "import warnings\n",
    "from PIL import Image\n",
    "import numpy as np\n",
    "import pandas as pd\n",
    "import seaborn as sns\n",
    "import tensorflow as tf\n",
    "import matplotlib.pyplot as plt\n",
    "import matplotlib.image as mpimg\n",
    "from sklearn.metrics import accuracy_score\n",
    "from keras.utils import image_dataset_from_directory"
   ]
  },
  {
   "cell_type": "code",
   "execution_count": 2,
   "metadata": {},
   "outputs": [],
   "source": [
    "warnings.filterwarnings(\"ignore\")"
   ]
  },
  {
   "cell_type": "code",
   "execution_count": 3,
   "metadata": {},
   "outputs": [],
   "source": [
    "# Reproducability\n",
    "tf.keras.utils.set_random_seed(69)"
   ]
  },
  {
   "cell_type": "markdown",
   "metadata": {},
   "source": [
    "#### viewing directory"
   ]
  },
  {
   "cell_type": "code",
   "execution_count": 4,
   "metadata": {},
   "outputs": [
    {
     "data": {
      "text/plain": [
       "['waste-images\\\\images\\\\images\\\\aerosol_cans',\n",
       " 'waste-images\\\\images\\\\images\\\\aluminum_food_cans',\n",
       " 'waste-images\\\\images\\\\images\\\\aluminum_soda_cans',\n",
       " 'waste-images\\\\images\\\\images\\\\cardboard_boxes',\n",
       " 'waste-images\\\\images\\\\images\\\\cardboard_packaging',\n",
       " 'waste-images\\\\images\\\\images\\\\clothing',\n",
       " 'waste-images\\\\images\\\\images\\\\coffee_grounds',\n",
       " 'waste-images\\\\images\\\\images\\\\disposable_plastic_cutlery',\n",
       " 'waste-images\\\\images\\\\images\\\\eggshells',\n",
       " 'waste-images\\\\images\\\\images\\\\food_waste',\n",
       " 'waste-images\\\\images\\\\images\\\\glass_beverage_bottles',\n",
       " 'waste-images\\\\images\\\\images\\\\glass_cosmetic_containers',\n",
       " 'waste-images\\\\images\\\\images\\\\glass_food_jars',\n",
       " 'waste-images\\\\images\\\\images\\\\magazines',\n",
       " 'waste-images\\\\images\\\\images\\\\newspaper',\n",
       " 'waste-images\\\\images\\\\images\\\\office_paper',\n",
       " 'waste-images\\\\images\\\\images\\\\paper_cups',\n",
       " 'waste-images\\\\images\\\\images\\\\plastic_cup_lids',\n",
       " 'waste-images\\\\images\\\\images\\\\plastic_detergent_bottles',\n",
       " 'waste-images\\\\images\\\\images\\\\plastic_food_containers',\n",
       " 'waste-images\\\\images\\\\images\\\\plastic_shopping_bags',\n",
       " 'waste-images\\\\images\\\\images\\\\plastic_soda_bottles',\n",
       " 'waste-images\\\\images\\\\images\\\\plastic_straws',\n",
       " 'waste-images\\\\images\\\\images\\\\plastic_trash_bags',\n",
       " 'waste-images\\\\images\\\\images\\\\plastic_water_bottles',\n",
       " 'waste-images\\\\images\\\\images\\\\shoes',\n",
       " 'waste-images\\\\images\\\\images\\\\steel_food_cans',\n",
       " 'waste-images\\\\images\\\\images\\\\styrofoam_cups',\n",
       " 'waste-images\\\\images\\\\images\\\\styrofoam_food_containers',\n",
       " 'waste-images\\\\images\\\\images\\\\tea_bags']"
      ]
     },
     "execution_count": 4,
     "metadata": {},
     "output_type": "execute_result"
    }
   ],
   "source": [
    "waste_type_dir = []\n",
    "\n",
    "for (root, dirs, files) in os.walk('waste-images'):\n",
    "    if root.split(\"\\\\\")[-3:-1] == ['images', 'images']:\n",
    "        waste_type_dir.append(root)\n",
    "\n",
    "waste_type_dir\n",
    "        "
   ]
  },
  {
   "cell_type": "code",
   "execution_count": null,
   "metadata": {},
   "outputs": [
    {
     "name": "stdout",
     "output_type": "stream",
     "text": [
      "Images successfully moved and subdirectories cleaned.\n"
     ]
    }
   ],
   "source": [
    "# restructuring directory\n",
    "# Define the working directory (where images are stored)\n",
    "working_directory = \"waste-images\\\\images\\\\images\"\n",
    "\n",
    "# Define the base directory where categories will be moved to\n",
    "base_directory = \"waste-images\"\n",
    "\n",
    "# Iterate through each category folder under the 'images/images' directory\n",
    "for category in os.listdir(working_directory):\n",
    "    category_path = os.path.join(working_directory, category)\n",
    "    \n",
    "    # Check if it's a directory (should be the category folder)\n",
    "    if os.path.isdir(category_path):\n",
    "        \n",
    "        # Create the category folder in the base directory if it doesn't exist\n",
    "        new_category_path = os.path.join(base_directory, category)\n",
    "        os.makedirs(new_category_path, exist_ok=True)\n",
    "\n",
    "        # Iterate through 'default' and 'real_world' subdirectories inside each category\n",
    "        for subfolder in ['default', 'real_world']:\n",
    "            subfolder_path = os.path.join(category_path, subfolder)\n",
    "            \n",
    "            # Check if the subfolder exists\n",
    "            if os.path.exists(subfolder_path):\n",
    "                # Iterate through all image files in the subfolder\n",
    "                for img_file in os.listdir(subfolder_path):\n",
    "                    img_path = os.path.join(subfolder_path, img_file)\n",
    "                    \n",
    "                    # Define the new file path in the base category directory\n",
    "                    new_img_path = os.path.join(new_category_path, f\"{subfolder}_{img_file}\")\n",
    "                    \n",
    "                    # Copy the file to the new category directory\n",
    "                    shutil.copy(img_path, new_img_path)\n",
    "                    \n",
    "                    # Optionally, you can delete the original file after copying\n",
    "                    os.remove(img_path)\n",
    "                \n",
    "                # After copying, you can remove the empty subdirectory (if you want to clean up)\n",
    "                os.rmdir(subfolder_path)\n",
    "\n",
    "print(\"Images successfully moved and subdirectories cleaned.\")"
   ]
  },
  {
   "cell_type": "code",
   "execution_count": 5,
   "metadata": {},
   "outputs": [
    {
     "name": "stdout",
     "output_type": "stream",
     "text": [
      "Category: aerosol_cans\n",
      "  Default: 250 images\n",
      "  Real World: 250 images\n",
      "Category: aluminum_food_cans\n",
      "  Default: 250 images\n",
      "  Real World: 250 images\n",
      "Category: aluminum_soda_cans\n",
      "  Default: 250 images\n",
      "  Real World: 250 images\n",
      "Category: cardboard_boxes\n",
      "  Default: 250 images\n",
      "  Real World: 250 images\n",
      "Category: cardboard_packaging\n",
      "  Default: 250 images\n",
      "  Real World: 250 images\n",
      "Category: clothing\n",
      "  Default: 250 images\n",
      "  Real World: 250 images\n",
      "Category: coffee_grounds\n",
      "  Default: 250 images\n",
      "  Real World: 250 images\n",
      "Category: disposable_plastic_cutlery\n",
      "  Default: 250 images\n",
      "  Real World: 250 images\n",
      "Category: eggshells\n",
      "  Default: 250 images\n",
      "  Real World: 250 images\n",
      "Category: food_waste\n",
      "  Default: 250 images\n",
      "  Real World: 250 images\n",
      "Category: glass_beverage_bottles\n",
      "  Default: 250 images\n",
      "  Real World: 250 images\n",
      "Category: glass_cosmetic_containers\n",
      "  Default: 250 images\n",
      "  Real World: 250 images\n",
      "Category: glass_food_jars\n",
      "  Default: 250 images\n",
      "  Real World: 250 images\n",
      "Category: magazines\n",
      "  Default: 250 images\n",
      "  Real World: 250 images\n",
      "Category: newspaper\n",
      "  Default: 250 images\n",
      "  Real World: 250 images\n",
      "Category: office_paper\n",
      "  Default: 250 images\n",
      "  Real World: 250 images\n",
      "Category: paper_cups\n",
      "  Default: 250 images\n",
      "  Real World: 250 images\n",
      "Category: plastic_cup_lids\n",
      "  Default: 250 images\n",
      "  Real World: 250 images\n",
      "Category: plastic_detergent_bottles\n",
      "  Default: 250 images\n",
      "  Real World: 250 images\n",
      "Category: plastic_food_containers\n",
      "  Default: 250 images\n",
      "  Real World: 250 images\n",
      "Category: plastic_shopping_bags\n",
      "  Default: 250 images\n",
      "  Real World: 250 images\n",
      "Category: plastic_soda_bottles\n",
      "  Default: 250 images\n",
      "  Real World: 250 images\n",
      "Category: plastic_straws\n",
      "  Default: 250 images\n",
      "  Real World: 250 images\n",
      "Category: plastic_trash_bags\n",
      "  Default: 250 images\n",
      "  Real World: 250 images\n",
      "Category: plastic_water_bottles\n",
      "  Default: 250 images\n",
      "  Real World: 250 images\n",
      "Category: shoes\n",
      "  Default: 250 images\n",
      "  Real World: 250 images\n",
      "Category: steel_food_cans\n",
      "  Default: 250 images\n",
      "  Real World: 250 images\n",
      "Category: styrofoam_cups\n",
      "  Default: 250 images\n",
      "  Real World: 250 images\n",
      "Category: styrofoam_food_containers\n",
      "  Default: 250 images\n",
      "  Real World: 250 images\n",
      "Category: tea_bags\n",
      "  Default: 250 images\n",
      "  Real World: 250 images\n"
     ]
    }
   ],
   "source": [
    "# Function to count images per subfolder\n",
    "def count_images_per_folder(waste_type_dir):\n",
    "    for category_path in waste_type_dir:\n",
    "        category_name = os.path.basename(category_path)  # Extract category name\n",
    "        print(f\"Category: {category_name}\")\n",
    "\n",
    "        # Check for \"default\" and \"real_world\" subfolders\n",
    "        default_path = os.path.join(category_path, \"default\")\n",
    "        real_world_path = os.path.join(category_path, \"real_world\")\n",
    "\n",
    "        if not os.path.exists(default_path) or not os.path.exists(real_world_path):\n",
    "            print(f\"  Missing subfolders in {category_name}. Expected 'default' and 'real_world'.\")\n",
    "            continue\n",
    "\n",
    "        # Count images in each subfolder\n",
    "        default_images = len([f for f in os.listdir(default_path) if os.path.isfile(os.path.join(default_path, f))])\n",
    "        real_world_images = len([f for f in os.listdir(real_world_path) if os.path.isfile(os.path.join(real_world_path, f))])\n",
    "\n",
    "        # Output results\n",
    "        print(f\"  Default: {default_images} images\")\n",
    "        print(f\"  Real World: {real_world_images} images\")\n",
    "\n",
    "        # Verify expected count\n",
    "        if default_images != 250 or real_world_images != 250:\n",
    "            print(f\"  WARNING: Expected 250 images in each folder, but found {default_images} (default) and {real_world_images} (real_world).\")\n",
    "\n",
    "# Run the function\n",
    "count_images_per_folder(waste_type_dir)\n"
   ]
  },
  {
   "cell_type": "markdown",
   "metadata": {},
   "source": [
    "### Assumption: All materials are food and beverage free\n",
    "Also..talk about liquid disposal fountain next to the trash"
   ]
  },
  {
   "cell_type": "code",
   "execution_count": 29,
   "metadata": {},
   "outputs": [],
   "source": [
    "food_waste = ['coffee_grounds','eggshells', 'food_waste', 'tea_bags']\n",
    "mixed_recycle = ['aluminum_food_cans', 'aluminum_soda_cans', 'aerosol_cans', 'cardboard_boxes', 'cardboard_packaging','glass_beverage_bottles', 'glass_cosmetic_containers', 'glass_food_jars', 'magazines', 'newspaper', 'office_paper', 'plastic_detergent_bottles', 'plastic_food_containers', 'plastic_soda_bottles', 'plastic_water_bottles','steel_food_cans']\n",
    "trash = ['clothes','styrofoam_cups', 'styrofoam_food_containers', 'disposable_plastic_cutlery', 'paper_cups', 'paper_cup_lids', 'plastic_shopping_bags','plastic_straws', 'plastic_trash_bags', 'shoes' ]"
   ]
  },
  {
   "cell_type": "code",
   "execution_count": 30,
   "metadata": {},
   "outputs": [
    {
     "name": "stdout",
     "output_type": "stream",
     "text": [
      "All categories included!\n"
     ]
    }
   ],
   "source": [
    "if len(food_waste) + len(mixed_recycle) + len(trash) == len(waste_type_dir):\n",
    "    print(\"All categories included!\")"
   ]
  },
  {
   "cell_type": "code",
   "execution_count": 32,
   "metadata": {},
   "outputs": [
    {
     "name": "stdout",
     "output_type": "stream",
     "text": [
      "Food Waste Directories: ['waste-images\\\\images\\\\images\\\\coffee_grounds', 'waste-images\\\\images\\\\images\\\\eggshells', 'waste-images\\\\images\\\\images\\\\food_waste', 'waste-images\\\\images\\\\images\\\\tea_bags']\n",
      "Mixed Recycle Directories: ['waste-images\\\\images\\\\images\\\\aerosol_cans', 'waste-images\\\\images\\\\images\\\\aluminum_food_cans', 'waste-images\\\\images\\\\images\\\\aluminum_soda_cans', 'waste-images\\\\images\\\\images\\\\cardboard_boxes', 'waste-images\\\\images\\\\images\\\\cardboard_packaging', 'waste-images\\\\images\\\\images\\\\glass_beverage_bottles', 'waste-images\\\\images\\\\images\\\\glass_cosmetic_containers', 'waste-images\\\\images\\\\images\\\\glass_food_jars', 'waste-images\\\\images\\\\images\\\\magazines', 'waste-images\\\\images\\\\images\\\\newspaper', 'waste-images\\\\images\\\\images\\\\office_paper', 'waste-images\\\\images\\\\images\\\\plastic_detergent_bottles', 'waste-images\\\\images\\\\images\\\\plastic_food_containers', 'waste-images\\\\images\\\\images\\\\plastic_soda_bottles', 'waste-images\\\\images\\\\images\\\\plastic_water_bottles', 'waste-images\\\\images\\\\images\\\\steel_food_cans']\n",
      "Trash Directories: ['waste-images\\\\images\\\\images\\\\disposable_plastic_cutlery', 'waste-images\\\\images\\\\images\\\\paper_cups', 'waste-images\\\\images\\\\images\\\\plastic_shopping_bags', 'waste-images\\\\images\\\\images\\\\plastic_straws', 'waste-images\\\\images\\\\images\\\\plastic_trash_bags', 'waste-images\\\\images\\\\images\\\\shoes', 'waste-images\\\\images\\\\images\\\\styrofoam_cups', 'waste-images\\\\images\\\\images\\\\styrofoam_food_containers']\n"
     ]
    }
   ],
   "source": [
    "# Function to map materials to their directories\n",
    "def map_to_directories(materials, directories):\n",
    "    return [dir_path for dir_path in directories if dir_path.split('\\\\')[-1] in materials]\n",
    "\n",
    "# Map each list to directories\n",
    "food_waste_dirs = map_to_directories(food_waste, waste_type_dir)\n",
    "mixed_recycle_dirs = map_to_directories(mixed_recycle, waste_type_dir)\n",
    "trash_dirs = map_to_directories(trash, waste_type_dir)\n",
    "\n",
    "# Print results\n",
    "print(\"Food Waste Directories:\", food_waste_dirs)\n",
    "print(\"Mixed Recycle Directories:\", mixed_recycle_dirs)\n",
    "print(\"Trash Directories:\", trash_dirs)"
   ]
  },
  {
   "cell_type": "code",
   "execution_count": 33,
   "metadata": {},
   "outputs": [
    {
     "name": "stdout",
     "output_type": "stream",
     "text": [
      "Food Waste:  True\n",
      "Mixed Recycling:  True\n",
      "Trash:  True\n"
     ]
    }
   ],
   "source": [
    "# verify if all categories' working directory was matched\n",
    "print(\"Food Waste: \", len(food_waste_dirs)==len(food_waste))\n",
    "print(\"Mixed Recycling: \", len(mixed_recycle_dirs)==len(mixed_recycle))\n",
    "print(\"Trash: \", len(trash_dirs)==len(trash_dirs))"
   ]
  },
  {
   "cell_type": "code",
   "execution_count": 34,
   "metadata": {},
   "outputs": [
    {
     "data": {
      "image/png": "[encoded data removed]",
      "text/plain": [
       "<Figure size 800x600 with 1 Axes>"
      ]
     },
     "metadata": {},
     "output_type": "display_data"
    }
   ],
   "source": [
    "# Function to count total images in default and real_world subdirectories for a category\n",
    "def count_total_images(category_dirs):\n",
    "    total_images = 0\n",
    "    for dir_path in category_dirs:\n",
    "        default_path = os.path.join(dir_path, \"default\")\n",
    "        real_world_path = os.path.join(dir_path, \"real_world\")\n",
    "\n",
    "        # Count images in default and real_world subdirectories\n",
    "        default_count = len([f for f in os.listdir(default_path) if os.path.isfile(os.path.join(default_path, f))]) if os.path.exists(default_path) else 0\n",
    "        real_world_count = len([f for f in os.listdir(real_world_path) if os.path.isfile(os.path.join(real_world_path, f))]) if os.path.exists(real_world_path) else 0\n",
    "\n",
    "        # Add to total count\n",
    "        total_images += (default_count + real_world_count)\n",
    "    return total_images\n",
    "\n",
    "# Calculate total image counts for each category\n",
    "food_waste_total = count_total_images(food_waste_dirs)\n",
    "mixed_recycle_total = count_total_images(mixed_recycle_dirs)\n",
    "trash_total = count_total_images(trash_dirs)\n",
    "\n",
    "# Calculate total images across all categories\n",
    "overall_total = food_waste_total + mixed_recycle_total + trash_total\n",
    "\n",
    "# Calculate percentages\n",
    "categories = ['Food Waste', 'Mixed Recycle', 'Trash']\n",
    "percentages = [\n",
    "    (food_waste_total / overall_total) * 100,\n",
    "    (mixed_recycle_total / overall_total) * 100,\n",
    "    (trash_total / overall_total) * 100\n",
    "]\n",
    "\n",
    "# Create the bar plot\n",
    "plt.figure(figsize=(8, 6))\n",
    "plt.bar(categories, percentages, color=['#1f77b4', '#ff7f0e', '#2ca02c'])\n",
    "plt.xlabel('Waste Categories')\n",
    "plt.ylabel('Percentage of Total Images (%)')\n",
    "plt.title('Percentage of Images per Waste Category')\n",
    "plt.tight_layout()\n",
    "plt.show()"
   ]
  },
  {
   "cell_type": "markdown",
   "metadata": {},
   "source": [
    "### Using GANs to Create Synthetic Food Waste Images "
   ]
  },
  {
   "cell_type": "code",
   "execution_count": null,
   "metadata": {},
   "outputs": [
    {
     "data": {
      "text/plain": [
       "['waste-images\\\\images\\\\images\\\\coffee_grounds',\n",
       " 'waste-images\\\\images\\\\images\\\\eggshells',\n",
       " 'waste-images\\\\images\\\\images\\\\food_waste',\n",
       " 'waste-images\\\\images\\\\images\\\\tea_bags']"
      ]
     },
     "execution_count": 36,
     "metadata": {},
     "output_type": "execute_result"
    }
   ],
   "source": [
    "#preprocess data \n",
    "coffee_grounds_path = food_waste_dirs[0]\n",
    "\n",
    "image_size = (64,64)\n",
    "images = []\n",
    "\n",
    "for img_file in os.listdir(coffee_grounds_path):\n",
    "    img_path = os.path.join(coffee_grounds_path, img_file)\n",
    "    img = Image.open(img_path).convert(\"RGB\")  # Ensure all images have 3 channels (RGB)\n",
    "    img = img.resize(image_size)  # Resize to target size\n",
    "    images.append(np.array(img))\n",
    "\n",
    "# Convert to a NumPy array\n",
    "images = np.array(images)"
   ]
  },
  {
   "cell_type": "code",
   "execution_count": null,
   "metadata": {},
   "outputs": [],
   "source": [
    "# GAN architecture "
   ]
  }
 ],
 "metadata": {
  "kernelspec": {
   "display_name": "Python 3",
   "language": "python",
   "name": "python3"
  },
  "language_info": {
   "codemirror_mode": {
    "name": "ipython",
    "version": 3
   },
   "file_extension": ".py",
   "mimetype": "text/x-python",
   "name": "python",
   "nbconvert_exporter": "python",
   "pygments_lexer": "ipython3",
   "version": "3.10.7"
  }
 },
 "nbformat": 4,
 "nbformat_minor": 2
}
