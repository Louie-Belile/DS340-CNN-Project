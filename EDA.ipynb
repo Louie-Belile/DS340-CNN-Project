{
 "cells": [
  {
   "cell_type": "markdown",
   "metadata": {},
   "source": [
    "### Exploratory Data Analysis"
   ]
  },
  {
   "cell_type": "markdown",
   "metadata": {},
   "source": [
    "#### libraries"
   ]
  },
  {
   "cell_type": "code",
   "execution_count": 2,
   "metadata": {},
   "outputs": [
    {
     "name": "stderr",
     "output_type": "stream",
     "text": [
      "/Users/loubenskybelile/Library/Python/3.9/lib/python/site-packages/urllib3/__init__.py:35: NotOpenSSLWarning: urllib3 v2 only supports OpenSSL 1.1.1+, currently the 'ssl' module is compiled with 'LibreSSL 2.8.3'. See: https://github.com/urllib3/urllib3/issues/3020\n",
      "  warnings.warn(\n",
      "/Users/loubenskybelile/Library/Python/3.9/lib/python/site-packages/tqdm/auto.py:21: TqdmWarning: IProgress not found. Please update jupyter and ipywidgets. See https://ipywidgets.readthedocs.io/en/stable/user_install.html\n",
      "  from .autonotebook import tqdm as notebook_tqdm\n"
     ]
    }
   ],
   "source": [
    "import os\n",
    "\n",
    "import shutil\n",
    "import keras\n",
    "import random\n",
    "import keras_cv\n",
    "import warnings\n",
    "from PIL import Image\n",
    "import numpy as np\n",
    "import pandas as pd\n",
    "import seaborn as sns\n",
    "import tensorflow as tf\n",
    "import matplotlib.pyplot as plt\n",
    "import matplotlib.image as mpimg\n",
    "from sklearn.metrics import accuracy_score\n",
    "from keras.utils import image_dataset_from_directory"
   ]
  },
  {
   "cell_type": "code",
   "execution_count": 3,
   "metadata": {},
   "outputs": [],
   "source": [
    "warnings.filterwarnings(\"ignore\")"
   ]
  },
  {
   "cell_type": "code",
   "execution_count": 4,
   "metadata": {},
   "outputs": [],
   "source": [
    "# Reproducability\n",
    "tf.keras.utils.set_random_seed(69)"
   ]
  },
  {
   "cell_type": "markdown",
   "metadata": {},
   "source": [
    "#### viewing directory"
   ]
  },
  {
   "cell_type": "code",
   "execution_count": 5,
   "metadata": {},
   "outputs": [
    {
     "data": {
      "text/plain": [
       "['waste-images',\n",
       " 'waste-images/disposable_plastic_cutlery',\n",
       " 'waste-images/food_waste',\n",
       " 'waste-images/test',\n",
       " 'waste-images/test/Food Waste',\n",
       " 'waste-images/test/Trash',\n",
       " 'waste-images/test/Mixed Recycle',\n",
       " 'waste-images/office_paper',\n",
       " 'waste-images/glass_food_jars',\n",
       " 'waste-images/aluminum_soda_cans',\n",
       " 'waste-images/magazines',\n",
       " 'waste-images/clothing',\n",
       " 'waste-images/plastic_shopping_bags',\n",
       " 'waste-images/plastic_soda_bottles',\n",
       " 'waste-images/styrofoam_food_containers',\n",
       " 'waste-images/aerosol_cans',\n",
       " 'waste-images/aluminum_food_cans',\n",
       " 'waste-images/newspaper',\n",
       " 'waste-images/eggshells',\n",
       " 'waste-images/glass_cosmetic_containers',\n",
       " 'waste-images/paper_cups',\n",
       " 'waste-images/plastic_water_bottles',\n",
       " 'waste-images/coffee_grounds',\n",
       " 'waste-images/steel_food_cans',\n",
       " 'waste-images/plastic_cup_lids',\n",
       " 'waste-images/cardboard_packaging',\n",
       " 'waste-images/cardboard_boxes',\n",
       " 'waste-images/plastic_straws',\n",
       " 'waste-images/train',\n",
       " 'waste-images/train/Food Waste',\n",
       " 'waste-images/train/Trash',\n",
       " 'waste-images/train/Mixed Recycle',\n",
       " 'waste-images/styrofoam_cups',\n",
       " 'waste-images/glass_beverage_bottles',\n",
       " 'waste-images/shoes',\n",
       " 'waste-images/plastic_trash_bags',\n",
       " 'waste-images/tea_bags',\n",
       " 'waste-images/plastic_food_containers',\n",
       " 'waste-images/val',\n",
       " 'waste-images/val/Food Waste',\n",
       " 'waste-images/val/Trash',\n",
       " 'waste-images/val/Mixed Recycle',\n",
       " 'waste-images/plastic_detergent_bottles']"
      ]
     },
     "execution_count": 5,
     "metadata": {},
     "output_type": "execute_result"
    }
   ],
   "source": [
    "waste_type_dir = []\n",
    "\n",
    "for (root, dirs, files) in os.walk('waste-images'):\n",
    "    waste_type_dir.append(root)\n",
    "\n",
    "waste_type_dir\n",
    "        "
   ]
  },
  {
   "cell_type": "code",
   "execution_count": 6,
   "metadata": {},
   "outputs": [],
   "source": [
    "waste_type_dir = waste_type_dir[1:]"
   ]
  },
  {
   "cell_type": "code",
   "execution_count": 7,
   "metadata": {},
   "outputs": [
    {
     "name": "stdout",
     "output_type": "stream",
     "text": [
      "['waste-images/disposable_plastic_cutlery', 'waste-images/food_waste', 'waste-images/test', 'waste-images/test/Food Waste', 'waste-images/test/Trash', 'waste-images/test/Mixed Recycle', 'waste-images/office_paper', 'waste-images/glass_food_jars', 'waste-images/aluminum_soda_cans', 'waste-images/magazines', 'waste-images/clothing', 'waste-images/plastic_shopping_bags', 'waste-images/plastic_soda_bottles', 'waste-images/styrofoam_food_containers', 'waste-images/aerosol_cans', 'waste-images/aluminum_food_cans', 'waste-images/newspaper', 'waste-images/eggshells', 'waste-images/glass_cosmetic_containers', 'waste-images/paper_cups', 'waste-images/plastic_water_bottles', 'waste-images/coffee_grounds', 'waste-images/steel_food_cans', 'waste-images/plastic_cup_lids', 'waste-images/cardboard_packaging', 'waste-images/cardboard_boxes', 'waste-images/plastic_straws', 'waste-images/train', 'waste-images/train/Food Waste', 'waste-images/train/Trash', 'waste-images/train/Mixed Recycle', 'waste-images/styrofoam_cups', 'waste-images/glass_beverage_bottles', 'waste-images/shoes', 'waste-images/plastic_trash_bags', 'waste-images/tea_bags', 'waste-images/plastic_food_containers', 'waste-images/val', 'waste-images/val/Food Waste', 'waste-images/val/Trash', 'waste-images/val/Mixed Recycle', 'waste-images/plastic_detergent_bottles']\n"
     ]
    }
   ],
   "source": [
    "print(waste_type_dir)"
   ]
  },
  {
   "cell_type": "code",
   "execution_count": null,
   "metadata": {},
   "outputs": [],
   "source": [
    "# # restructuring directory\n",
    "# # Define the working directory (where images are stored)\n",
    "# working_directory = \"waste-images\\\\images\\\\images\"\n",
    "\n",
    "# # Define the base directory where categories will be moved to\n",
    "# base_directory = \"waste-images\"\n",
    "\n",
    "# # Iterate through each category folder under the 'images/images' directory\n",
    "# for category in os.listdir(working_directory):\n",
    "#     category_path = os.path.join(working_directory, category)\n",
    "    \n",
    "#     # Check if it's a directory (should be the category folder)\n",
    "#     if os.path.isdir(category_path):\n",
    "        \n",
    "#         # Create the category folder in the base directory if it doesn't exist\n",
    "#         new_category_path = os.path.join(base_directory, category)\n",
    "#         os.makedirs(new_category_path, exist_ok=True)\n",
    "\n",
    "#         # Iterate through 'default' and 'real_world' subdirectories inside each category\n",
    "#         for subfolder in ['default', 'real_world']:\n",
    "#             subfolder_path = os.path.join(category_path, subfolder)\n",
    "            \n",
    "#             # Check if the subfolder exists\n",
    "#             if os.path.exists(subfolder_path):\n",
    "#                 # Iterate through all image files in the subfolder\n",
    "#                 for img_file in os.listdir(subfolder_path):\n",
    "#                     img_path = os.path.join(subfolder_path, img_file)\n",
    "                    \n",
    "#                     # Define the new file path in the base category directory\n",
    "#                     new_img_path = os.path.join(new_category_path, f\"{subfolder}_{img_file}\")\n",
    "                    \n",
    "#                     # Copy the file to the new category directory\n",
    "#                     shutil.copy(img_path, new_img_path)\n",
    "                    \n",
    "#                     # Optionally, you can delete the original file after copying\n",
    "#                     os.remove(img_path)\n",
    "                \n",
    "#                 # After copying, you can remove the empty subdirectory (if you want to clean up)\n",
    "#                 os.rmdir(subfolder_path)\n",
    "\n",
    "# print(\"Images successfully moved and subdirectories cleaned.\")"
   ]
  },
  {
   "cell_type": "code",
   "execution_count": null,
   "metadata": {},
   "outputs": [],
   "source": [
    "# # Function to count images per subfolder\n",
    "# def count_images_per_folder(waste_type_dir):\n",
    "#     for category_path in waste_type_dir:\n",
    "#         category_name = os.path.basename(category_path)  # Extract category name\n",
    "#         print(f\"Category: {category_name}\")\n",
    "\n",
    "#         # Check for \"default\" and \"real_world\" subfolders\n",
    "#         default_path = os.path.join(category_path, \"default\")\n",
    "#         real_world_path = os.path.join(category_path, \"real_world\")\n",
    "\n",
    "#         if not os.path.exists(default_path) or not os.path.exists(real_world_path):\n",
    "#             print(f\"  Missing subfolders in {category_name}. Expected 'default' and 'real_world'.\")\n",
    "#             continue\n",
    "\n",
    "#         # Count images in each subfolder\n",
    "#         default_images = len([f for f in os.listdir(default_path) if os.path.isfile(os.path.join(default_path, f))])\n",
    "#         real_world_images = len([f for f in os.listdir(real_world_path) if os.path.isfile(os.path.join(real_world_path, f))])\n",
    "\n",
    "#         # Output results\n",
    "#         print(f\"  Default: {default_images} images\")\n",
    "#         print(f\"  Real World: {real_world_images} images\")\n",
    "\n",
    "#         # Verify expected count\n",
    "#         if default_images != 250 or real_world_images != 250:\n",
    "#             print(f\"  WARNING: Expected 250 images in each folder, but found {default_images} (default) and {real_world_images} (real_world).\")\n",
    "\n",
    "# # Run the function\n",
    "# count_images_per_folder(waste_type_dir)\n"
   ]
  },
  {
   "cell_type": "markdown",
   "metadata": {},
   "source": [
    "### Assumption: All materials are food and beverage free\n",
    "Also..talk about liquid disposal fountain next to the trash"
   ]
  },
  {
   "cell_type": "code",
   "execution_count": 8,
   "metadata": {},
   "outputs": [],
   "source": [
    "food_waste = ['coffee_grounds','eggshells', 'food_waste', 'tea_bags']\n",
    "mixed_recycle = ['aluminum_food_cans', 'aluminum_soda_cans', 'aerosol_cans', 'cardboard_boxes', 'cardboard_packaging','glass_beverage_bottles', 'glass_cosmetic_containers', 'glass_food_jars', 'magazines', 'newspaper', 'office_paper', 'plastic_detergent_bottles', 'plastic_food_containers', 'plastic_soda_bottles', 'plastic_water_bottles','steel_food_cans']\n",
    "trash = ['clothes','styrofoam_cups', 'styrofoam_food_containers', 'disposable_plastic_cutlery', 'paper_cups', 'paper_cup_lids', 'plastic_shopping_bags','plastic_straws', 'plastic_trash_bags', 'shoes' ]"
   ]
  },
  {
   "cell_type": "code",
   "execution_count": 9,
   "metadata": {},
   "outputs": [],
   "source": [
    "if len(food_waste) + len(mixed_recycle) + len(trash) == len(waste_type_dir):\n",
    "    print(\"All categories included!\")"
   ]
  },
  {
   "cell_type": "code",
   "execution_count": 10,
   "metadata": {},
   "outputs": [
    {
     "name": "stdout",
     "output_type": "stream",
     "text": [
      "Food Waste Directories: ['waste-images/food_waste', 'waste-images/eggshells', 'waste-images/coffee_grounds', 'waste-images/tea_bags']\n",
      "Mixed Recycle Directories: ['waste-images/office_paper', 'waste-images/glass_food_jars', 'waste-images/aluminum_soda_cans', 'waste-images/magazines', 'waste-images/plastic_soda_bottles', 'waste-images/aerosol_cans', 'waste-images/aluminum_food_cans', 'waste-images/newspaper', 'waste-images/glass_cosmetic_containers', 'waste-images/plastic_water_bottles', 'waste-images/steel_food_cans', 'waste-images/cardboard_packaging', 'waste-images/cardboard_boxes', 'waste-images/glass_beverage_bottles', 'waste-images/plastic_food_containers', 'waste-images/plastic_detergent_bottles']\n",
      "Trash Directories: ['waste-images/disposable_plastic_cutlery', 'waste-images/plastic_shopping_bags', 'waste-images/styrofoam_food_containers', 'waste-images/paper_cups', 'waste-images/plastic_straws', 'waste-images/styrofoam_cups', 'waste-images/shoes', 'waste-images/plastic_trash_bags']\n"
     ]
    }
   ],
   "source": [
    "# Function to map materials to their directories\n",
    "def map_to_directories(materials, directories):\n",
    "    return [dir_path for dir_path in directories if dir_path.split('/')[-1] in materials]\n",
    "\n",
    "# Map each list to directories\n",
    "food_waste_dirs = map_to_directories(food_waste, waste_type_dir)\n",
    "mixed_recycle_dirs = map_to_directories(mixed_recycle, waste_type_dir)\n",
    "trash_dirs = map_to_directories(trash, waste_type_dir)\n",
    "\n",
    "# Print results\n",
    "print(\"Food Waste Directories:\", food_waste_dirs)\n",
    "print(\"Mixed Recycle Directories:\", mixed_recycle_dirs)\n",
    "print(\"Trash Directories:\", trash_dirs)"
   ]
  },
  {
   "cell_type": "code",
   "execution_count": 11,
   "metadata": {},
   "outputs": [
    {
     "name": "stdout",
     "output_type": "stream",
     "text": [
      "Food Waste:  True\n",
      "Mixed Recycling:  True\n",
      "Trash:  True\n"
     ]
    }
   ],
   "source": [
    "# verify if all categories' working directory was matched\n",
    "print(\"Food Waste: \", len(food_waste_dirs)==len(food_waste))\n",
    "print(\"Mixed Recycling: \", len(mixed_recycle_dirs)==len(mixed_recycle))\n",
    "print(\"Trash: \", len(trash_dirs)==len(trash_dirs))"
   ]
  },
  {
   "cell_type": "code",
   "execution_count": 12,
   "metadata": {},
   "outputs": [
    {
     "data": {
      "image/png": "[encoded data removed]",
      "text/plain": [
       "<Figure size 800x600 with 1 Axes>"
      ]
     },
     "metadata": {},
     "output_type": "display_data"
    }
   ],
   "source": [
    "# Function to count total images in default and real_world subdirectories for a category\n",
    "def count_total_images(category_dirs):\n",
    "    total_images = 0\n",
    "    for dir_path in category_dirs:\n",
    "\n",
    "        # Count images in default and real_world subdirectories\n",
    "        default_count = len([f for f in os.listdir(dir_path) if os.path.isfile(os.path.join(dir_path, f))]) if os.path.exists(dir_path) else 0\n",
    "        # Add to total count\n",
    "        total_images += (default_count)\n",
    "    return total_images\n",
    "\n",
    "# Calculate total image counts for each category\n",
    "food_waste_total = count_total_images(food_waste_dirs)\n",
    "mixed_recycle_total = count_total_images(mixed_recycle_dirs)\n",
    "trash_total = count_total_images(trash_dirs)\n",
    "\n",
    "# Calculate total images across all categories\n",
    "overall_total = food_waste_total + mixed_recycle_total + trash_total\n",
    "\n",
    "# Calculate percentages\n",
    "categories = ['Food Waste', 'Mixed Recycle', 'Trash']\n",
    "percentages = [\n",
    "    (food_waste_total / overall_total) * 100,\n",
    "    (mixed_recycle_total / overall_total) * 100,\n",
    "    (trash_total / overall_total) * 100\n",
    "]\n",
    "\n",
    "# Create the bar plot\n",
    "plt.figure(figsize=(8, 6))\n",
    "plt.bar(categories, percentages, color=['#1f77b4', '#ff7f0e', '#2ca02c'])\n",
    "plt.xlabel('Waste Categories')\n",
    "plt.ylabel('Percentage of Total Images (%)')\n",
    "plt.title('Percentage of Images per Waste Category')\n",
    "plt.tight_layout()\n",
    "plt.show()"
   ]
  },
  {
   "cell_type": "markdown",
   "metadata": {},
   "source": [
    "### Using GANs to Create Synthetic Food Waste Images "
   ]
  },
  {
   "cell_type": "code",
   "execution_count": null,
   "metadata": {},
   "outputs": [],
   "source": [
    "# Preprocessing function to load and resize images\n",
    "def load_images_from_dirs(dirs, image_size=(64, 64)):\n",
    "    images = []\n",
    "    for dir_path in dirs:\n",
    "        for img_file in os.listdir(dir_path):\n",
    "            img_path = os.path.join(dir_path, img_file)\n",
    "            try:\n",
    "                img = Image.open(img_path).convert(\"RGB\")  # Ensure all images are RGB\n",
    "                img = img.resize(image_size)  # Resize to target size\n",
    "                images.append(np.array(img))\n",
    "            except Exception as e:\n",
    "                print(f\"Error loading image {img_path}: {e}\")\n",
    "    return np.array(images)\n",
    "# Load images for each category\n",
    "food_waste_images = load_images_from_dirs(food_waste_dirs)\n",
    "mixed_recycle_images = load_images_from_dirs(mixed_recycle_dirs)\n",
    "trash_images = load_images_from_dirs(trash_dirs)\n",
    "\n",
    "# Normalize image data (-1 to 1 range) because we are using Tanh activation in the last layer of the model\n",
    "food_waste_images = (food_waste_images / 127.5) - 1.0\n",
    "mixed_recycle_images = (mixed_recycle_images / 127.5) - 1.0\n",
    "trash_images = (trash_images / 127.5) - 1.0\n",
    "\n",
    "\n"
   ]
  },
  {
   "cell_type": "code",
   "execution_count": null,
   "metadata": {},
   "outputs": [],
   "source": [
    "print(f\"Food Waste Images Shape: {food_waste_images.shape}, dtype: {food_waste_images.dtype}\")\n"
   ]
  },
  {
   "cell_type": "code",
   "execution_count": null,
   "metadata": {},
   "outputs": [],
   "source": [
    "import matplotlib.pyplot as plt\n",
    "\n",
    "# Function to display images\n",
    "def show_images(images, title, n=5):\n",
    "    plt.figure(figsize=(15, 5))\n",
    "    for i in range(min(n, len(images))):\n",
    "        plt.subplot(1, n, i + 1)\n",
    "        plt.imshow(images[i])\n",
    "        plt.axis('off')\n",
    "    plt.suptitle(title, fontsize=16)\n",
    "    plt.show()\n",
    "\n",
    "# Show some images from each category\n",
    "show_images(food_waste_images, \"Food Waste Images\")\n",
    "show_images(mixed_recycle_images, \"Mixed Recycle Images\")\n",
    "show_images(trash_images, \"Trash Images\")\n"
   ]
  },
  {
   "cell_type": "markdown",
   "metadata": {},
   "source": [
    "# GAN Architecture: \n",
    "* Generator: \n",
    "    * What It Does: Generates synthetic images from random noise.\n",
    "    * Purpose: Learns to create images that are indistinguishable from real ones.\n",
    "    * Why It's Important: Produces new data for augmentation, which helps balance your dataset.Takes random noise as input and generates images.\n",
    "* Discriminator: Takes real or generated images as input and predicts whether they are real or fake.\n",
    "    * What It Does: Classifies images as real or fake.\n",
    "    * Purpose: Helps the generator improve its ability to produce realistic images.\n",
    "    * Why It's Important: Provides feedback to the generator, guiding it towards producing better images.\n",
    "* GAN: Combines the generator and discriminator to train the generator to produce more realistic images.\n"
   ]
  },
  {
   "cell_type": "code",
   "execution_count": null,
   "metadata": {},
   "outputs": [],
   "source": [
    "# GAN architecture \n",
    "from tensorflow.keras import layers, Sequential\n",
    "\n",
    "\n",
    "def build_generator(latent_dim):\n",
    "    model = tf.keras.Sequential([\n",
    "        layers.Dense(128 * 16 * 16, activation=\"relu\", input_dim=latent_dim),  # Adjust size\n",
    "        layers.Reshape((16, 16, 128)),  # Adjust to (16, 16, 128)\n",
    "        layers.Conv2DTranspose(128, kernel_size=4, strides=2, padding=\"same\", activation=\"relu\"),  # Upsample to (32, 32, 128)\n",
    "        layers.Conv2DTranspose(128, kernel_size=4, strides=2, padding=\"same\", activation=\"relu\"),  # Upsample to (64, 64, 128)\n",
    "        layers.Conv2D(3, kernel_size=7, activation=\"tanh\", padding=\"same\")  # Final output (64, 64, 3)\n",
    "    ])\n",
    "    return model\n",
    "\n",
    "\n",
    "\n",
    "def build_discriminator(image_shape):\n",
    "    model = Sequential([\n",
    "        layers.Conv2D(64, kernel_size=4, strides=2, padding=\"same\", input_shape=image_shape),\n",
    "        layers.LeakyReLU(alpha=0.2),\n",
    "        layers.Conv2D(128, kernel_size=4, strides=2, padding=\"same\"),\n",
    "        layers.LeakyReLU(alpha=0.2),\n",
    "        layers.Flatten(),\n",
    "        layers.Dense(1, activation=\"sigmoid\")  # Binary classification (real/fake)\n",
    "    ])\n",
    "    return model\n"
   ]
  },
  {
   "cell_type": "code",
   "execution_count": null,
   "metadata": {},
   "outputs": [],
   "source": [
    "latent_dim = 100\n",
    "generator = build_generator(latent_dim)\n",
    "test_noise = tf.random.normal([1, latent_dim])  # Single random noise vector\n",
    "generated_image = generator(test_noise)\n",
    "print(f\"Generator output shape: {generated_image.shape}\")\n"
   ]
  },
  {
   "cell_type": "markdown",
   "metadata": {},
   "source": [
    "This step combines the Generator and Discriminator into a complete GAN system so that the Generator can learn through feedback from the Discriminator.\n",
    "* Frozen Discriminator: During GAN training, the discriminator's weights are \"frozen\" (non-trainable). This ensures that only the generator is updated during this phase. The discriminator indirectly trains the generator by providing signals on how well it is \"fooling\" it."
   ]
  },
  {
   "cell_type": "code",
   "execution_count": null,
   "metadata": {},
   "outputs": [],
   "source": [
    "\n",
    "\n",
    "import tensorflow as tf\n",
    "\n",
    "latent_dim = 100  # Size of noise vector\n",
    "image_shape = (64, 64, 3)  # Image dimensions\n",
    "\n",
    "# Instantiate models\n",
    "generator = build_generator(latent_dim)\n",
    "discriminator = build_discriminator(image_shape)\n",
    "\n",
    "# Compile discriminator\n",
    "discriminator.compile(optimizer=\"adam\", loss=\"binary_crossentropy\", metrics=[\"accuracy\"])\n",
    "\n",
    "# Build and compile GAN\n",
    "discriminator.trainable = False  # Freeze discriminator weights for GAN training\n",
    "gan_input = layers.Input(shape=(latent_dim,))\n",
    "generated_image = generator(gan_input)\n",
    "gan_output = discriminator(generated_image)\n",
    "gan = tf.keras.Model(gan_input, gan_output)\n",
    "gan.compile(optimizer=\"adam\", loss=\"binary_crossentropy\")\n"
   ]
  },
  {
   "cell_type": "code",
   "execution_count": null,
   "metadata": {},
   "outputs": [],
   "source": [
    "generator.summary()  # Prints a textual summary of the generator model\n",
    "tf.keras.utils.plot_model(generator, show_shapes=True, to_file=\"generator_architecture.png\")\n"
   ]
  },
  {
   "cell_type": "code",
   "execution_count": null,
   "metadata": {},
   "outputs": [],
   "source": [
    "discriminator.summary()  # Prints a textual summary of the discriminator model\n",
    "tf.keras.utils.plot_model(discriminator, show_shapes=True, to_file=\"discriminator_architecture.png\")\n"
   ]
  },
  {
   "cell_type": "code",
   "execution_count": null,
   "metadata": {},
   "outputs": [],
   "source": [
    "gan.summary()  # Prints a textual summary of the GAN model\n",
    "tf.keras.utils.plot_model(gan, show_shapes=True, to_file=\"gan_architecture.png\")\n"
   ]
  },
  {
   "cell_type": "markdown",
   "metadata": {},
   "source": [
    "Training a GAN involves a balance between improving both the Generator and the Discriminator. Here's how this happens:\n",
    "* Step 1: Train the Discriminator\n",
    "    * Goal: Make the discriminator better at distinguishing real images from fake images.\n",
    "    * Process:\n",
    "        * Select a batch of real images from the dataset.\n",
    "        * Generate a batch of fake images using the generator.\n",
    "        * Train the discriminator on both:\n",
    "        *Real images (label: 1)\n",
    "Fake images (label: 0)\n",
    "Loss Function: Binary cross-entropy, which evaluates how well the discriminator predicts the labels.\n",
    "Step 2: Train the Generator (via the GAN model)\n",
    "Goal: Make the generator produce more realistic images to \"fool\" the discriminator.\n",
    "Process:\n",
    "Generate random noise vectors.\n",
    "Use the generator to create synthetic images.\n",
    "Pass these images through the discriminator (via the GAN model).\n",
    "Train the generator with a label of 1 (it tries to make the discriminator believe the fake images are real).\n",
    "Why Is the Discriminator Frozen? The generator relies on the discriminator's feedback to improve, but we do not want the discriminator to learn during this step. The focus is solely on improving the generator."
   ]
  },
  {
   "cell_type": "code",
   "execution_count": null,
   "metadata": {},
   "outputs": [],
   "source": [
    "food_waste_images.shape"
   ]
  },
  {
   "cell_type": "code",
   "execution_count": null,
   "metadata": {},
   "outputs": [],
   "source": [
    "import numpy as np\n",
    "\n",
    "def train_gan(generator, discriminator, gan, real_images, epochs=10000, batch_size=64):\n",
    "    latent_dim = generator.input_shape[1]\n",
    "    half_batch = batch_size // 2\n",
    "\n",
    "    for epoch in range(epochs):\n",
    "        try:\n",
    "            # Train discriminator\n",
    "            idx = np.random.randint(0, real_images.shape[0], half_batch)\n",
    "            real_samples = real_images[idx]\n",
    "            noise = np.random.normal(0, 1, (half_batch, latent_dim))\n",
    "            fake_samples = generator.predict(noise)\n",
    "            real_labels = np.ones((half_batch, 1))\n",
    "            fake_labels = np.zeros((half_batch, 1))\n",
    "\n",
    "            # Debugging shapes\n",
    "            print(f\"Epoch {epoch}: Real {real_samples.shape}, Fake {fake_samples.shape}\")\n",
    "            print(f\"Real labels: {real_labels.shape}, Fake labels: {fake_labels.shape}\")\n",
    "\n",
    "            d_loss_real = discriminator.train_on_batch(real_samples, real_labels)\n",
    "            d_loss_fake = discriminator.train_on_batch(fake_samples, fake_labels)\n",
    "\n",
    "            # Train generator (via GAN model)\n",
    "            noise = np.random.normal(0, 1, (batch_size, latent_dim))\n",
    "            misleading_labels = np.ones((batch_size, 1))\n",
    "            g_loss = gan.train_on_batch(noise, misleading_labels)\n",
    "\n",
    "            # Print progress every 100 epochs\n",
    "            if epoch % 100 == 0:\n",
    "                print(f\"Epoch {epoch} | D Loss: {d_loss_real[0] + d_loss_fake[0]} | G Loss: {g_loss}\")\n",
    "        except Exception as e:\n",
    "            print(f\"Error at epoch {epoch}: {e}\")\n",
    "\n",
    "# Train GAN using food waste images\n",
    "train_gan(generator, discriminator, gan, food_waste_images, epochs=5000, batch_size=32)\n"
   ]
  },
  {
   "cell_type": "code",
   "execution_count": null,
   "metadata": {},
   "outputs": [],
   "source": [
    "# Generate synthetic images\n",
    "noise = np.random.normal(0, 1, (10, latent_dim))  # Generate 10 samples\n",
    "synthetic_images = generator.predict(noise)\n",
    "\n",
    "# Save generated images\n",
    "for i, img in enumerate(synthetic_images):\n",
    "    img = (img * 255).astype(np.uint8)  # Rescale to 0-255\n",
    "    Image.fromarray(img).save(f\"synthetic_image_{i}.png\")\n"
   ]
  },
  {
   "cell_type": "code",
   "execution_count": null,
   "metadata": {},
   "outputs": [],
   "source": [
    "# Generate synthetic images\n",
    "noise = np.random.normal(0, 1, (10, latent_dim))  # Generate 10 samples\n",
    "synthetic_images = generator.predict(noise)\n",
    "\n",
    "# Save generated images\n",
    "for i, img in enumerate(synthetic_images):\n",
    "    img = (img * 255).astype(np.uint8)  # Rescale to 0-255\n",
    "    Image.fromarray(img).save(f\"synthetic_image_{i}.png\")\n"
   ]
  },
  {
   "cell_type": "markdown",
   "metadata": {},
   "source": [
    "Model Building -- (GPT reccomended creating genators for the train and val data before)\n",
    "\n",
    "* Convolutional Layers (Conv2D): Extract features from images by applying filters.\n",
    "* MaxPooling Layers (MaxPooling2D): Reduce the spatial dimensions of feature maps to focus on key features.\n",
    "* Dropout Layers: Reduce overfitting by randomly disabling neurons during training.\n",
    "* Fully Connected Layer (Dense): Combines all extracted features to classify the images.\n",
    "* Output Layer: The softmax activation ensures probabilities for the 3 categories."
   ]
  },
  {
   "cell_type": "code",
   "execution_count": null,
   "metadata": {},
   "outputs": [],
   "source": [
    "# from tensorflow.keras.models import Sequential\n",
    "# from tensorflow.keras.layers import Conv2D, MaxPooling2D, Flatten, Dense, Dropout\n",
    "\n",
    "# model = Sequential([\n",
    "#     # First convolutional block\n",
    "#     Conv2D(32, (3, 3), activation='relu', input_shape=(128, 128, 3)),  # 32 filters, 3x3 kernel\n",
    "#     MaxPooling2D(pool_size=(2, 2)),  # Downsample feature maps by 2x2\n",
    "#     Dropout(0.25),  # Randomly disable 25% of neurons to prevent overfitting\n",
    "\n",
    "#     # Second convolutional block\n",
    "#     Conv2D(64, (3, 3), activation='relu'),  # 64 filters, 3x3 kernel\n",
    "#     MaxPooling2D(pool_size=(2, 2)),  # Downsample again\n",
    "#     Dropout(0.25),\n",
    "\n",
    "#     # Flatten and fully connected layers\n",
    "#     Flatten(),  # Flatten the 2D fpeature maps into 1D\n",
    "#     Dense(128, activation='relu'),  # Fully connected layer with 128 neurons\n",
    "#     Dropout(0.5),  # 50% dropout for regularization\n",
    "\n",
    "#     # Output layer\n",
    "#     Dense(3, activation='softmax')  # Final layer for 3 categories (food waste, mixed recycling, trash)\n",
    "# ])"
   ]
  },
  {
   "cell_type": "code",
   "execution_count": 13,
   "metadata": {},
   "outputs": [
    {
     "name": "stderr",
     "output_type": "stream",
     "text": [
      "Using cache found in /Users/loubenskybelile/.cache/torch/hub/ultralytics_yolov5_master\n"
     ]
    },
    {
     "name": "stdout",
     "output_type": "stream",
     "text": [
      "\u001b[31m\u001b[1mrequirements:\u001b[0m Ultralytics requirements ['gitpython>=3.1.30', 'setuptools>=70.0.0'] not found, attempting AutoUpdate...\n",
      "Requirement already satisfied: gitpython>=3.1.30 in /Users/loubenskybelile/anaconda3/lib/python3.10/site-packages (3.1.43)\n",
      "Requirement already satisfied: setuptools>=70.0.0 in /Users/loubenskybelile/anaconda3/lib/python3.10/site-packages (75.1.0)\n",
      "Requirement already satisfied: gitdb<5,>=4.0.1 in /Users/loubenskybelile/anaconda3/lib/python3.10/site-packages (from gitpython>=3.1.30) (4.0.11)\n",
      "Requirement already satisfied: smmap<6,>=3.0.1 in /Users/loubenskybelile/anaconda3/lib/python3.10/site-packages (from gitdb<5,>=4.0.1->gitpython>=3.1.30) (5.0.1)\n",
      "\n",
      "\u001b[31m\u001b[1mrequirements:\u001b[0m AutoUpdate success ✅ 2.2s, installed 2 packages: ['gitpython>=3.1.30', 'setuptools>=70.0.0']\n",
      "\u001b[31m\u001b[1mrequirements:\u001b[0m ⚠️ \u001b[1mRestart runtime or rerun command for updates to take effect\u001b[0m\n",
      "\n"
     ]
    },
    {
     "name": "stderr",
     "output_type": "stream",
     "text": [
      "YOLOv5 🚀 2024-12-8 Python-3.9.6 torch-2.5.1 CPU\n",
      "\n",
      "Downloading https://github.com/ultralytics/yolov5/releases/download/v7.0/yolov5s.pt to yolov5s.pt...\n",
      "100%|██████████| 14.1M/14.1M [00:01<00:00, 11.1MB/s]\n",
      "\n",
      "Fusing layers... \n",
      "YOLOv5s summary: 213 layers, 7225885 parameters, 0 gradients, 16.4 GFLOPs\n",
      "Adding AutoShape... \n"
     ]
    },
    {
     "name": "stdout",
     "output_type": "stream",
     "text": [
      "Filtered Detections:\n",
      "        xmin       ymin        xmax        ymax  confidence  class  name\n",
      "0  82.202858  49.422218  181.709503  197.195633    0.668750     41   cup\n",
      "1   0.131876  84.751144   56.802284  196.373810    0.333541     45  bowl\n",
      "Filtered detections saved to filtered_detections.csv\n"
     ]
    }
   ],
   "source": [
    "import torch\n",
    "import pandas as pd\n",
    "from PIL import Image\n",
    "\n",
    "# Load the YOLOv5 model (pre-trained on COCO dataset)\n",
    "model = torch.hub.load('ultralytics/yolov5', 'yolov5s')  # Use 'yolov5s' for a small, fast model\n",
    "\n",
    "# Path to the input image (replace with your image path)\n",
    "image_path = 'waste-images/paper_cups/default_Image_186.png'\n",
    "\n",
    "# Debug: Check the input image\n",
    "img = Image.open(image_path)\n",
    "img.show() \n",
    "\n",
    "# Run inference\n",
    "results = model(image_path)  # Perform object detection\n",
    "\n",
    "# Get detections as a Pandas DataFrame\n",
    "detections = results.pandas().xyxy[0]\n",
    "\n",
    "# Filter detections by confidence threshold (e.g., 0.25)\n",
    "confidence_threshold = 0.25\n",
    "filtered_detections = detections[detections['confidence'] > confidence_threshold]\n",
    "\n",
    "# Display filtered detections\n",
    "if filtered_detections.empty:\n",
    "    print(\"No objects detected above the confidence threshold.\")\n",
    "else:\n",
    "    print(\"Filtered Detections:\")\n",
    "    print(filtered_detections)\n",
    "\n",
    "# Save detections to a CSV file\n",
    "filtered_detections.to_csv('filtered_detections.csv', index=False)\n",
    "print(\"Filtered detections saved to filtered_detections.csv\")"
   ]
  },
  {
   "cell_type": "code",
   "execution_count": null,
   "metadata": {},
   "outputs": [],
   "source": [
    "import os\n",
    "import shutil\n",
    "from sklearn.model_selection import train_test_split\n",
    "\n",
    "# Define the paths for each category\n",
    "food_waste_dirs = ['waste-images/food_waste', 'waste-images/eggshells', 'waste-images/coffee_grounds', 'waste-images/tea_bags']\n",
    "mixed_recycle_dirs = ['waste-images/office_paper', 'waste-images/glass_food_jars', 'waste-images/aluminum_soda_cans', \n",
    "                      'waste-images/magazines', 'waste-images/plastic_soda_bottles', 'waste-images/aerosol_cans',\n",
    "                      'waste-images/aluminum_food_cans', 'waste-images/newspaper', 'waste-images/glass_cosmetic_containers',\n",
    "                      'waste-images/plastic_water_bottles', 'waste-images/steel_food_cans', 'waste-images/cardboard_packaging',\n",
    "                      'waste-images/cardboard_boxes', 'waste-images/glass_beverage_bottles', 'waste-images/plastic_food_containers',\n",
    "                      'waste-images/plastic_detergent_bottles']\n",
    "trash_dirs = ['waste-images/disposable_plastic_cutlery', 'waste-images/plastic_shopping_bags', 'waste-images/styrofoam_food_containers', \n",
    "              'waste-images/paper_cups', 'waste-images/plastic_straws', 'waste-images/styrofoam_cups', 'waste-images/shoes', \n",
    "              'waste-images/plastic_trash_bags']\n",
    "\n",
    "# Combine into categories\n",
    "categories = {\n",
    "    'Food Waste': food_waste_dirs,\n",
    "    'Mixed Recycle': mixed_recycle_dirs,\n",
    "    'Trash': trash_dirs\n",
    "}\n",
    "\n",
    "# Output directories\n",
    "train_dir = 'waste-images/train'\n",
    "val_dir = 'waste-images/val'\n",
    "test_dir = 'waste-images/test'\n",
    "split_ratios = (0.7, 0.2, 0.1)  # Train, validation, and test ratios\n",
    "\n",
    "# Create train, validation, and test directories\n",
    "for output_dir in [train_dir, val_dir, test_dir]:\n",
    "    os.makedirs(output_dir, exist_ok=True)\n",
    "    for category in categories.keys():\n",
    "        os.makedirs(os.path.join(output_dir, category), exist_ok=True)\n",
    "\n",
    "# Process and split data\n",
    "for category, subcategories in categories.items():\n",
    "    for sub_dir in subcategories:\n",
    "        if not os.path.exists(sub_dir):\n",
    "            print(f\"Warning: Subcategory folder '{sub_dir}' does not exist. Skipping...\")\n",
    "            continue\n",
    "\n",
    "        # Get list of images\n",
    "        images = [os.path.join(sub_dir, img) for img in os.listdir(sub_dir) if img.endswith(('png', 'jpg', 'jpeg'))]\n",
    "\n",
    "        # Split images into train, validation, and test sets\n",
    "        train_images, temp_images = train_test_split(images, train_size=split_ratios[0], random_state=42)\n",
    "        val_images, test_images = train_test_split(temp_images, test_size=split_ratios[2] / (split_ratios[1] + split_ratios[2]), random_state=42)\n",
    "\n",
    "        # Copy images to the appropriate directories\n",
    "        train_sub_dir = os.path.join(train_dir, category)\n",
    "        val_sub_dir = os.path.join(val_dir, category)\n",
    "        test_sub_dir = os.path.join(test_dir, category)\n",
    "\n",
    "        for img_path in train_images:\n",
    "            shutil.copy(img_path, train_sub_dir)\n",
    "        for img_path in val_images:\n",
    "            shutil.copy(img_path, val_sub_dir)\n",
    "        for img_path in test_images:\n",
    "            shutil.copy(img_path, test_sub_dir)\n",
    "\n",
    "        print(f\"Processed {len(images)} images from '{sub_dir}' into '{category}'.\")\n",
    "\n",
    "print(\"Folder creation and image splitting completed successfully.\")\n",
    "\n",
    "\n",
    "\n"
   ]
  },
  {
   "cell_type": "code",
   "execution_count": 19,
   "metadata": {},
   "outputs": [
    {
     "name": "stdout",
     "output_type": "stream",
     "text": [
      "Train directory contents: ['Food Waste', 'Trash', 'Mixed Recycle']\n",
      "Validation directory contents: ['Food Waste', 'Trash', 'Mixed Recycle']\n"
     ]
    }
   ],
   "source": [
    "import os\n",
    "print(\"Train directory contents:\", os.listdir(train_dir))\n",
    "print(\"Validation directory contents:\", os.listdir(val_dir))\n"
   ]
  },
  {
   "cell_type": "code",
   "execution_count": null,
   "metadata": {},
   "outputs": [],
   "source": []
  },
  {
   "cell_type": "code",
   "execution_count": 14,
   "metadata": {},
   "outputs": [
    {
     "name": "stdout",
     "output_type": "stream",
     "text": [
      "Found 1050 images belonging to 3 classes.\n",
      "Found 300 images belonging to 3 classes.\n",
      "Epoch 1/20\n",
      "\u001b[1m33/33\u001b[0m \u001b[32m━━━━━━━━━━━━━━━━━━━━\u001b[0m\u001b[37m\u001b[0m \u001b[1m9s\u001b[0m 181ms/step - accuracy: 0.4006 - loss: 1.1151 - val_accuracy: 0.5033 - val_loss: 0.9949\n",
      "Epoch 2/20\n",
      "\u001b[1m33/33\u001b[0m \u001b[32m━━━━━━━━━━━━━━━━━━━━\u001b[0m\u001b[37m\u001b[0m \u001b[1m8s\u001b[0m 250ms/step - accuracy: 0.5717 - loss: 0.9224 - val_accuracy: 0.5867 - val_loss: 0.8574\n",
      "Epoch 3/20\n",
      "\u001b[1m33/33\u001b[0m \u001b[32m━━━━━━━━━━━━━━━━━━━━\u001b[0m\u001b[37m\u001b[0m \u001b[1m7s\u001b[0m 201ms/step - accuracy: 0.6318 - loss: 0.8480 - val_accuracy: 0.7133 - val_loss: 0.6631\n",
      "Epoch 4/20\n",
      "\u001b[1m33/33\u001b[0m \u001b[32m━━━━━━━━━━━━━━━━━━━━\u001b[0m\u001b[37m\u001b[0m \u001b[1m7s\u001b[0m 213ms/step - accuracy: 0.6697 - loss: 0.7845 - val_accuracy: 0.6933 - val_loss: 0.7635\n",
      "Epoch 5/20\n",
      "\u001b[1m33/33\u001b[0m \u001b[32m━━━━━━━━━━━━━━━━━━━━\u001b[0m\u001b[37m\u001b[0m \u001b[1m6s\u001b[0m 176ms/step - accuracy: 0.7329 - loss: 0.6845 - val_accuracy: 0.7767 - val_loss: 0.5642\n",
      "Epoch 6/20\n",
      "\u001b[1m33/33\u001b[0m \u001b[32m━━━━━━━━━━━━━━━━━━━━\u001b[0m\u001b[37m\u001b[0m \u001b[1m5s\u001b[0m 160ms/step - accuracy: 0.7420 - loss: 0.6594 - val_accuracy: 0.7467 - val_loss: 0.6190\n",
      "Epoch 7/20\n",
      "\u001b[1m33/33\u001b[0m \u001b[32m━━━━━━━━━━━━━━━━━━━━\u001b[0m\u001b[37m\u001b[0m \u001b[1m5s\u001b[0m 157ms/step - accuracy: 0.7660 - loss: 0.6123 - val_accuracy: 0.7500 - val_loss: 0.6332\n",
      "Epoch 8/20\n",
      "\u001b[1m33/33\u001b[0m \u001b[32m━━━━━━━━━━━━━━━━━━━━\u001b[0m\u001b[37m\u001b[0m \u001b[1m5s\u001b[0m 152ms/step - accuracy: 0.7390 - loss: 0.6356 - val_accuracy: 0.7967 - val_loss: 0.5447\n",
      "Epoch 9/20\n",
      "\u001b[1m33/33\u001b[0m \u001b[32m━━━━━━━━━━━━━━━━━━━━\u001b[0m\u001b[37m\u001b[0m \u001b[1m5s\u001b[0m 154ms/step - accuracy: 0.7763 - loss: 0.5692 - val_accuracy: 0.8167 - val_loss: 0.5227\n",
      "Epoch 10/20\n",
      "\u001b[1m33/33\u001b[0m \u001b[32m━━━━━━━━━━━━━━━━━━━━\u001b[0m\u001b[37m\u001b[0m \u001b[1m5s\u001b[0m 154ms/step - accuracy: 0.7364 - loss: 0.6453 - val_accuracy: 0.7767 - val_loss: 0.5426\n",
      "Epoch 11/20\n",
      "\u001b[1m33/33\u001b[0m \u001b[32m━━━━━━━━━━━━━━━━━━━━\u001b[0m\u001b[37m\u001b[0m \u001b[1m5s\u001b[0m 150ms/step - accuracy: 0.7706 - loss: 0.5703 - val_accuracy: 0.8200 - val_loss: 0.4913\n",
      "Epoch 12/20\n",
      "\u001b[1m33/33\u001b[0m \u001b[32m━━━━━━━━━━━━━━━━━━━━\u001b[0m\u001b[37m\u001b[0m \u001b[1m5s\u001b[0m 152ms/step - accuracy: 0.7777 - loss: 0.5403 - val_accuracy: 0.7833 - val_loss: 0.5423\n",
      "Epoch 13/20\n",
      "\u001b[1m33/33\u001b[0m \u001b[32m━━━━━━━━━━━━━━━━━━━━\u001b[0m\u001b[37m\u001b[0m \u001b[1m5s\u001b[0m 157ms/step - accuracy: 0.7960 - loss: 0.5355 - val_accuracy: 0.8067 - val_loss: 0.4983\n",
      "Epoch 14/20\n",
      "\u001b[1m33/33\u001b[0m \u001b[32m━━━━━━━━━━━━━━━━━━━━\u001b[0m\u001b[37m\u001b[0m \u001b[1m5s\u001b[0m 164ms/step - accuracy: 0.7929 - loss: 0.5344 - val_accuracy: 0.8200 - val_loss: 0.5086\n",
      "Epoch 15/20\n",
      "\u001b[1m33/33\u001b[0m \u001b[32m━━━━━━━━━━━━━━━━━━━━\u001b[0m\u001b[37m\u001b[0m \u001b[1m5s\u001b[0m 150ms/step - accuracy: 0.7964 - loss: 0.5176 - val_accuracy: 0.7833 - val_loss: 0.5400\n",
      "Epoch 16/20\n",
      "\u001b[1m33/33\u001b[0m \u001b[32m━━━━━━━━━━━━━━━━━━━━\u001b[0m\u001b[37m\u001b[0m \u001b[1m5s\u001b[0m 154ms/step - accuracy: 0.7979 - loss: 0.5373 - val_accuracy: 0.8367 - val_loss: 0.4390\n",
      "Epoch 17/20\n",
      "\u001b[1m33/33\u001b[0m \u001b[32m━━━━━━━━━━━━━━━━━━━━\u001b[0m\u001b[37m\u001b[0m \u001b[1m5s\u001b[0m 150ms/step - accuracy: 0.8029 - loss: 0.4874 - val_accuracy: 0.7867 - val_loss: 0.4893\n",
      "Epoch 18/20\n",
      "\u001b[1m33/33\u001b[0m \u001b[32m━━━━━━━━━━━━━━━━━━━━\u001b[0m\u001b[37m\u001b[0m \u001b[1m5s\u001b[0m 156ms/step - accuracy: 0.7713 - loss: 0.5453 - val_accuracy: 0.8233 - val_loss: 0.4610\n",
      "Epoch 19/20\n",
      "\u001b[1m33/33\u001b[0m \u001b[32m━━━━━━━━━━━━━━━━━━━━\u001b[0m\u001b[37m\u001b[0m \u001b[1m6s\u001b[0m 169ms/step - accuracy: 0.7942 - loss: 0.5185 - val_accuracy: 0.8333 - val_loss: 0.4334\n",
      "Epoch 20/20\n",
      "\u001b[1m33/33\u001b[0m \u001b[32m━━━━━━━━━━━━━━━━━━━━\u001b[0m\u001b[37m\u001b[0m \u001b[1m5s\u001b[0m 149ms/step - accuracy: 0.8150 - loss: 0.4501 - val_accuracy: 0.8433 - val_loss: 0.3750\n"
     ]
    },
    {
     "name": "stderr",
     "output_type": "stream",
     "text": [
      "WARNING:absl:You are saving your model as an HDF5 file via `model.save()` or `keras.saving.save_model(model)`. This file format is considered legacy. We recommend using instead the native Keras format, e.g. `model.save('my_model.keras')` or `keras.saving.save_model(model, 'my_model.keras')`. \n"
     ]
    }
   ],
   "source": [
    "import tensorflow as tf\n",
    "from tensorflow.keras.models import Sequential\n",
    "from tensorflow.keras.layers import Conv2D, MaxPooling2D, Flatten, Dense, Dropout\n",
    "from tensorflow.keras.preprocessing.image import ImageDataGenerator\n",
    "from tensorflow.keras.optimizers import Adam\n",
    "\n",
    "# Define the model architecture\n",
    "def build_waste_classification_model(input_shape, num_classes):\n",
    "    model = Sequential([\n",
    "        # Convolutional Layers\n",
    "        Conv2D(32, (3, 3), activation='relu', input_shape=input_shape),\n",
    "        MaxPooling2D(pool_size=(2, 2)),\n",
    "        Dropout(0.2),\n",
    "        \n",
    "        Conv2D(64, (3, 3), activation='relu'),\n",
    "        MaxPooling2D(pool_size=(2, 2)),\n",
    "        Dropout(0.3),\n",
    "        \n",
    "        Conv2D(128, (3, 3), activation='relu'),\n",
    "        MaxPooling2D(pool_size=(2, 2)),\n",
    "        Dropout(0.4),\n",
    "        \n",
    "        # Flatten and Fully Connected Layers\n",
    "        Flatten(),\n",
    "        Dense(128, activation='relu'),\n",
    "        Dropout(0.5),\n",
    "        Dense(num_classes, activation='softmax')  # Output layer with softmax activation\n",
    "    ])\n",
    "    return model\n",
    "\n",
    "# Data augmentation\n",
    "def create_data_generators(train_dir, val_dir, image_size, batch_size):\n",
    "    train_datagen = ImageDataGenerator(\n",
    "        rescale=1./255,\n",
    "        rotation_range=20,\n",
    "        width_shift_range=0.2,\n",
    "        height_shift_range=0.2,\n",
    "        zoom_range=0.2,\n",
    "        horizontal_flip=True\n",
    "    )\n",
    "    val_datagen = ImageDataGenerator(rescale=1./255)\n",
    "\n",
    "    train_generator = train_datagen.flow_from_directory(\n",
    "        train_dir,\n",
    "        target_size=image_size,\n",
    "        batch_size=batch_size,\n",
    "        class_mode='categorical'\n",
    "    )\n",
    "    val_generator = val_datagen.flow_from_directory(\n",
    "        val_dir,\n",
    "        target_size=image_size,\n",
    "        batch_size=batch_size,\n",
    "        class_mode='categorical'\n",
    "    )\n",
    "    return train_generator, val_generator\n",
    "\n",
    "# Define parameters\n",
    "input_shape = (64, 64, 3)  # Image size (height, width, channels)\n",
    "num_classes = 3  # Food Waste, Mixed Recycle, Trash\n",
    "learning_rate = 0.001\n",
    "batch_size = 32\n",
    "epochs = 20\n",
    "train_dir = 'waste-images/train'\n",
    "val_dir = 'waste-images/val'\n",
    "\n",
    "\n",
    "# Create model\n",
    "model = build_waste_classification_model(input_shape, num_classes)\n",
    "model.compile(optimizer=Adam(learning_rate=learning_rate),\n",
    "              loss='categorical_crossentropy',\n",
    "              metrics=['accuracy'])\n",
    "\n",
    "# Generate data\n",
    "train_generator, val_generator = create_data_generators(train_dir, val_dir, (64, 64), batch_size)\n",
    "\n",
    "# Train the model\n",
    "history = model.fit(\n",
    "    train_generator,\n",
    "    epochs=epochs,\n",
    "    validation_data=val_generator\n",
    ")\n",
    "\n",
    "# Save the model\n",
    "model.save('waste_classification_model.h5')\n"
   ]
  },
  {
   "cell_type": "code",
   "execution_count": null,
   "metadata": {},
   "outputs": [
    {
     "name": "stdout",
     "output_type": "stream",
     "text": [
      "Found 1050 images belonging to 3 classes.\n",
      "Found 300 images belonging to 3 classes.\n",
      "Epoch 1/30\n",
      "\u001b[1m66/66\u001b[0m \u001b[32m━━━━━━━━━━━━━━━━━━━━\u001b[0m\u001b[37m\u001b[0m \u001b[1m6s\u001b[0m 67ms/step - accuracy: 0.3686 - loss: 1.1560 - val_accuracy: 0.4200 - val_loss: 1.0450\n",
      "Epoch 2/30\n",
      "\u001b[1m66/66\u001b[0m \u001b[32m━━━━━━━━━━━━━━━━━━━━\u001b[0m\u001b[37m\u001b[0m \u001b[1m3s\u001b[0m 48ms/step - accuracy: 0.4280 - loss: 1.0472 - val_accuracy: 0.5833 - val_loss: 0.9312\n",
      "Epoch 3/30\n",
      "\u001b[1m66/66\u001b[0m \u001b[32m━━━━━━━━━━━━━━━━━━━━\u001b[0m\u001b[37m\u001b[0m \u001b[1m3s\u001b[0m 50ms/step - accuracy: 0.6018 - loss: 0.9062 - val_accuracy: 0.6233 - val_loss: 0.8257\n",
      "Epoch 4/30\n",
      "\u001b[1m66/66\u001b[0m \u001b[32m━━━━━━━━━━━━━━━━━━━━\u001b[0m\u001b[37m\u001b[0m \u001b[1m3s\u001b[0m 48ms/step - accuracy: 0.6468 - loss: 0.8604 - val_accuracy: 0.6467 - val_loss: 0.7547\n",
      "Epoch 5/30\n",
      "\u001b[1m66/66\u001b[0m \u001b[32m━━━━━━━━━━━━━━━━━━━━\u001b[0m\u001b[37m\u001b[0m \u001b[1m3s\u001b[0m 49ms/step - accuracy: 0.6770 - loss: 0.7934 - val_accuracy: 0.7233 - val_loss: 0.6485\n",
      "Epoch 6/30\n",
      "\u001b[1m66/66\u001b[0m \u001b[32m━━━━━━━━━━━━━━━━━━━━\u001b[0m\u001b[37m\u001b[0m \u001b[1m3s\u001b[0m 48ms/step - accuracy: 0.7261 - loss: 0.6823 - val_accuracy: 0.7333 - val_loss: 0.6639\n",
      "Epoch 7/30\n",
      "\u001b[1m66/66\u001b[0m \u001b[32m━━━━━━━━━━━━━━━━━━━━\u001b[0m\u001b[37m\u001b[0m \u001b[1m3s\u001b[0m 50ms/step - accuracy: 0.7307 - loss: 0.6670 - val_accuracy: 0.7700 - val_loss: 0.6059\n",
      "Epoch 8/30\n",
      "\u001b[1m66/66\u001b[0m \u001b[32m━━━━━━━━━━━━━━━━━━━━\u001b[0m\u001b[37m\u001b[0m \u001b[1m3s\u001b[0m 48ms/step - accuracy: 0.7442 - loss: 0.6199 - val_accuracy: 0.7767 - val_loss: 0.5436\n",
      "Epoch 9/30\n",
      "\u001b[1m66/66\u001b[0m \u001b[32m━━━━━━━━━━━━━━━━━━━━\u001b[0m\u001b[37m\u001b[0m \u001b[1m4s\u001b[0m 57ms/step - accuracy: 0.7248 - loss: 0.7126 - val_accuracy: 0.8033 - val_loss: 0.5320\n",
      "Epoch 10/30\n",
      "\u001b[1m66/66\u001b[0m \u001b[32m━━━━━━━━━━━━━━━━━━━━\u001b[0m\u001b[37m\u001b[0m \u001b[1m4s\u001b[0m 62ms/step - accuracy: 0.7836 - loss: 0.5701 - val_accuracy: 0.8333 - val_loss: 0.4729\n",
      "Epoch 11/30\n",
      "\u001b[1m66/66\u001b[0m \u001b[32m━━━━━━━━━━━━━━━━━━━━\u001b[0m\u001b[37m\u001b[0m \u001b[1m3s\u001b[0m 50ms/step - accuracy: 0.7719 - loss: 0.5962 - val_accuracy: 0.7567 - val_loss: 0.5858\n",
      "Epoch 12/30\n",
      "\u001b[1m66/66\u001b[0m \u001b[32m━━━━━━━━━━━━━━━━━━━━\u001b[0m\u001b[37m\u001b[0m \u001b[1m3s\u001b[0m 51ms/step - accuracy: 0.7652 - loss: 0.5836 - val_accuracy: 0.7967 - val_loss: 0.5076\n",
      "Epoch 13/30\n",
      "\u001b[1m66/66\u001b[0m \u001b[32m━━━━━━━━━━━━━━━━━━━━\u001b[0m\u001b[37m\u001b[0m \u001b[1m3s\u001b[0m 52ms/step - accuracy: 0.7777 - loss: 0.5752 - val_accuracy: 0.8233 - val_loss: 0.4701\n",
      "Epoch 14/30\n",
      "\u001b[1m66/66\u001b[0m \u001b[32m━━━━━━━━━━━━━━━━━━━━\u001b[0m\u001b[37m\u001b[0m \u001b[1m4s\u001b[0m 53ms/step - accuracy: 0.7953 - loss: 0.5430 - val_accuracy: 0.8267 - val_loss: 0.5356\n",
      "Epoch 15/30\n",
      "\u001b[1m66/66\u001b[0m \u001b[32m━━━━━━━━━━━━━━━━━━━━\u001b[0m\u001b[37m\u001b[0m \u001b[1m4s\u001b[0m 57ms/step - accuracy: 0.7869 - loss: 0.5894 - val_accuracy: 0.7767 - val_loss: 0.5184\n",
      "Epoch 16/30\n",
      "\u001b[1m66/66\u001b[0m \u001b[32m━━━━━━━━━━━━━━━━━━━━\u001b[0m\u001b[37m\u001b[0m \u001b[1m4s\u001b[0m 60ms/step - accuracy: 0.7913 - loss: 0.5198 - val_accuracy: 0.8267 - val_loss: 0.4550\n",
      "Epoch 17/30\n",
      "\u001b[1m66/66\u001b[0m \u001b[32m━━━━━━━━━━━━━━━━━━━━\u001b[0m\u001b[37m\u001b[0m \u001b[1m4s\u001b[0m 53ms/step - accuracy: 0.8041 - loss: 0.5241 - val_accuracy: 0.8000 - val_loss: 0.5380\n",
      "Epoch 18/30\n",
      "\u001b[1m66/66\u001b[0m \u001b[32m━━━━━━━━━━━━━━━━━━━━\u001b[0m\u001b[37m\u001b[0m \u001b[1m3s\u001b[0m 51ms/step - accuracy: 0.8195 - loss: 0.4850 - val_accuracy: 0.8333 - val_loss: 0.4694\n",
      "Epoch 19/30\n",
      "\u001b[1m66/66\u001b[0m \u001b[32m━━━━━━━━━━━━━━━━━━━━\u001b[0m\u001b[37m\u001b[0m \u001b[1m3s\u001b[0m 51ms/step - accuracy: 0.8109 - loss: 0.4823 - val_accuracy: 0.8300 - val_loss: 0.4525\n",
      "Epoch 20/30\n",
      "\u001b[1m66/66\u001b[0m \u001b[32m━━━━━━━━━━━━━━━━━━━━\u001b[0m\u001b[37m\u001b[0m \u001b[1m3s\u001b[0m 50ms/step - accuracy: 0.8113 - loss: 0.4441 - val_accuracy: 0.8633 - val_loss: 0.4066\n",
      "Epoch 21/30\n",
      "\u001b[1m66/66\u001b[0m \u001b[32m━━━━━━━━━━━━━━━━━━━━\u001b[0m\u001b[37m\u001b[0m \u001b[1m3s\u001b[0m 51ms/step - accuracy: 0.7985 - loss: 0.5187 - val_accuracy: 0.8367 - val_loss: 0.4353\n",
      "Epoch 22/30\n",
      "\u001b[1m66/66\u001b[0m \u001b[32m━━━━━━━━━━━━━━━━━━━━\u001b[0m\u001b[37m\u001b[0m \u001b[1m3s\u001b[0m 50ms/step - accuracy: 0.7982 - loss: 0.5048 - val_accuracy: 0.8167 - val_loss: 0.5196\n",
      "Epoch 23/30\n",
      "\u001b[1m66/66\u001b[0m \u001b[32m━━━━━━━━━━━━━━━━━━━━\u001b[0m\u001b[37m\u001b[0m \u001b[1m3s\u001b[0m 51ms/step - accuracy: 0.8105 - loss: 0.4864 - val_accuracy: 0.8333 - val_loss: 0.4501\n",
      "Epoch 24/30\n",
      "\u001b[1m66/66\u001b[0m \u001b[32m━━━━━━━━━━━━━━━━━━━━\u001b[0m\u001b[37m\u001b[0m \u001b[1m3s\u001b[0m 51ms/step - accuracy: 0.8125 - loss: 0.4756 - val_accuracy: 0.8267 - val_loss: 0.4507\n",
      "Epoch 25/30\n",
      "\u001b[1m66/66\u001b[0m \u001b[32m━━━━━━━━━━━━━━━━━━━━\u001b[0m\u001b[37m\u001b[0m \u001b[1m3s\u001b[0m 51ms/step - accuracy: 0.8165 - loss: 0.4734 - val_accuracy: 0.7567 - val_loss: 0.5743\n",
      "Epoch 26/30\n",
      "\u001b[1m66/66\u001b[0m \u001b[32m━━━━━━━━━━━━━━━━━━━━\u001b[0m\u001b[37m\u001b[0m \u001b[1m4s\u001b[0m 54ms/step - accuracy: 0.8079 - loss: 0.4790 - val_accuracy: 0.8500 - val_loss: 0.4142\n",
      "Epoch 27/30\n",
      "\u001b[1m66/66\u001b[0m \u001b[32m━━━━━━━━━━━━━━━━━━━━\u001b[0m\u001b[37m\u001b[0m \u001b[1m3s\u001b[0m 52ms/step - accuracy: 0.8345 - loss: 0.4073 - val_accuracy: 0.8500 - val_loss: 0.4039\n",
      "Epoch 28/30\n",
      "\u001b[1m66/66\u001b[0m \u001b[32m━━━━━━━━━━━━━━━━━━━━\u001b[0m\u001b[37m\u001b[0m \u001b[1m4s\u001b[0m 54ms/step - accuracy: 0.8286 - loss: 0.4703 - val_accuracy: 0.8600 - val_loss: 0.4279\n",
      "Epoch 29/30\n",
      "\u001b[1m66/66\u001b[0m \u001b[32m━━━━━━━━━━━━━━━━━━━━\u001b[0m\u001b[37m\u001b[0m \u001b[1m4s\u001b[0m 56ms/step - accuracy: 0.8289 - loss: 0.4730 - val_accuracy: 0.8800 - val_loss: 0.3776\n",
      "Epoch 30/30\n",
      "\u001b[1m66/66\u001b[0m \u001b[32m━━━━━━━━━━━━━━━━━━━━\u001b[0m\u001b[37m\u001b[0m \u001b[1m4s\u001b[0m 57ms/step - accuracy: 0.8224 - loss: 0.4760 - val_accuracy: 0.8300 - val_loss: 0.5136\n"
     ]
    }
   ],
   "source": [
    "import tensorflow as tf\n",
    "from tensorflow.keras.models import Sequential\n",
    "from tensorflow.keras.layers import Conv2D, MaxPooling2D, Flatten, Dense, Dropout\n",
    "from tensorflow.keras.preprocessing.image import ImageDataGenerator\n",
    "from tensorflow.keras.optimizers import Adam\n",
    "\n",
    "# Define the model architecture\n",
    "def build_waste_classification_model(input_shape, num_classes):\n",
    "    model = Sequential([\n",
    "        # Convolutional Layers\n",
    "        Conv2D(32, (3, 3), activation='relu', input_shape=input_shape),\n",
    "        MaxPooling2D(pool_size=(2, 2)),\n",
    "        Dropout(0.2),\n",
    "        \n",
    "        Conv2D(64, (3, 3), activation='relu'),\n",
    "        MaxPooling2D(pool_size=(2, 2)),\n",
    "        Dropout(0.3),\n",
    "        \n",
    "        Conv2D(128, (3, 3), activation='relu'),\n",
    "        MaxPooling2D(pool_size=(2, 2)),\n",
    "        Dropout(0.7),\n",
    "        \n",
    "        # Flatten and Fully Connected Layers\n",
    "        Flatten(),\n",
    "        Dense(128, activation='relu'),\n",
    "        Dropout(0.6),\n",
    "        Dense(num_classes, activation='softmax')  # Output layer with softmax activation\n",
    "    ])\n",
    "    return model\n",
    "\n",
    "# Data augmentation\n",
    "def create_data_generators(train_dir, val_dir, image_size, batch_size):\n",
    "    train_datagen = ImageDataGenerator(\n",
    "        rescale=1./255,\n",
    "        rotation_range=20,\n",
    "        width_shift_range=0.2,\n",
    "        height_shift_range=0.2,\n",
    "        zoom_range=0.2,\n",
    "        horizontal_flip=True\n",
    "    )\n",
    "    val_datagen = ImageDataGenerator(rescale=1./255)\n",
    "\n",
    "    train_generator = train_datagen.flow_from_directory(\n",
    "        train_dir,\n",
    "        target_size=image_size,\n",
    "        batch_size=batch_size,\n",
    "        class_mode='categorical'\n",
    "    )\n",
    "    val_generator = val_datagen.flow_from_directory(\n",
    "        val_dir,\n",
    "        target_size=image_size,\n",
    "        batch_size=batch_size,\n",
    "        class_mode='categorical'\n",
    "    )\n",
    "    return train_generator, val_generator\n",
    "\n",
    "# Define parameters\n",
    "input_shape = (64, 64, 3)  # Image size (height, width, channels)\n",
    "num_classes = 3  # Food Waste, Mixed Recycle, Trash\n",
    "learning_rate = 0.001\n",
    "batch_size = 16\n",
    "epochs = 30\n",
    "train_dir = 'waste-images/train'\n",
    "val_dir = 'waste-images/val'\n",
    "\n",
    "\n",
    "# Create model\n",
    "model = build_waste_classification_model(input_shape, num_classes)\n",
    "model.compile(optimizer=Adam(learning_rate=learning_rate),\n",
    "              loss='categorical_crossentropy',\n",
    "              metrics=['accuracy'])\n",
    "\n",
    "# Generate data\n",
    "train_generator, val_generator = create_data_generators(train_dir, val_dir, (64, 64), batch_size)\n",
    "\n",
    "# Train the model\n",
    "history = model.fit(\n",
    "    train_generator,\n",
    "    epochs=epochs,\n",
    "    validation_data=val_generator\n",
    ")\n",
    "\n",
    "# Save the model\n",
    "model.save()\n"
   ]
  },
  {
   "cell_type": "code",
   "execution_count": null,
   "metadata": {},
   "outputs": [],
   "source": []
  },
  {
   "cell_type": "code",
   "execution_count": 16,
   "metadata": {},
   "outputs": [
    {
     "name": "stdout",
     "output_type": "stream",
     "text": [
      "Found 150 images belonging to 3 classes.\n",
      "\u001b[1m5/5\u001b[0m \u001b[32m━━━━━━━━━━━━━━━━━━━━\u001b[0m\u001b[37m\u001b[0m \u001b[1m1s\u001b[0m 79ms/step - accuracy: 0.9076 - loss: 0.2779\n",
      "Test Accuracy: 0.8933333158493042\n",
      "Test Loss: 0.296490341424942\n"
     ]
    }
   ],
   "source": [
    "import tensorflow as tf\n",
    "from tensorflow.keras.models import Sequential\n",
    "from tensorflow.keras.layers import Conv2D, MaxPooling2D, Flatten, Dense, Dropout\n",
    "from tensorflow.keras.preprocessing.image import ImageDataGenerator\n",
    "from tensorflow.keras.optimizers import Adam\n",
    "\n",
    "# Define the test directory\n",
    "test_dir = 'waste-images/test'  # Replace with your test directory path\n",
    "\n",
    "# Create the test data generator\n",
    "test_datagen = ImageDataGenerator(rescale=1./255)\n",
    "test_generator = test_datagen.flow_from_directory(\n",
    "    test_dir,\n",
    "    target_size=(64, 64),\n",
    "    batch_size=batch_size,\n",
    "    class_mode='categorical',\n",
    "    shuffle=False\n",
    ")\n",
    "\n",
    "# Evaluate the model on the test set\n",
    "test_loss, test_accuracy = model.evaluate(test_generator)\n",
    "print(f\"Test Accuracy: {test_accuracy}\")\n",
    "print(f\"Test Loss: {test_loss}\")\n"
   ]
  },
  {
   "cell_type": "code",
   "execution_count": 18,
   "metadata": {},
   "outputs": [],
   "source": [
    "import matplotlib.pyplot as plt\n",
    "\n",
    "# Plot accuracy\n",
    "plt.plot(history.history['accuracy'], label='Training Accuracy')\n",
    "plt.plot(history.history['val_accuracy'], label='Validation Accuracy')\n",
    "plt.legend()\n",
    "plt.title('Accuracy')\n",
    "plt.xlabel('Epochs')\n",
    "plt.ylabel('Accuracy')\n",
    "plt.show()\n",
    "\n",
    "# Plot loss\n",
    "plt.plot(history.history['loss'], label='Training Loss')\n",
    "plt.plot(history.history['val_loss'], label='Validation Loss')\n",
    "plt.legend()\n",
    "plt.title('Loss')\n",
    "plt.xlabel('Epochs')\n",
    "plt.ylabel('Loss')\n",
    "plt.show()\n"
   ]
  },
  {
   "cell_type": "markdown",
   "metadata": {},
   "source": []
  },
  {
   "cell_type": "code",
   "execution_count": 20,
   "metadata": {},
   "outputs": [
    {
     "name": "stdout",
     "output_type": "stream",
     "text": [
      "\u001b[1m5/5\u001b[0m \u001b[32m━━━━━━━━━━━━━━━━━━━━\u001b[0m\u001b[37m\u001b[0m \u001b[1m1s\u001b[0m 109ms/step\n",
      "[[46  1  3]\n",
      " [ 3 46  1]\n",
      " [ 5  3 42]]\n",
      "               precision    recall  f1-score   support\n",
      "\n",
      "   Food Waste       0.85      0.92      0.88        50\n",
      "Mixed Recycle       0.92      0.92      0.92        50\n",
      "        Trash       0.91      0.84      0.88        50\n",
      "\n",
      "     accuracy                           0.89       150\n",
      "    macro avg       0.89      0.89      0.89       150\n",
      " weighted avg       0.89      0.89      0.89       150\n",
      "\n"
     ]
    }
   ],
   "source": [
    "import numpy as np\n",
    "from sklearn.metrics import classification_report, confusion_matrix\n",
    "\n",
    "# Get predictions\n",
    "y_true = test_generator.classes\n",
    "y_pred = np.argmax(model.predict(test_generator), axis=-1)\n",
    "\n",
    "# Confusion matrix\n",
    "print(confusion_matrix(y_true, y_pred))\n",
    "\n",
    "# Classification report\n",
    "print(classification_report(y_true, y_pred, target_names=test_generator.class_indices.keys()))\n"
   ]
  },
  {
   "cell_type": "code",
   "execution_count": 21,
   "metadata": {},
   "outputs": [
    {
     "name": "stdout",
     "output_type": "stream",
     "text": [
      "\u001b[1m5/5\u001b[0m \u001b[32m━━━━━━━━━━━━━━━━━━━━\u001b[0m\u001b[37m\u001b[0m \u001b[1m1s\u001b[0m 93ms/step\n"
     ]
    }
   ],
   "source": [
    "import numpy as np\n",
    "import matplotlib.pyplot as plt\n",
    "\n",
    "# Get class indices from the test generator\n",
    "class_labels = list(test_generator.class_indices.keys())\n",
    "\n",
    "# Get predictions\n",
    "predictions = model.predict(test_generator)\n",
    "predicted_classes = np.argmax(predictions, axis=1)\n",
    "\n",
    "# Actual classes\n",
    "true_classes = test_generator.classes\n",
    "\n",
    "# Get file paths for test images\n",
    "test_images = test_generator.filepaths\n",
    "\n",
    "# Plot some images with their predicted and actual labels\n",
    "def plot_predictions(images, true_labels, predicted_labels, class_labels, num_images=10):\n",
    "    plt.figure(figsize=(15, num_images * 3))\n",
    "    for i in range(num_images):\n",
    "        plt.subplot(num_images // 5 + 1, 5, i + 1)\n",
    "        img = plt.imread(images[i])\n",
    "        plt.imshow(img)\n",
    "        plt.axis('off')\n",
    "        plt.title(\n",
    "            f\"True: {class_labels[true_labels[i]]}\\nPred: {class_labels[predicted_labels[i]]}\",\n",
    "            color=\"green\" if true_labels[i] == predicted_labels[i] else \"red\"\n",
    "        )\n",
    "    plt.tight_layout()\n",
    "    plt.show()\n",
    "\n",
    "# Call the function to plot\n",
    "plot_predictions(test_images, true_classes, predicted_classes, class_labels, num_images=10)\n"
   ]
  },
  {
   "cell_type": "code",
   "execution_count": 22,
   "metadata": {},
   "outputs": [
    {
     "name": "stdout",
     "output_type": "stream",
     "text": [
      "\u001b[1m5/5\u001b[0m \u001b[32m━━━━━━━━━━━━━━━━━━━━\u001b[0m\u001b[37m\u001b[0m \u001b[1m1s\u001b[0m 100ms/step\n"
     ]
    }
   ],
   "source": [
    "import numpy as np\n",
    "import matplotlib.pyplot as plt\n",
    "\n",
    "# Get class indices from the test generator\n",
    "class_labels = list(test_generator.class_indices.keys())\n",
    "\n",
    "# Get predictions\n",
    "predictions = model.predict(test_generator)\n",
    "predicted_classes = np.argmax(predictions, axis=1)\n",
    "\n",
    "# Actual classes\n",
    "true_classes = test_generator.classes\n",
    "\n",
    "# Get file paths for test images\n",
    "test_images = test_generator.filepaths\n",
    "\n",
    "# Function to plot images with predictions\n",
    "def plot_all_predictions(images, true_labels, predicted_labels, class_labels, batch_size=20):\n",
    "    num_images = len(images)\n",
    "    plt.figure(figsize=(15, batch_size // 5 * 3))\n",
    "    for i in range(num_images):\n",
    "        plt.subplot((num_images // 5) + 1, 5, i + 1)\n",
    "        img = plt.imread(images[i])\n",
    "        plt.imshow(img)\n",
    "        plt.axis('off')\n",
    "        plt.title(\n",
    "            f\"True: {class_labels[true_labels[i]]}\\nPred: {class_labels[predicted_labels[i]]}\",\n",
    "            color=\"green\" if true_labels[i] == predicted_labels[i] else \"red\",\n",
    "            fontsize=10\n",
    "        )\n",
    "    plt.tight_layout()\n",
    "    plt.show()\n",
    "\n",
    "# Call the function to plot all test images\n",
    "plot_all_predictions(test_images, true_classes, predicted_classes, class_labels)\n"
   ]
  },
  {
   "cell_type": "code",
   "execution_count": 23,
   "metadata": {},
   "outputs": [
    {
     "name": "stdout",
     "output_type": "stream",
     "text": [
      "\u001b[1m5/5\u001b[0m \u001b[32m━━━━━━━━━━━━━━━━━━━━\u001b[0m\u001b[37m\u001b[0m \u001b[1m1s\u001b[0m 112ms/step\n"
     ]
    },
    {
     "data": {
      "application/vnd.plotly.v1+json": {
       "config": {
        "plotlyServerURL": "https://plot.ly"
       },
       "data": [
        {
         "customdata": [
          [
           "waste-images/test/Mixed Recycle/default_Image_112.png",
           "Mixed Recycle",
           "<img src='waste-images/test/Mixed Recycle/default_Image_112.png' style='max-width:150px;'>"
          ],
          [
           "waste-images/test/Trash/default_Image_103.png",
           "Trash",
           "<img src='waste-images/test/Trash/default_Image_103.png' style='max-width:150px;'>"
          ],
          [
           "waste-images/test/Mixed Recycle/default_Image_12.png",
           "Mixed Recycle",
           "<img src='waste-images/test/Mixed Recycle/default_Image_12.png' style='max-width:150px;'>"
          ],
          [
           "waste-images/test/Trash/default_Image_136.png",
           "Trash",
           "<img src='waste-images/test/Trash/default_Image_136.png' style='max-width:150px;'>"
          ],
          [
           "waste-images/test/Mixed Recycle/default_Image_111.png",
           "Mixed Recycle",
           "<img src='waste-images/test/Mixed Recycle/default_Image_111.png' style='max-width:150px;'>"
          ],
          [
           "waste-images/test/Trash/default_Image_214.png",
           "Trash",
           "<img src='waste-images/test/Trash/default_Image_214.png' style='max-width:150px;'>"
          ],
          [
           "waste-images/test/Trash/real_world_Image_42.png",
           "Trash",
           "<img src='waste-images/test/Trash/real_world_Image_42.png' style='max-width:150px;'>"
          ],
          [
           "waste-images/test/Mixed Recycle/real_world_Image_223.png",
           "Mixed Recycle",
           "<img src='waste-images/test/Mixed Recycle/real_world_Image_223.png' style='max-width:150px;'>"
          ],
          [
           "waste-images/test/Trash/default_Image_241.png",
           "Trash",
           "<img src='waste-images/test/Trash/default_Image_241.png' style='max-width:150px;'>"
          ],
          [
           "waste-images/test/Trash/default_Image_21.png",
           "Trash",
           "<img src='waste-images/test/Trash/default_Image_21.png' style='max-width:150px;'>"
          ],
          [
           "waste-images/test/Food Waste/default_Image_127.png",
           "Food Waste",
           "<img src='waste-images/test/Food Waste/default_Image_127.png' style='max-width:150px;'>"
          ],
          [
           "waste-images/test/Food Waste/real_world_Image_118.png",
           "Food Waste",
           "<img src='waste-images/test/Food Waste/real_world_Image_118.png' style='max-width:150px;'>"
          ],
          [
           "waste-images/test/Trash/default_Image_98.png",
           "Trash",
           "<img src='waste-images/test/Trash/default_Image_98.png' style='max-width:150px;'>"
          ],
          [
           "waste-images/test/Trash/default_Image_67.png",
           "Trash",
           "<img src='waste-images/test/Trash/default_Image_67.png' style='max-width:150px;'>"
          ],
          [
           "waste-images/test/Food Waste/real_world_Image_248.png",
           "Food Waste",
           "<img src='waste-images/test/Food Waste/real_world_Image_248.png' style='max-width:150px;'>"
          ],
          [
           "waste-images/test/Food Waste/real_world_Image_106.png",
           "Food Waste",
           "<img src='waste-images/test/Food Waste/real_world_Image_106.png' style='max-width:150px;'>"
          ],
          [
           "waste-images/test/Food Waste/default_Image_207.png",
           "Food Waste",
           "<img src='waste-images/test/Food Waste/default_Image_207.png' style='max-width:150px;'>"
          ],
          [
           "waste-images/test/Mixed Recycle/real_world_Image_65.png",
           "Mixed Recycle",
           "<img src='waste-images/test/Mixed Recycle/real_world_Image_65.png' style='max-width:150px;'>"
          ],
          [
           "waste-images/test/Mixed Recycle/default_Image_236.png",
           "Mixed Recycle",
           "<img src='waste-images/test/Mixed Recycle/default_Image_236.png' style='max-width:150px;'>"
          ],
          [
           "waste-images/test/Food Waste/default_Image_45.png",
           "Food Waste",
           "<img src='waste-images/test/Food Waste/default_Image_45.png' style='max-width:150px;'>"
          ],
          [
           "waste-images/test/Food Waste/real_world_Image_82.png",
           "Food Waste",
           "<img src='waste-images/test/Food Waste/real_world_Image_82.png' style='max-width:150px;'>"
          ],
          [
           "waste-images/test/Trash/real_world_Image_65.png",
           "Trash",
           "<img src='waste-images/test/Trash/real_world_Image_65.png' style='max-width:150px;'>"
          ],
          [
           "waste-images/test/Mixed Recycle/default_Image_200.png",
           "Mixed Recycle",
           "<img src='waste-images/test/Mixed Recycle/default_Image_200.png' style='max-width:150px;'>"
          ],
          [
           "waste-images/test/Trash/default_Image_132.png",
           "Trash",
           "<img src='waste-images/test/Trash/default_Image_132.png' style='max-width:150px;'>"
          ],
          [
           "waste-images/test/Mixed Recycle/real_world_Image_219.png",
           "Mixed Recycle",
           "<img src='waste-images/test/Mixed Recycle/real_world_Image_219.png' style='max-width:150px;'>"
          ],
          [
           "waste-images/test/Mixed Recycle/default_Image_67.png",
           "Mixed Recycle",
           "<img src='waste-images/test/Mixed Recycle/default_Image_67.png' style='max-width:150px;'>"
          ],
          [
           "waste-images/test/Trash/real_world_Image_127.png",
           "Trash",
           "<img src='waste-images/test/Trash/real_world_Image_127.png' style='max-width:150px;'>"
          ],
          [
           "waste-images/test/Mixed Recycle/default_Image_241.png",
           "Mixed Recycle",
           "<img src='waste-images/test/Mixed Recycle/default_Image_241.png' style='max-width:150px;'>"
          ],
          [
           "waste-images/test/Trash/real_world_Image_222.png",
           "Trash",
           "<img src='waste-images/test/Trash/real_world_Image_222.png' style='max-width:150px;'>"
          ],
          [
           "waste-images/test/Food Waste/real_world_Image_157.png",
           "Food Waste",
           "<img src='waste-images/test/Food Waste/real_world_Image_157.png' style='max-width:150px;'>"
          ],
          [
           "waste-images/test/Food Waste/default_Image_200.png",
           "Food Waste",
           "<img src='waste-images/test/Food Waste/default_Image_200.png' style='max-width:150px;'>"
          ],
          [
           "waste-images/test/Food Waste/default_Image_111.png",
           "Food Waste",
           "<img src='waste-images/test/Food Waste/default_Image_111.png' style='max-width:150px;'>"
          ],
          [
           "waste-images/test/Trash/real_world_Image_13.png",
           "Trash",
           "<img src='waste-images/test/Trash/real_world_Image_13.png' style='max-width:150px;'>"
          ],
          [
           "waste-images/test/Trash/default_Image_79.png",
           "Trash",
           "<img src='waste-images/test/Trash/default_Image_79.png' style='max-width:150px;'>"
          ],
          [
           "waste-images/test/Trash/real_world_Image_155.png",
           "Trash",
           "<img src='waste-images/test/Trash/real_world_Image_155.png' style='max-width:150px;'>"
          ],
          [
           "waste-images/test/Food Waste/default_Image_86.png",
           "Food Waste",
           "<img src='waste-images/test/Food Waste/default_Image_86.png' style='max-width:150px;'>"
          ],
          [
           "waste-images/test/Mixed Recycle/real_world_Image_106.png",
           "Mixed Recycle",
           "<img src='waste-images/test/Mixed Recycle/real_world_Image_106.png' style='max-width:150px;'>"
          ],
          [
           "waste-images/test/Food Waste/real_world_Image_65.png",
           "Food Waste",
           "<img src='waste-images/test/Food Waste/real_world_Image_65.png' style='max-width:150px;'>"
          ],
          [
           "waste-images/test/Mixed Recycle/real_world_Image_157.png",
           "Mixed Recycle",
           "<img src='waste-images/test/Mixed Recycle/real_world_Image_157.png' style='max-width:150px;'>"
          ],
          [
           "waste-images/test/Trash/real_world_Image_75.png",
           "Trash",
           "<img src='waste-images/test/Trash/real_world_Image_75.png' style='max-width:150px;'>"
          ],
          [
           "waste-images/test/Food Waste/real_world_Image_223.png",
           "Food Waste",
           "<img src='waste-images/test/Food Waste/real_world_Image_223.png' style='max-width:150px;'>"
          ],
          [
           "waste-images/test/Mixed Recycle/real_world_Image_82.png",
           "Mixed Recycle",
           "<img src='waste-images/test/Mixed Recycle/real_world_Image_82.png' style='max-width:150px;'>"
          ],
          [
           "waste-images/test/Mixed Recycle/real_world_Image_6.png",
           "Mixed Recycle",
           "<img src='waste-images/test/Mixed Recycle/real_world_Image_6.png' style='max-width:150px;'>"
          ],
          [
           "waste-images/test/Mixed Recycle/real_world_Image_231.png",
           "Mixed Recycle",
           "<img src='waste-images/test/Mixed Recycle/real_world_Image_231.png' style='max-width:150px;'>"
          ],
          [
           "waste-images/test/Food Waste/default_Image_161.png",
           "Food Waste",
           "<img src='waste-images/test/Food Waste/default_Image_161.png' style='max-width:150px;'>"
          ],
          [
           "waste-images/test/Food Waste/real_world_Image_217.png",
           "Food Waste",
           "<img src='waste-images/test/Food Waste/real_world_Image_217.png' style='max-width:150px;'>"
          ],
          [
           "waste-images/test/Trash/real_world_Image_248.png",
           "Trash",
           "<img src='waste-images/test/Trash/real_world_Image_248.png' style='max-width:150px;'>"
          ],
          [
           "waste-images/test/Food Waste/default_Image_132.png",
           "Food Waste",
           "<img src='waste-images/test/Food Waste/default_Image_132.png' style='max-width:150px;'>"
          ],
          [
           "waste-images/test/Mixed Recycle/real_world_Image_75.png",
           "Mixed Recycle",
           "<img src='waste-images/test/Mixed Recycle/real_world_Image_75.png' style='max-width:150px;'>"
          ],
          [
           "waste-images/test/Mixed Recycle/default_Image_98.png",
           "Mixed Recycle",
           "<img src='waste-images/test/Mixed Recycle/default_Image_98.png' style='max-width:150px;'>"
          ],
          [
           "waste-images/test/Food Waste/real_world_Image_127.png",
           "Food Waste",
           "<img src='waste-images/test/Food Waste/real_world_Image_127.png' style='max-width:150px;'>"
          ],
          [
           "waste-images/test/Trash/real_world_Image_106.png",
           "Trash",
           "<img src='waste-images/test/Trash/real_world_Image_106.png' style='max-width:150px;'>"
          ],
          [
           "waste-images/test/Mixed Recycle/real_world_Image_25.png",
           "Mixed Recycle",
           "<img src='waste-images/test/Mixed Recycle/real_world_Image_25.png' style='max-width:150px;'>"
          ],
          [
           "waste-images/test/Food Waste/real_world_Image_110.png",
           "Food Waste",
           "<img src='waste-images/test/Food Waste/real_world_Image_110.png' style='max-width:150px;'>"
          ],
          [
           "waste-images/test/Trash/default_Image_87.png",
           "Trash",
           "<img src='waste-images/test/Trash/default_Image_87.png' style='max-width:150px;'>"
          ],
          [
           "waste-images/test/Trash/default_Image_207.png",
           "Trash",
           "<img src='waste-images/test/Trash/default_Image_207.png' style='max-width:150px;'>"
          ],
          [
           "waste-images/test/Food Waste/real_world_Image_241.png",
           "Food Waste",
           "<img src='waste-images/test/Food Waste/real_world_Image_241.png' style='max-width:150px;'>"
          ],
          [
           "waste-images/test/Food Waste/real_world_Image_42.png",
           "Food Waste",
           "<img src='waste-images/test/Food Waste/real_world_Image_42.png' style='max-width:150px;'>"
          ],
          [
           "waste-images/test/Mixed Recycle/default_Image_21.png",
           "Mixed Recycle",
           "<img src='waste-images/test/Mixed Recycle/default_Image_21.png' style='max-width:150px;'>"
          ],
          [
           "waste-images/test/Mixed Recycle/default_Image_103.png",
           "Mixed Recycle",
           "<img src='waste-images/test/Mixed Recycle/default_Image_103.png' style='max-width:150px;'>"
          ],
          [
           "waste-images/test/Trash/real_world_Image_157.png",
           "Trash",
           "<img src='waste-images/test/Trash/real_world_Image_157.png' style='max-width:150px;'>"
          ],
          [
           "waste-images/test/Trash/default_Image_111.png",
           "Trash",
           "<img src='waste-images/test/Trash/default_Image_111.png' style='max-width:150px;'>"
          ],
          [
           "waste-images/test/Food Waste/real_world_Image_222.png",
           "Food Waste",
           "<img src='waste-images/test/Food Waste/real_world_Image_222.png' style='max-width:150px;'>"
          ],
          [
           "waste-images/test/Trash/real_world_Image_241.png",
           "Trash",
           "<img src='waste-images/test/Trash/real_world_Image_241.png' style='max-width:150px;'>"
          ],
          [
           "waste-images/test/Trash/real_world_Image_82.png",
           "Trash",
           "<img src='waste-images/test/Trash/real_world_Image_82.png' style='max-width:150px;'>"
          ],
          [
           "waste-images/test/Trash/default_Image_200.png",
           "Trash",
           "<img src='waste-images/test/Trash/default_Image_200.png' style='max-width:150px;'>"
          ],
          [
           "waste-images/test/Mixed Recycle/default_Image_207.png",
           "Mixed Recycle",
           "<img src='waste-images/test/Mixed Recycle/default_Image_207.png' style='max-width:150px;'>"
          ],
          [
           "waste-images/test/Trash/default_Image_127.png",
           "Trash",
           "<img src='waste-images/test/Trash/default_Image_127.png' style='max-width:150px;'>"
          ],
          [
           "waste-images/test/Mixed Recycle/default_Image_86.png",
           "Mixed Recycle",
           "<img src='waste-images/test/Mixed Recycle/default_Image_86.png' style='max-width:150px;'>"
          ],
          [
           "waste-images/test/Food Waste/default_Image_236.png",
           "Food Waste",
           "<img src='waste-images/test/Food Waste/default_Image_236.png' style='max-width:150px;'>"
          ],
          [
           "waste-images/test/Trash/real_world_Image_6.png",
           "Trash",
           "<img src='waste-images/test/Trash/real_world_Image_6.png' style='max-width:150px;'>"
          ],
          [
           "waste-images/test/Food Waste/real_world_Image_13.png",
           "Food Waste",
           "<img src='waste-images/test/Food Waste/real_world_Image_13.png' style='max-width:150px;'>"
          ],
          [
           "waste-images/test/Food Waste/real_world_Image_6.png",
           "Food Waste",
           "<img src='waste-images/test/Food Waste/real_world_Image_6.png' style='max-width:150px;'>"
          ],
          [
           "waste-images/test/Food Waste/real_world_Image_139.png",
           "Food Waste",
           "<img src='waste-images/test/Food Waste/real_world_Image_139.png' style='max-width:150px;'>"
          ],
          [
           "waste-images/test/Trash/real_world_Image_231.png",
           "Trash",
           "<img src='waste-images/test/Trash/real_world_Image_231.png' style='max-width:150px;'>"
          ],
          [
           "waste-images/test/Mixed Recycle/real_world_Image_155.png",
           "Mixed Recycle",
           "<img src='waste-images/test/Mixed Recycle/real_world_Image_155.png' style='max-width:150px;'>"
          ],
          [
           "waste-images/test/Mixed Recycle/real_world_Image_229.png",
           "Mixed Recycle",
           "<img src='waste-images/test/Mixed Recycle/real_world_Image_229.png' style='max-width:150px;'>"
          ],
          [
           "waste-images/test/Trash/real_world_Image_118.png",
           "Trash",
           "<img src='waste-images/test/Trash/real_world_Image_118.png' style='max-width:150px;'>"
          ],
          [
           "waste-images/test/Food Waste/default_Image_67.png",
           "Food Waste",
           "<img src='waste-images/test/Food Waste/default_Image_67.png' style='max-width:150px;'>"
          ],
          [
           "waste-images/test/Mixed Recycle/real_world_Image_230.png",
           "Mixed Recycle",
           "<img src='waste-images/test/Mixed Recycle/real_world_Image_230.png' style='max-width:150px;'>"
          ],
          [
           "waste-images/test/Food Waste/real_world_Image_75.png",
           "Food Waste",
           "<img src='waste-images/test/Food Waste/real_world_Image_75.png' style='max-width:150px;'>"
          ],
          [
           "waste-images/test/Food Waste/default_Image_3.png",
           "Food Waste",
           "<img src='waste-images/test/Food Waste/default_Image_3.png' style='max-width:150px;'>"
          ],
          [
           "waste-images/test/Mixed Recycle/real_world_Image_131.png",
           "Mixed Recycle",
           "<img src='waste-images/test/Mixed Recycle/real_world_Image_131.png' style='max-width:150px;'>"
          ],
          [
           "waste-images/test/Trash/default_Image_174.png",
           "Trash",
           "<img src='waste-images/test/Trash/default_Image_174.png' style='max-width:150px;'>"
          ],
          [
           "waste-images/test/Mixed Recycle/real_world_Image_217.png",
           "Mixed Recycle",
           "<img src='waste-images/test/Mixed Recycle/real_world_Image_217.png' style='max-width:150px;'>"
          ],
          [
           "waste-images/test/Trash/default_Image_86.png",
           "Trash",
           "<img src='waste-images/test/Trash/default_Image_86.png' style='max-width:150px;'>"
          ],
          [
           "waste-images/test/Mixed Recycle/default_Image_79.png",
           "Mixed Recycle",
           "<img src='waste-images/test/Mixed Recycle/default_Image_79.png' style='max-width:150px;'>"
          ]
         ],
         "hovertemplate": "%{customdata[0]}<br>True: %{customdata[1]}<br>Pred: %{customdata[2]}<br>Conf: %{customdata[3]}",
         "legendgroup": "True",
         "marker": {
          "color": "#636efa",
          "size": 10,
          "symbol": "circle"
         },
         "mode": "markers",
         "name": "True",
         "orientation": "h",
         "showlegend": true,
         "type": "scatter",
         "x": [
          0.5950714349746704,
          0.9815120697021484,
          0.9979695677757263,
          0.4426749646663666,
          0.9945650100708008,
          0.9810883402824402,
          0.9413434267044067,
          0.47403615713119507,
          0.9965227842330933,
          0.8219415545463562,
          0.983411967754364,
          0.662485659122467,
          0.9999281167984009,
          0.9987128973007202,
          0.9276333451271057,
          0.4240116477012634,
          0.7093544006347656,
          0.9988812804222107,
          0.8486422300338745,
          0.8073220252990723,
          0.9657003283500671,
          0.9989501237869263,
          0.7417657375335693,
          0.9999182820320129,
          0.746491551399231,
          0.9995230436325073,
          0.9982622265815735,
          0.6141789555549622,
          0.9996021389961243,
          0.9758277535438538,
          0.9933035373687744,
          0.8536605834960938,
          0.9999293088912964,
          0.5056942701339722,
          0.9985435009002686,
          0.7844541072845459,
          0.980270266532898,
          0.9832441210746765,
          0.9382714629173279,
          0.9985962510108948,
          0.8297489285469055,
          0.49507176876068115,
          0.6524668335914612,
          0.9872813820838928,
          0.8974716663360596,
          0.8536605834960938,
          0.6019957065582275,
          0.9941423535346985,
          0.8622615933418274,
          0.9137060046195984,
          0.5569564700126648,
          0.9545870423316956,
          0.9964699745178223,
          0.9796443581581116,
          0.9999532699584961,
          0.6430058479309082,
          0.9391841292381287,
          0.9445590376853943,
          0.948768138885498,
          0.6995962858200073,
          0.9865245819091797,
          0.9676055908203125,
          0.8222678303718567,
          0.9994548559188843,
          0.9987128973007202,
          0.9863629937171936,
          0.9435905814170837,
          0.9999590516090393,
          0.638257622718811,
          0.9521337747573853,
          0.7353328466415405,
          0.9582250714302063,
          0.8882668018341064,
          0.9412376284599304,
          0.9949192404747009,
          0.9959498047828674,
          0.9750529527664185,
          0.4841279089450836,
          0.9631473422050476,
          0.904144287109375,
          0.9004396796226501,
          0.9730657339096069,
          0.9942082762718201,
          0.9999532699584961,
          0.9137060046195984,
          0.9983766674995422,
          0.6754864454269409
         ],
         "xaxis": "x",
         "y": [
          "Mixed Recycle",
          "Trash",
          "Mixed Recycle",
          "Trash",
          "Mixed Recycle",
          "Trash",
          "Trash",
          "Mixed Recycle",
          "Trash",
          "Trash",
          "Food Waste",
          "Food Waste",
          "Trash",
          "Trash",
          "Food Waste",
          "Food Waste",
          "Food Waste",
          "Mixed Recycle",
          "Mixed Recycle",
          "Food Waste",
          "Food Waste",
          "Trash",
          "Mixed Recycle",
          "Trash",
          "Mixed Recycle",
          "Mixed Recycle",
          "Trash",
          "Mixed Recycle",
          "Trash",
          "Food Waste",
          "Food Waste",
          "Food Waste",
          "Trash",
          "Trash",
          "Trash",
          "Food Waste",
          "Mixed Recycle",
          "Food Waste",
          "Mixed Recycle",
          "Trash",
          "Food Waste",
          "Mixed Recycle",
          "Mixed Recycle",
          "Mixed Recycle",
          "Food Waste",
          "Food Waste",
          "Trash",
          "Food Waste",
          "Mixed Recycle",
          "Mixed Recycle",
          "Food Waste",
          "Trash",
          "Mixed Recycle",
          "Food Waste",
          "Trash",
          "Trash",
          "Food Waste",
          "Food Waste",
          "Mixed Recycle",
          "Mixed Recycle",
          "Trash",
          "Trash",
          "Food Waste",
          "Trash",
          "Trash",
          "Trash",
          "Mixed Recycle",
          "Trash",
          "Mixed Recycle",
          "Food Waste",
          "Trash",
          "Food Waste",
          "Food Waste",
          "Food Waste",
          "Trash",
          "Mixed Recycle",
          "Mixed Recycle",
          "Trash",
          "Food Waste",
          "Mixed Recycle",
          "Food Waste",
          "Food Waste",
          "Mixed Recycle",
          "Trash",
          "Mixed Recycle",
          "Trash",
          "Mixed Recycle"
         ],
         "yaxis": "y"
        },
        {
         "customdata": [
          [
           "waste-images/test/Trash/real_world_Image_223.png",
           "Mixed Recycle",
           "<img src='waste-images/test/Trash/real_world_Image_223.png' style='max-width:150px;'>"
          ],
          [
           "waste-images/test/Mixed Recycle/real_world_Image_184.png",
           "Trash",
           "<img src='waste-images/test/Mixed Recycle/real_world_Image_184.png' style='max-width:150px;'>"
          ],
          [
           "waste-images/test/Trash/default_Image_236.png",
           "Food Waste",
           "<img src='waste-images/test/Trash/default_Image_236.png' style='max-width:150px;'>"
          ],
          [
           "waste-images/test/Food Waste/default_Image_174.png",
           "Trash",
           "<img src='waste-images/test/Food Waste/default_Image_174.png' style='max-width:150px;'>"
          ],
          [
           "waste-images/test/Trash/real_world_Image_131.png",
           "Food Waste",
           "<img src='waste-images/test/Trash/real_world_Image_131.png' style='max-width:150px;'>"
          ],
          [
           "waste-images/test/Trash/real_world_Image_230.png",
           "Food Waste",
           "<img src='waste-images/test/Trash/real_world_Image_230.png' style='max-width:150px;'>"
          ],
          [
           "waste-images/test/Trash/default_Image_45.png",
           "Food Waste",
           "<img src='waste-images/test/Trash/default_Image_45.png' style='max-width:150px;'>"
          ],
          [
           "waste-images/test/Food Waste/real_world_Image_219.png",
           "Mixed Recycle",
           "<img src='waste-images/test/Food Waste/real_world_Image_219.png' style='max-width:150px;'>"
          ],
          [
           "waste-images/test/Trash/real_world_Image_229.png",
           "Food Waste",
           "<img src='waste-images/test/Trash/real_world_Image_229.png' style='max-width:150px;'>"
          ],
          [
           "waste-images/test/Food Waste/default_Image_103.png",
           "Trash",
           "<img src='waste-images/test/Food Waste/default_Image_103.png' style='max-width:150px;'>"
          ],
          [
           "waste-images/test/Mixed Recycle/default_Image_132.png",
           "Food Waste",
           "<img src='waste-images/test/Mixed Recycle/default_Image_132.png' style='max-width:150px;'>"
          ],
          [
           "waste-images/test/Mixed Recycle/default_Image_136.png",
           "Food Waste",
           "<img src='waste-images/test/Mixed Recycle/default_Image_136.png' style='max-width:150px;'>"
          ],
          [
           "waste-images/test/Mixed Recycle/default_Image_214.png",
           "Food Waste",
           "<img src='waste-images/test/Mixed Recycle/default_Image_214.png' style='max-width:150px;'>"
          ]
         ],
         "hovertemplate": "%{customdata[0]}<br>True: %{customdata[1]}<br>Pred: %{customdata[2]}<br>Conf: %{customdata[3]}",
         "legendgroup": "False",
         "marker": {
          "color": "#EF553B",
          "size": 10,
          "symbol": "circle"
         },
         "mode": "markers",
         "name": "False",
         "orientation": "h",
         "showlegend": true,
         "type": "scatter",
         "x": [
          0.4967074394226074,
          0.5007262229919434,
          0.8333101272583008,
          0.4936063885688782,
          0.6235647797584534,
          0.5188461542129517,
          0.9134507179260254,
          0.42923226952552795,
          0.904005229473114,
          0.4286559224128723,
          0.8014531135559082,
          0.6539926528930664,
          0.8997233510017395
         ],
         "xaxis": "x",
         "y": [
          "Trash",
          "Mixed Recycle",
          "Trash",
          "Food Waste",
          "Trash",
          "Trash",
          "Trash",
          "Food Waste",
          "Trash",
          "Food Waste",
          "Mixed Recycle",
          "Mixed Recycle",
          "Mixed Recycle"
         ],
         "yaxis": "y"
        }
       ],
       "layout": {
        "legend": {
         "title": {
          "text": "Correct"
         },
         "tracegroupgap": 0
        },
        "template": {
         "data": {
          "bar": [
           {
            "error_x": {
             "color": "#2a3f5f"
            },
            "error_y": {
             "color": "#2a3f5f"
            },
            "marker": {
             "line": {
              "color": "#E5ECF6",
              "width": 0.5
             },
             "pattern": {
              "fillmode": "overlay",
              "size": 10,
              "solidity": 0.2
             }
            },
            "type": "bar"
           }
          ],
          "barpolar": [
           {
            "marker": {
             "line": {
              "color": "#E5ECF6",
              "width": 0.5
             },
             "pattern": {
              "fillmode": "overlay",
              "size": 10,
              "solidity": 0.2
             }
            },
            "type": "barpolar"
           }
          ],
          "carpet": [
           {
            "aaxis": {
             "endlinecolor": "#2a3f5f",
             "gridcolor": "white",
             "linecolor": "white",
             "minorgridcolor": "white",
             "startlinecolor": "#2a3f5f"
            },
            "baxis": {
             "endlinecolor": "#2a3f5f",
             "gridcolor": "white",
             "linecolor": "white",
             "minorgridcolor": "white",
             "startlinecolor": "#2a3f5f"
            },
            "type": "carpet"
           }
          ],
          "choropleth": [
           {
            "colorbar": {
             "outlinewidth": 0,
             "ticks": ""
            },
            "type": "choropleth"
           }
          ],
          "contour": [
           {
            "colorbar": {
             "outlinewidth": 0,
             "ticks": ""
            },
            "colorscale": [
             [
              0,
              "#0d0887"
             ],
             [
              0.1111111111111111,
              "#46039f"
             ],
             [
              0.2222222222222222,
              "#7201a8"
             ],
             [
              0.3333333333333333,
              "#9c179e"
             ],
             [
              0.4444444444444444,
              "#bd3786"
             ],
             [
              0.5555555555555556,
              "#d8576b"
             ],
             [
              0.6666666666666666,
              "#ed7953"
             ],
             [
              0.7777777777777778,
              "#fb9f3a"
             ],
             [
              0.8888888888888888,
              "#fdca26"
             ],
             [
              1,
              "#f0f921"
             ]
            ],
            "type": "contour"
           }
          ],
          "contourcarpet": [
           {
            "colorbar": {
             "outlinewidth": 0,
             "ticks": ""
            },
            "type": "contourcarpet"
           }
          ],
          "heatmap": [
           {
            "colorbar": {
             "outlinewidth": 0,
             "ticks": ""
            },
            "colorscale": [
             [
              0,
              "#0d0887"
             ],
             [
              0.1111111111111111,
              "#46039f"
             ],
             [
              0.2222222222222222,
              "#7201a8"
             ],
             [
              0.3333333333333333,
              "#9c179e"
             ],
             [
              0.4444444444444444,
              "#bd3786"
             ],
             [
              0.5555555555555556,
              "#d8576b"
             ],
             [
              0.6666666666666666,
              "#ed7953"
             ],
             [
              0.7777777777777778,
              "#fb9f3a"
             ],
             [
              0.8888888888888888,
              "#fdca26"
             ],
             [
              1,
              "#f0f921"
             ]
            ],
            "type": "heatmap"
           }
          ],
          "heatmapgl": [
           {
            "colorbar": {
             "outlinewidth": 0,
             "ticks": ""
            },
            "colorscale": [
             [
              0,
              "#0d0887"
             ],
             [
              0.1111111111111111,
              "#46039f"
             ],
             [
              0.2222222222222222,
              "#7201a8"
             ],
             [
              0.3333333333333333,
              "#9c179e"
             ],
             [
              0.4444444444444444,
              "#bd3786"
             ],
             [
              0.5555555555555556,
              "#d8576b"
             ],
             [
              0.6666666666666666,
              "#ed7953"
             ],
             [
              0.7777777777777778,
              "#fb9f3a"
             ],
             [
              0.8888888888888888,
              "#fdca26"
             ],
             [
              1,
              "#f0f921"
             ]
            ],
            "type": "heatmapgl"
           }
          ],
          "histogram": [
           {
            "marker": {
             "pattern": {
              "fillmode": "overlay",
              "size": 10,
              "solidity": 0.2
             }
            },
            "type": "histogram"
           }
          ],
          "histogram2d": [
           {
            "colorbar": {
             "outlinewidth": 0,
             "ticks": ""
            },
            "colorscale": [
             [
              0,
              "#0d0887"
             ],
             [
              0.1111111111111111,
              "#46039f"
             ],
             [
              0.2222222222222222,
              "#7201a8"
             ],
             [
              0.3333333333333333,
              "#9c179e"
             ],
             [
              0.4444444444444444,
              "#bd3786"
             ],
             [
              0.5555555555555556,
              "#d8576b"
             ],
             [
              0.6666666666666666,
              "#ed7953"
             ],
             [
              0.7777777777777778,
              "#fb9f3a"
             ],
             [
              0.8888888888888888,
              "#fdca26"
             ],
             [
              1,
              "#f0f921"
             ]
            ],
            "type": "histogram2d"
           }
          ],
          "histogram2dcontour": [
           {
            "colorbar": {
             "outlinewidth": 0,
             "ticks": ""
            },
            "colorscale": [
             [
              0,
              "#0d0887"
             ],
             [
              0.1111111111111111,
              "#46039f"
             ],
             [
              0.2222222222222222,
              "#7201a8"
             ],
             [
              0.3333333333333333,
              "#9c179e"
             ],
             [
              0.4444444444444444,
              "#bd3786"
             ],
             [
              0.5555555555555556,
              "#d8576b"
             ],
             [
              0.6666666666666666,
              "#ed7953"
             ],
             [
              0.7777777777777778,
              "#fb9f3a"
             ],
             [
              0.8888888888888888,
              "#fdca26"
             ],
             [
              1,
              "#f0f921"
             ]
            ],
            "type": "histogram2dcontour"
           }
          ],
          "mesh3d": [
           {
            "colorbar": {
             "outlinewidth": 0,
             "ticks": ""
            },
            "type": "mesh3d"
           }
          ],
          "parcoords": [
           {
            "line": {
             "colorbar": {
              "outlinewidth": 0,
              "ticks": ""
             }
            },
            "type": "parcoords"
           }
          ],
          "pie": [
           {
            "automargin": true,
            "type": "pie"
           }
          ],
          "scatter": [
           {
            "fillpattern": {
             "fillmode": "overlay",
             "size": 10,
             "solidity": 0.2
            },
            "type": "scatter"
           }
          ],
          "scatter3d": [
           {
            "line": {
             "colorbar": {
              "outlinewidth": 0,
              "ticks": ""
             }
            },
            "marker": {
             "colorbar": {
              "outlinewidth": 0,
              "ticks": ""
             }
            },
            "type": "scatter3d"
           }
          ],
          "scattercarpet": [
           {
            "marker": {
             "colorbar": {
              "outlinewidth": 0,
              "ticks": ""
             }
            },
            "type": "scattercarpet"
           }
          ],
          "scattergeo": [
           {
            "marker": {
             "colorbar": {
              "outlinewidth": 0,
              "ticks": ""
             }
            },
            "type": "scattergeo"
           }
          ],
          "scattergl": [
           {
            "marker": {
             "colorbar": {
              "outlinewidth": 0,
              "ticks": ""
             }
            },
            "type": "scattergl"
           }
          ],
          "scattermapbox": [
           {
            "marker": {
             "colorbar": {
              "outlinewidth": 0,
              "ticks": ""
             }
            },
            "type": "scattermapbox"
           }
          ],
          "scatterpolar": [
           {
            "marker": {
             "colorbar": {
              "outlinewidth": 0,
              "ticks": ""
             }
            },
            "type": "scatterpolar"
           }
          ],
          "scatterpolargl": [
           {
            "marker": {
             "colorbar": {
              "outlinewidth": 0,
              "ticks": ""
             }
            },
            "type": "scatterpolargl"
           }
          ],
          "scatterternary": [
           {
            "marker": {
             "colorbar": {
              "outlinewidth": 0,
              "ticks": ""
             }
            },
            "type": "scatterternary"
           }
          ],
          "surface": [
           {
            "colorbar": {
             "outlinewidth": 0,
             "ticks": ""
            },
            "colorscale": [
             [
              0,
              "#0d0887"
             ],
             [
              0.1111111111111111,
              "#46039f"
             ],
             [
              0.2222222222222222,
              "#7201a8"
             ],
             [
              0.3333333333333333,
              "#9c179e"
             ],
             [
              0.4444444444444444,
              "#bd3786"
             ],
             [
              0.5555555555555556,
              "#d8576b"
             ],
             [
              0.6666666666666666,
              "#ed7953"
             ],
             [
              0.7777777777777778,
              "#fb9f3a"
             ],
             [
              0.8888888888888888,
              "#fdca26"
             ],
             [
              1,
              "#f0f921"
             ]
            ],
            "type": "surface"
           }
          ],
          "table": [
           {
            "cells": {
             "fill": {
              "color": "#EBF0F8"
             },
             "line": {
              "color": "white"
             }
            },
            "header": {
             "fill": {
              "color": "#C8D4E3"
             },
             "line": {
              "color": "white"
             }
            },
            "type": "table"
           }
          ]
         },
         "layout": {
          "annotationdefaults": {
           "arrowcolor": "#2a3f5f",
           "arrowhead": 0,
           "arrowwidth": 1
          },
          "autotypenumbers": "strict",
          "coloraxis": {
           "colorbar": {
            "outlinewidth": 0,
            "ticks": ""
           }
          },
          "colorscale": {
           "diverging": [
            [
             0,
             "#8e0152"
            ],
            [
             0.1,
             "#c51b7d"
            ],
            [
             0.2,
             "#de77ae"
            ],
            [
             0.3,
             "#f1b6da"
            ],
            [
             0.4,
             "#fde0ef"
            ],
            [
             0.5,
             "#f7f7f7"
            ],
            [
             0.6,
             "#e6f5d0"
            ],
            [
             0.7,
             "#b8e186"
            ],
            [
             0.8,
             "#7fbc41"
            ],
            [
             0.9,
             "#4d9221"
            ],
            [
             1,
             "#276419"
            ]
           ],
           "sequential": [
            [
             0,
             "#0d0887"
            ],
            [
             0.1111111111111111,
             "#46039f"
            ],
            [
             0.2222222222222222,
             "#7201a8"
            ],
            [
             0.3333333333333333,
             "#9c179e"
            ],
            [
             0.4444444444444444,
             "#bd3786"
            ],
            [
             0.5555555555555556,
             "#d8576b"
            ],
            [
             0.6666666666666666,
             "#ed7953"
            ],
            [
             0.7777777777777778,
             "#fb9f3a"
            ],
            [
             0.8888888888888888,
             "#fdca26"
            ],
            [
             1,
             "#f0f921"
            ]
           ],
           "sequentialminus": [
            [
             0,
             "#0d0887"
            ],
            [
             0.1111111111111111,
             "#46039f"
            ],
            [
             0.2222222222222222,
             "#7201a8"
            ],
            [
             0.3333333333333333,
             "#9c179e"
            ],
            [
             0.4444444444444444,
             "#bd3786"
            ],
            [
             0.5555555555555556,
             "#d8576b"
            ],
            [
             0.6666666666666666,
             "#ed7953"
            ],
            [
             0.7777777777777778,
             "#fb9f3a"
            ],
            [
             0.8888888888888888,
             "#fdca26"
            ],
            [
             1,
             "#f0f921"
            ]
           ]
          },
          "colorway": [
           "#636efa",
           "#EF553B",
           "#00cc96",
           "#ab63fa",
           "#FFA15A",
           "#19d3f3",
           "#FF6692",
           "#B6E880",
           "#FF97FF",
           "#FECB52"
          ],
          "font": {
           "color": "#2a3f5f"
          },
          "geo": {
           "bgcolor": "white",
           "lakecolor": "white",
           "landcolor": "#E5ECF6",
           "showlakes": true,
           "showland": true,
           "subunitcolor": "white"
          },
          "hoverlabel": {
           "align": "left"
          },
          "hovermode": "closest",
          "mapbox": {
           "style": "light"
          },
          "paper_bgcolor": "white",
          "plot_bgcolor": "#E5ECF6",
          "polar": {
           "angularaxis": {
            "gridcolor": "white",
            "linecolor": "white",
            "ticks": ""
           },
           "bgcolor": "#E5ECF6",
           "radialaxis": {
            "gridcolor": "white",
            "linecolor": "white",
            "ticks": ""
           }
          },
          "scene": {
           "xaxis": {
            "backgroundcolor": "#E5ECF6",
            "gridcolor": "white",
            "gridwidth": 2,
            "linecolor": "white",
            "showbackground": true,
            "ticks": "",
            "zerolinecolor": "white"
           },
           "yaxis": {
            "backgroundcolor": "#E5ECF6",
            "gridcolor": "white",
            "gridwidth": 2,
            "linecolor": "white",
            "showbackground": true,
            "ticks": "",
            "zerolinecolor": "white"
           },
           "zaxis": {
            "backgroundcolor": "#E5ECF6",
            "gridcolor": "white",
            "gridwidth": 2,
            "linecolor": "white",
            "showbackground": true,
            "ticks": "",
            "zerolinecolor": "white"
           }
          },
          "shapedefaults": {
           "line": {
            "color": "#2a3f5f"
           }
          },
          "ternary": {
           "aaxis": {
            "gridcolor": "white",
            "linecolor": "white",
            "ticks": ""
           },
           "baxis": {
            "gridcolor": "white",
            "linecolor": "white",
            "ticks": ""
           },
           "bgcolor": "#E5ECF6",
           "caxis": {
            "gridcolor": "white",
            "linecolor": "white",
            "ticks": ""
           }
          },
          "title": {
           "x": 0.05
          },
          "xaxis": {
           "automargin": true,
           "gridcolor": "white",
           "linecolor": "white",
           "ticks": "",
           "title": {
            "standoff": 15
           },
           "zerolinecolor": "white",
           "zerolinewidth": 2
          },
          "yaxis": {
           "automargin": true,
           "gridcolor": "white",
           "linecolor": "white",
           "ticks": "",
           "title": {
            "standoff": 15
           },
           "zerolinecolor": "white",
           "zerolinewidth": 2
          }
         }
        },
        "title": {
         "text": "Model Predictions"
        },
        "xaxis": {
         "anchor": "y",
         "domain": [
          0,
          1
         ],
         "title": {
          "text": "Confidence"
         }
        },
        "yaxis": {
         "anchor": "x",
         "domain": [
          0,
          1
         ],
         "title": {
          "text": "True Label"
         }
        }
       }
      }
     },
     "metadata": {},
     "output_type": "display_data"
    }
   ],
   "source": [
    "import plotly.express as px\n",
    "\n",
    "# Get class labels and predictions\n",
    "class_labels = list(test_generator.class_indices.keys())\n",
    "predictions = model.predict(test_generator)\n",
    "predicted_classes = np.argmax(predictions, axis=1)\n",
    "\n",
    "# Create a DataFrame for visualization\n",
    "data = pd.DataFrame({\n",
    "    'Image Path': test_generator.filepaths,\n",
    "    'True Label': [class_labels[i] for i in test_generator.classes],\n",
    "    'Predicted Label': [class_labels[i] for i in predicted_classes],\n",
    "    'Correct': predicted_classes == test_generator.classes\n",
    "})\n",
    "\n",
    "# Add confidence scores for predictions\n",
    "data['Confidence'] = predictions.max(axis=1)\n",
    "\n",
    "# Function to display interactive scrollable visualization\n",
    "def display_scrollable_predictions(data, num_images=20):\n",
    "    # Select a subset for display (or the entire dataset)\n",
    "    display_data = data.sample(n=num_images)  # Random sample of predictions\n",
    "    display_data['Image'] = display_data['Image Path'].apply(lambda path: f\"<img src='{path}' style='max-width:150px;'>\")\n",
    "    \n",
    "    fig = px.scatter(\n",
    "        display_data,\n",
    "        x='Confidence',\n",
    "        y='True Label',\n",
    "        color='Correct',\n",
    "        hover_data={\n",
    "            'Image Path': False,\n",
    "            'True Label': True,\n",
    "            'Predicted Label': True,\n",
    "            'Confidence': ':.2f',\n",
    "            'Image': True\n",
    "        },\n",
    "        title='Model Predictions'\n",
    "    )\n",
    "    fig.update_traces(marker=dict(size=10), hovertemplate=\"%{customdata[0]}<br>True: %{customdata[1]}<br>Pred: %{customdata[2]}<br>Conf: %{customdata[3]}\")\n",
    "    fig.show()\n",
    "\n",
    "# Display predictions\n",
    "display_scrollable_predictions(data, num_images=100)  # Customize num_images\n"
   ]
  },
  {
   "cell_type": "code",
   "execution_count": null,
   "metadata": {},
   "outputs": [],
   "source": [
    "from IPython.core.display import display, HTML\n",
    "import pandas as pd\n",
    "from PIL import Image\n",
    "import base64\n",
    "\n",
    "# Get class labels and predictions\n",
    "class_labels = list(test_generator.class_indices.keys())\n",
    "predictions = model.predict(test_generator)\n",
    "predicted_classes = np.argmax(predictions, axis=1)\n",
    "\n",
    "# Create a DataFrame for organization\n",
    "data = pd.DataFrame({\n",
    "    'Image Path': test_generator.filepaths,\n",
    "    'True Label': [class_labels[i] for i in test_generator.classes],\n",
    "    'Predicted Label': [class_labels[i] for i in predicted_classes],\n",
    "    'Confidence': predictions.max(axis=1),\n",
    "    'Correct': predicted_classes == test_generator.classes\n",
    "})\n",
    "\n",
    "# Helper function to encode images in base64 for HTML display\n",
    "def encode_image(image_path):\n",
    "    with open(image_path, \"rb\") as img_file:\n",
    "        return base64.b64encode(img_file.read()).decode(\"utf-8\")\n",
    "\n",
    "# Add the base64-encoded image to the DataFrame for display\n",
    "data['Image HTML'] = data['Image Path'].apply(\n",
    "    lambda path: f\"<img src='data:image/jpeg;base64,{encode_image(path)}' style='width:100px;height:100px;'>\"\n",
    ")\n",
    "\n",
    "# Group data by categories\n",
    "def generate_grouped_html(data):\n",
    "    html = \"<h1>Model Predictions Grouped by Category</h1>\"\n",
    "    for category in class_labels:\n",
    "        html += f\"<h2>{category}</h2>\"\n",
    "        subset = data[data['True Label'] == category]\n",
    "        if subset.empty:\n",
    "            html += \"<p>No images in this category.</p>\"\n",
    "        else:\n",
    "            html += subset[['Image HTML', 'True Label', 'Predicted Label', 'Confidence', 'Correct']].to_html(\n",
    "                escape=False,\n",
    "                index=False\n",
    "            )\n",
    "    return html\n",
    "\n",
    "# Display predictions grouped by category\n",
    "html_content = generate_grouped_html(data)\n",
    "display(HTML(html_content))\n"
   ]
  },
  {
   "cell_type": "markdown",
   "metadata": {},
   "source": [
    "Image detection Attempt\n"
   ]
  },
  {
   "cell_type": "code",
   "execution_count": null,
   "metadata": {},
   "outputs": [],
   "source": [
    " import torch\n",
    "import pandas as pd\n",
    "from PIL import Image\n",
    "\n",
    "# Load YOLOv5 model\n",
    "model = torch.hub.load('ultralytics/yolov5', 'yolov5s')  # Pre-trained on COCO\n",
    "\n",
    "# Path to input image\n",
    "image_path = '/mnt/data/real_world_Image_223.png'\n",
    "\n",
    "# Debug: Check the input image\n",
    "img = Image.open(image_path)\n",
    "img.show()\n",
    "\n",
    "# Run inference with a lower confidence threshold\n",
    "results = model(image_path, conf=0.25)  # Reduce confidence threshold to 25%\n",
    "\n",
    "# Display results\n",
    "results.show()  # Opens image with bounding boxes\n",
    "\n",
    "# Check if detections are present\n",
    "detections = results.pandas().xyxy[0]\n",
    "if detections.empty:\n",
    "    print(\"No objects detected.\")\n",
    "else:\n",
    "    print(\"Detections:\")\n",
    "    print(detections)\n",
    "\n",
    "# Save detections to a CSV file\n",
    "detections.to_csv('detections.csv', index=False)\n",
    "print(\"Detections saved to detections.csv\")\n"
   ]
  },
  {
   "cell_type": "markdown",
   "metadata": {},
   "source": [
    "### FINE TUNING"
   ]
  },
  {
   "cell_type": "code",
   "execution_count": 25,
   "metadata": {},
   "outputs": [
    {
     "name": "stderr",
     "output_type": "stream",
     "text": [
      "WARNING:absl:Compiled the loaded model, but the compiled metrics have yet to be built. `model.compile_metrics` will be empty until you train or evaluate the model.\n"
     ]
    },
    {
     "name": "stdout",
     "output_type": "stream",
     "text": [
      "Found 1050 images belonging to 3 classes.\n",
      "Found 300 images belonging to 3 classes.\n",
      "Found 150 images belonging to 3 classes.\n",
      "Evaluating Baseline Model...\n",
      "\u001b[1m5/5\u001b[0m \u001b[32m━━━━━━━━━━━━━━━━━━━━\u001b[0m\u001b[37m\u001b[0m \u001b[1m1s\u001b[0m 90ms/step - accuracy: 0.9076 - loss: 0.2779\n",
      "Baseline Model - Test Accuracy: 0.8933333158493042\n",
      "Baseline Model - Test Loss: 0.296490341424942\n",
      "\u001b[1m5/5\u001b[0m \u001b[32m━━━━━━━━━━━━━━━━━━━━\u001b[0m\u001b[37m\u001b[0m \u001b[1m1s\u001b[0m 88ms/step\n",
      "Baseline Model - Confusion Matrix:\n",
      "[[46  1  3]\n",
      " [ 3 46  1]\n",
      " [ 5  3 42]]\n",
      "Baseline Model - Classification Report:\n",
      "               precision    recall  f1-score   support\n",
      "\n",
      "   Food Waste       0.85      0.92      0.88        50\n",
      "Mixed Recycle       0.92      0.92      0.92        50\n",
      "        Trash       0.91      0.84      0.88        50\n",
      "\n",
      "     accuracy                           0.89       150\n",
      "    macro avg       0.89      0.89      0.89       150\n",
      " weighted avg       0.89      0.89      0.89       150\n",
      "\n"
     ]
    }
   ],
   "source": [
    "import tensorflow as tf\n",
    "from tensorflow.keras.models import load_model, Sequential\n",
    "from tensorflow.keras.layers import Conv2D, MaxPooling2D, Flatten, Dense, Dropout, BatchNormalization\n",
    "from tensorflow.keras.preprocessing.image import ImageDataGenerator\n",
    "from tensorflow.keras.optimizers import Adam\n",
    "import matplotlib.pyplot as plt\n",
    "from sklearn.metrics import classification_report, confusion_matrix\n",
    "\n",
    "# Define paths\n",
    "train_dir = 'waste-images/train'  # Update this path\n",
    "val_dir = 'waste-images/val'      # Update this path\n",
    "test_dir = 'waste-images/test'    # Update this path\n",
    "base_model_path = 'waste_classification_model.h5'  # Path to your base model\n",
    "\n",
    "# Define parameters\n",
    "image_size = (64, 64)\n",
    "batch_size = 32\n",
    "num_classes = 3\n",
    "epochs = 20\n",
    "\n",
    "# Load the base model\n",
    "base_model = load_model(base_model_path)\n",
    "\n",
    "# Data Generators\n",
    "train_datagen = ImageDataGenerator(\n",
    "    rescale=1.0/255,\n",
    "    rotation_range=30,\n",
    "    width_shift_range=0.2,\n",
    "    height_shift_range=0.2,\n",
    "    shear_range=0.2,\n",
    "    zoom_range=0.2,\n",
    "    horizontal_flip=True\n",
    ")\n",
    "\n",
    "val_test_datagen = ImageDataGenerator(rescale=1.0/255)\n",
    "\n",
    "train_generator = train_datagen.flow_from_directory(\n",
    "    train_dir,\n",
    "    target_size=image_size,\n",
    "    batch_size=batch_size,\n",
    "    class_mode='categorical'\n",
    ")\n",
    "\n",
    "val_generator = val_test_datagen.flow_from_directory(\n",
    "    val_dir,\n",
    "    target_size=image_size,\n",
    "    batch_size=batch_size,\n",
    "    class_mode='categorical'\n",
    ")\n",
    "\n",
    "test_generator = val_test_datagen.flow_from_directory(\n",
    "    test_dir,\n",
    "    target_size=image_size,\n",
    "    batch_size=batch_size,\n",
    "    class_mode='categorical',\n",
    "    shuffle=False\n",
    ")\n",
    "\n",
    "# Visualization Function\n",
    "def plot_history(history, experiment_name):\n",
    "    plt.figure(figsize=(12, 5))\n",
    "    plt.subplot(1, 2, 1)\n",
    "    plt.plot(history.history['accuracy'], label='Training Accuracy')\n",
    "    plt.plot(history.history['val_accuracy'], label='Validation Accuracy')\n",
    "    plt.title(f'{experiment_name}: Training and Validation Accuracy')\n",
    "    plt.xlabel('Epochs')\n",
    "    plt.ylabel('Accuracy')\n",
    "    plt.legend()\n",
    "\n",
    "    plt.subplot(1, 2, 2)\n",
    "    plt.plot(history.history['loss'], label='Training Loss')\n",
    "    plt.plot(history.history['val_loss'], label='Validation Loss')\n",
    "    plt.title(f'{experiment_name}: Training and Validation Loss')\n",
    "    plt.xlabel('Epochs')\n",
    "    plt.ylabel('Loss')\n",
    "    plt.legend()\n",
    "    plt.show()\n",
    "\n",
    "def evaluate_model(model, experiment_name):\n",
    "    test_loss, test_accuracy = model.evaluate(test_generator)\n",
    "    print(f\"{experiment_name} - Test Accuracy: {test_accuracy}\")\n",
    "    print(f\"{experiment_name} - Test Loss: {test_loss}\")\n",
    "\n",
    "    # Confusion Matrix and Classification Report\n",
    "    test_labels = test_generator.classes\n",
    "    predictions = model.predict(test_generator)\n",
    "    predicted_classes = predictions.argmax(axis=1)\n",
    "\n",
    "    conf_matrix = confusion_matrix(test_labels, predicted_classes)\n",
    "    print(f\"{experiment_name} - Confusion Matrix:\")\n",
    "    print(conf_matrix)\n",
    "\n",
    "    report = classification_report(test_labels, predicted_classes, target_names=list(test_generator.class_indices.keys()))\n",
    "    print(f\"{experiment_name} - Classification Report:\")\n",
    "    print(report)\n",
    "\n",
    "# -------------------- EXPERIMENT 1: Baseline Evaluation --------------------\n",
    "print(\"Evaluating Baseline Model...\")\n",
    "evaluate_model(base_model, \"Baseline Model\")"
   ]
  },
  {
   "cell_type": "code",
   "execution_count": 26,
   "metadata": {},
   "outputs": [
    {
     "name": "stdout",
     "output_type": "stream",
     "text": [
      "Experiment 2: Hyperparameter Tuning\n",
      "Training model with dropout=0.3 and learning_rate=0.001\n",
      "Epoch 1/20\n",
      "\u001b[1m33/33\u001b[0m \u001b[32m━━━━━━━━━━━━━━━━━━━━\u001b[0m\u001b[37m\u001b[0m \u001b[1m10s\u001b[0m 216ms/step - accuracy: 0.4557 - loss: 2.7502 - val_accuracy: 0.4700 - val_loss: 1.1982\n",
      "Epoch 2/20\n",
      "\u001b[1m33/33\u001b[0m \u001b[32m━━━━━━━━━━━━━━━━━━━━\u001b[0m\u001b[37m\u001b[0m \u001b[1m7s\u001b[0m 198ms/step - accuracy: 0.6007 - loss: 0.9369 - val_accuracy: 0.4567 - val_loss: 1.7159\n",
      "Epoch 3/20\n",
      "\u001b[1m33/33\u001b[0m \u001b[32m━━━━━━━━━━━━━━━━━━━━\u001b[0m\u001b[37m\u001b[0m \u001b[1m6s\u001b[0m 194ms/step - accuracy: 0.6648 - loss: 0.8605 - val_accuracy: 0.4467 - val_loss: 1.2631\n",
      "Epoch 4/20\n",
      "\u001b[1m33/33\u001b[0m \u001b[32m━━━━━━━━━━━━━━━━━━━━\u001b[0m\u001b[37m\u001b[0m \u001b[1m6s\u001b[0m 195ms/step - accuracy: 0.6999 - loss: 0.7432 - val_accuracy: 0.5600 - val_loss: 1.3744\n",
      "Epoch 5/20\n",
      "\u001b[1m33/33\u001b[0m \u001b[32m━━━━━━━━━━━━━━━━━━━━\u001b[0m\u001b[37m\u001b[0m \u001b[1m6s\u001b[0m 192ms/step - accuracy: 0.6982 - loss: 0.7696 - val_accuracy: 0.4367 - val_loss: 2.6564\n",
      "Epoch 6/20\n",
      "\u001b[1m33/33\u001b[0m \u001b[32m━━━━━━━━━━━━━━━━━━━━\u001b[0m\u001b[37m\u001b[0m \u001b[1m6s\u001b[0m 194ms/step - accuracy: 0.6994 - loss: 0.7663 - val_accuracy: 0.4867 - val_loss: 2.1679\n",
      "Epoch 7/20\n",
      "\u001b[1m33/33\u001b[0m \u001b[32m━━━━━━━━━━━━━━━━━━━━\u001b[0m\u001b[37m\u001b[0m \u001b[1m6s\u001b[0m 195ms/step - accuracy: 0.7465 - loss: 0.6789 - val_accuracy: 0.6467 - val_loss: 1.2531\n",
      "Epoch 8/20\n",
      "\u001b[1m33/33\u001b[0m \u001b[32m━━━━━━━━━━━━━━━━━━━━\u001b[0m\u001b[37m\u001b[0m \u001b[1m6s\u001b[0m 194ms/step - accuracy: 0.7231 - loss: 0.6650 - val_accuracy: 0.5400 - val_loss: 2.4334\n",
      "Epoch 9/20\n",
      "\u001b[1m33/33\u001b[0m \u001b[32m━━━━━━━━━━━━━━━━━━━━\u001b[0m\u001b[37m\u001b[0m \u001b[1m6s\u001b[0m 194ms/step - accuracy: 0.7356 - loss: 0.6637 - val_accuracy: 0.6433 - val_loss: 1.8167\n",
      "Epoch 10/20\n",
      "\u001b[1m33/33\u001b[0m \u001b[32m━━━━━━━━━━━━━━━━━━━━\u001b[0m\u001b[37m\u001b[0m \u001b[1m6s\u001b[0m 192ms/step - accuracy: 0.7625 - loss: 0.6432 - val_accuracy: 0.6767 - val_loss: 1.4267\n",
      "Epoch 11/20\n",
      "\u001b[1m33/33\u001b[0m \u001b[32m━━━━━━━━━━━━━━━━━━━━\u001b[0m\u001b[37m\u001b[0m \u001b[1m6s\u001b[0m 194ms/step - accuracy: 0.7511 - loss: 0.6346 - val_accuracy: 0.6667 - val_loss: 1.8635\n",
      "Epoch 12/20\n",
      "\u001b[1m33/33\u001b[0m \u001b[32m━━━━━━━━━━━━━━━━━━━━\u001b[0m\u001b[37m\u001b[0m \u001b[1m6s\u001b[0m 191ms/step - accuracy: 0.7575 - loss: 0.6047 - val_accuracy: 0.7567 - val_loss: 1.0885\n",
      "Epoch 13/20\n",
      "\u001b[1m33/33\u001b[0m \u001b[32m━━━━━━━━━━━━━━━━━━━━\u001b[0m\u001b[37m\u001b[0m \u001b[1m6s\u001b[0m 195ms/step - accuracy: 0.7606 - loss: 0.6113 - val_accuracy: 0.7467 - val_loss: 1.6761\n",
      "Epoch 14/20\n",
      "\u001b[1m33/33\u001b[0m \u001b[32m━━━━━━━━━━━━━━━━━━━━\u001b[0m\u001b[37m\u001b[0m \u001b[1m6s\u001b[0m 191ms/step - accuracy: 0.7909 - loss: 0.5933 - val_accuracy: 0.6300 - val_loss: 1.7364\n",
      "Epoch 15/20\n",
      "\u001b[1m33/33\u001b[0m \u001b[32m━━━━━━━━━━━━━━━━━━━━\u001b[0m\u001b[37m\u001b[0m \u001b[1m7s\u001b[0m 208ms/step - accuracy: 0.7667 - loss: 0.5893 - val_accuracy: 0.7800 - val_loss: 0.6674\n",
      "Epoch 16/20\n",
      "\u001b[1m33/33\u001b[0m \u001b[32m━━━━━━━━━━━━━━━━━━━━\u001b[0m\u001b[37m\u001b[0m \u001b[1m6s\u001b[0m 191ms/step - accuracy: 0.8163 - loss: 0.4881 - val_accuracy: 0.7967 - val_loss: 0.6433\n",
      "Epoch 17/20\n",
      "\u001b[1m33/33\u001b[0m \u001b[32m━━━━━━━━━━━━━━━━━━━━\u001b[0m\u001b[37m\u001b[0m \u001b[1m6s\u001b[0m 194ms/step - accuracy: 0.7976 - loss: 0.5795 - val_accuracy: 0.6133 - val_loss: 1.4698\n",
      "Epoch 18/20\n",
      "\u001b[1m33/33\u001b[0m \u001b[32m━━━━━━━━━━━━━━━━━━━━\u001b[0m\u001b[37m\u001b[0m \u001b[1m6s\u001b[0m 194ms/step - accuracy: 0.7718 - loss: 0.5897 - val_accuracy: 0.8233 - val_loss: 0.5076\n",
      "Epoch 19/20\n",
      "\u001b[1m33/33\u001b[0m \u001b[32m━━━━━━━━━━━━━━━━━━━━\u001b[0m\u001b[37m\u001b[0m \u001b[1m7s\u001b[0m 202ms/step - accuracy: 0.7642 - loss: 0.5656 - val_accuracy: 0.7733 - val_loss: 0.9447\n",
      "Epoch 20/20\n",
      "\u001b[1m33/33\u001b[0m \u001b[32m━━━━━━━━━━━━━━━━━━━━\u001b[0m\u001b[37m\u001b[0m \u001b[1m7s\u001b[0m 203ms/step - accuracy: 0.7689 - loss: 0.5859 - val_accuracy: 0.5467 - val_loss: 2.3433\n"
     ]
    },
    {
     "name": "stderr",
     "output_type": "stream",
     "text": [
      "WARNING:absl:You are saving your model as an HDF5 file via `model.save()` or `keras.saving.save_model(model)`. This file format is considered legacy. We recommend using instead the native Keras format, e.g. `model.save('my_model.keras')` or `keras.saving.save_model(model, 'my_model.keras')`. \n"
     ]
    },
    {
     "name": "stdout",
     "output_type": "stream",
     "text": [
      "Validation accuracy: 0.8233333230018616\n",
      "Training model with dropout=0.3 and learning_rate=0.0005\n",
      "Epoch 1/20\n",
      "\u001b[1m33/33\u001b[0m \u001b[32m━━━━━━━━━━━━━━━━━━━━\u001b[0m\u001b[37m\u001b[0m \u001b[1m11s\u001b[0m 217ms/step - accuracy: 0.3859 - loss: 2.7257 - val_accuracy: 0.4600 - val_loss: 1.2345\n",
      "Epoch 2/20\n",
      "\u001b[1m33/33\u001b[0m \u001b[32m━━━━━━━━━━━━━━━━━━━━\u001b[0m\u001b[37m\u001b[0m \u001b[1m8s\u001b[0m 256ms/step - accuracy: 0.5391 - loss: 1.0683 - val_accuracy: 0.4100 - val_loss: 2.0453\n",
      "Epoch 3/20\n",
      "\u001b[1m33/33\u001b[0m \u001b[32m━━━━━━━━━━━━━━━━━━━━\u001b[0m\u001b[37m\u001b[0m \u001b[1m6s\u001b[0m 184ms/step - accuracy: 0.6061 - loss: 0.8820 - val_accuracy: 0.4867 - val_loss: 2.2086\n",
      "Epoch 4/20\n",
      "\u001b[1m33/33\u001b[0m \u001b[32m━━━━━━━━━━━━━━━━━━━━\u001b[0m\u001b[37m\u001b[0m \u001b[1m7s\u001b[0m 206ms/step - accuracy: 0.6408 - loss: 0.8259 - val_accuracy: 0.3567 - val_loss: 2.9242\n",
      "Epoch 5/20\n",
      "\u001b[1m33/33\u001b[0m \u001b[32m━━━━━━━━━━━━━━━━━━━━\u001b[0m\u001b[37m\u001b[0m \u001b[1m7s\u001b[0m 225ms/step - accuracy: 0.6080 - loss: 0.8809 - val_accuracy: 0.3633 - val_loss: 3.1118\n",
      "Epoch 6/20\n",
      "\u001b[1m33/33\u001b[0m \u001b[32m━━━━━━━━━━━━━━━━━━━━\u001b[0m\u001b[37m\u001b[0m \u001b[1m8s\u001b[0m 228ms/step - accuracy: 0.6638 - loss: 0.7801 - val_accuracy: 0.4533 - val_loss: 1.8905\n",
      "Epoch 7/20\n",
      "\u001b[1m33/33\u001b[0m \u001b[32m━━━━━━━━━━━━━━━━━━━━\u001b[0m\u001b[37m\u001b[0m \u001b[1m7s\u001b[0m 215ms/step - accuracy: 0.6596 - loss: 0.8154 - val_accuracy: 0.6400 - val_loss: 1.1682\n",
      "Epoch 8/20\n",
      "\u001b[1m33/33\u001b[0m \u001b[32m━━━━━━━━━━━━━━━━━━━━\u001b[0m\u001b[37m\u001b[0m \u001b[1m7s\u001b[0m 203ms/step - accuracy: 0.7191 - loss: 0.6619 - val_accuracy: 0.6333 - val_loss: 1.1982\n",
      "Epoch 9/20\n",
      "\u001b[1m33/33\u001b[0m \u001b[32m━━━━━━━━━━━━━━━━━━━━\u001b[0m\u001b[37m\u001b[0m \u001b[1m7s\u001b[0m 214ms/step - accuracy: 0.7164 - loss: 0.7178 - val_accuracy: 0.7000 - val_loss: 1.1801\n",
      "Epoch 10/20\n",
      "\u001b[1m33/33\u001b[0m \u001b[32m━━━━━━━━━━━━━━━━━━━━\u001b[0m\u001b[37m\u001b[0m \u001b[1m8s\u001b[0m 237ms/step - accuracy: 0.6949 - loss: 0.6914 - val_accuracy: 0.6033 - val_loss: 1.8396\n",
      "Epoch 11/20\n",
      "\u001b[1m33/33\u001b[0m \u001b[32m━━━━━━━━━━━━━━━━━━━━\u001b[0m\u001b[37m\u001b[0m \u001b[1m7s\u001b[0m 205ms/step - accuracy: 0.7142 - loss: 0.7005 - val_accuracy: 0.5700 - val_loss: 2.6377\n",
      "Epoch 12/20\n",
      "\u001b[1m33/33\u001b[0m \u001b[32m━━━━━━━━━━━━━━━━━━━━\u001b[0m\u001b[37m\u001b[0m \u001b[1m6s\u001b[0m 192ms/step - accuracy: 0.7563 - loss: 0.6331 - val_accuracy: 0.6633 - val_loss: 1.9037\n",
      "Epoch 13/20\n",
      "\u001b[1m33/33\u001b[0m \u001b[32m━━━━━━━━━━━━━━━━━━━━\u001b[0m\u001b[37m\u001b[0m \u001b[1m6s\u001b[0m 194ms/step - accuracy: 0.7447 - loss: 0.6299 - val_accuracy: 0.6233 - val_loss: 2.3533\n",
      "Epoch 14/20\n",
      "\u001b[1m33/33\u001b[0m \u001b[32m━━━━━━━━━━━━━━━━━━━━\u001b[0m\u001b[37m\u001b[0m \u001b[1m6s\u001b[0m 191ms/step - accuracy: 0.7432 - loss: 0.6151 - val_accuracy: 0.6733 - val_loss: 1.6841\n",
      "Epoch 15/20\n",
      "\u001b[1m33/33\u001b[0m \u001b[32m━━━━━━━━━━━━━━━━━━━━\u001b[0m\u001b[37m\u001b[0m \u001b[1m6s\u001b[0m 191ms/step - accuracy: 0.7402 - loss: 0.6405 - val_accuracy: 0.7233 - val_loss: 1.2572\n",
      "Epoch 16/20\n",
      "\u001b[1m33/33\u001b[0m \u001b[32m━━━━━━━━━━━━━━━━━━━━\u001b[0m\u001b[37m\u001b[0m \u001b[1m6s\u001b[0m 191ms/step - accuracy: 0.7463 - loss: 0.6474 - val_accuracy: 0.7133 - val_loss: 1.3596\n",
      "Epoch 17/20\n",
      "\u001b[1m33/33\u001b[0m \u001b[32m━━━━━━━━━━━━━━━━━━━━\u001b[0m\u001b[37m\u001b[0m \u001b[1m7s\u001b[0m 221ms/step - accuracy: 0.7416 - loss: 0.6202 - val_accuracy: 0.6167 - val_loss: 2.0940\n",
      "Epoch 18/20\n",
      "\u001b[1m33/33\u001b[0m \u001b[32m━━━━━━━━━━━━━━━━━━━━\u001b[0m\u001b[37m\u001b[0m \u001b[1m7s\u001b[0m 213ms/step - accuracy: 0.7529 - loss: 0.5928 - val_accuracy: 0.7800 - val_loss: 0.8695\n",
      "Epoch 19/20\n",
      "\u001b[1m33/33\u001b[0m \u001b[32m━━━━━━━━━━━━━━━━━━━━\u001b[0m\u001b[37m\u001b[0m \u001b[1m7s\u001b[0m 208ms/step - accuracy: 0.7808 - loss: 0.5700 - val_accuracy: 0.7900 - val_loss: 0.7762\n",
      "Epoch 20/20\n",
      "\u001b[1m33/33\u001b[0m \u001b[32m━━━━━━━━━━━━━━━━━━━━\u001b[0m\u001b[37m\u001b[0m \u001b[1m6s\u001b[0m 184ms/step - accuracy: 0.7853 - loss: 0.5318 - val_accuracy: 0.8200 - val_loss: 0.6153\n",
      "Validation accuracy: 0.8199999928474426\n",
      "Training model with dropout=0.3 and learning_rate=0.0001\n",
      "Epoch 1/20\n",
      "\u001b[1m33/33\u001b[0m \u001b[32m━━━━━━━━━━━━━━━━━━━━\u001b[0m\u001b[37m\u001b[0m \u001b[1m11s\u001b[0m 235ms/step - accuracy: 0.3879 - loss: 2.8559 - val_accuracy: 0.3400 - val_loss: 1.1144\n",
      "Epoch 2/20\n",
      "\u001b[1m33/33\u001b[0m \u001b[32m━━━━━━━━━━━━━━━━━━━━\u001b[0m\u001b[37m\u001b[0m \u001b[1m7s\u001b[0m 219ms/step - accuracy: 0.4894 - loss: 1.8660 - val_accuracy: 0.3333 - val_loss: 1.1512\n",
      "Epoch 3/20\n",
      "\u001b[1m33/33\u001b[0m \u001b[32m━━━━━━━━━━━━━━━━━━━━\u001b[0m\u001b[37m\u001b[0m \u001b[1m7s\u001b[0m 206ms/step - accuracy: 0.5223 - loss: 1.4097 - val_accuracy: 0.5133 - val_loss: 1.0873\n",
      "Epoch 4/20\n",
      "\u001b[1m33/33\u001b[0m \u001b[32m━━━━━━━━━━━━━━━━━━━━\u001b[0m\u001b[37m\u001b[0m \u001b[1m7s\u001b[0m 197ms/step - accuracy: 0.5272 - loss: 1.2656 - val_accuracy: 0.4967 - val_loss: 1.1540\n",
      "Epoch 5/20\n",
      "\u001b[1m33/33\u001b[0m \u001b[32m━━━━━━━━━━━━━━━━━━━━\u001b[0m\u001b[37m\u001b[0m \u001b[1m6s\u001b[0m 187ms/step - accuracy: 0.5358 - loss: 1.0891 - val_accuracy: 0.5933 - val_loss: 0.9509\n",
      "Epoch 6/20\n",
      "\u001b[1m33/33\u001b[0m \u001b[32m━━━━━━━━━━━━━━━━━━━━\u001b[0m\u001b[37m\u001b[0m \u001b[1m6s\u001b[0m 175ms/step - accuracy: 0.5532 - loss: 1.0761 - val_accuracy: 0.6200 - val_loss: 0.8484\n",
      "Epoch 7/20\n",
      "\u001b[1m33/33\u001b[0m \u001b[32m━━━━━━━━━━━━━━━━━━━━\u001b[0m\u001b[37m\u001b[0m \u001b[1m6s\u001b[0m 176ms/step - accuracy: 0.5477 - loss: 1.0161 - val_accuracy: 0.5567 - val_loss: 0.9545\n",
      "Epoch 8/20\n",
      "\u001b[1m33/33\u001b[0m \u001b[32m━━━━━━━━━━━━━━━━━━━━\u001b[0m\u001b[37m\u001b[0m \u001b[1m6s\u001b[0m 174ms/step - accuracy: 0.5402 - loss: 1.0158 - val_accuracy: 0.6067 - val_loss: 0.9312\n",
      "Epoch 9/20\n",
      "\u001b[1m33/33\u001b[0m \u001b[32m━━━━━━━━━━━━━━━━━━━━\u001b[0m\u001b[37m\u001b[0m \u001b[1m6s\u001b[0m 177ms/step - accuracy: 0.5920 - loss: 0.9500 - val_accuracy: 0.6867 - val_loss: 0.8560\n",
      "Epoch 10/20\n",
      "\u001b[1m33/33\u001b[0m \u001b[32m━━━━━━━━━━━━━━━━━━━━\u001b[0m\u001b[37m\u001b[0m \u001b[1m6s\u001b[0m 177ms/step - accuracy: 0.5765 - loss: 0.9418 - val_accuracy: 0.6567 - val_loss: 0.9847\n",
      "Epoch 11/20\n",
      "\u001b[1m33/33\u001b[0m \u001b[32m━━━━━━━━━━━━━━━━━━━━\u001b[0m\u001b[37m\u001b[0m \u001b[1m6s\u001b[0m 185ms/step - accuracy: 0.6072 - loss: 0.9334 - val_accuracy: 0.6900 - val_loss: 0.9271\n",
      "Epoch 12/20\n",
      "\u001b[1m33/33\u001b[0m \u001b[32m━━━━━━━━━━━━━━━━━━━━\u001b[0m\u001b[37m\u001b[0m \u001b[1m6s\u001b[0m 179ms/step - accuracy: 0.6105 - loss: 0.8687 - val_accuracy: 0.7000 - val_loss: 0.9201\n",
      "Epoch 13/20\n",
      "\u001b[1m33/33\u001b[0m \u001b[32m━━━━━━━━━━━━━━━━━━━━\u001b[0m\u001b[37m\u001b[0m \u001b[1m6s\u001b[0m 179ms/step - accuracy: 0.5865 - loss: 0.9045 - val_accuracy: 0.7033 - val_loss: 0.9311\n",
      "Epoch 14/20\n",
      "\u001b[1m33/33\u001b[0m \u001b[32m━━━━━━━━━━━━━━━━━━━━\u001b[0m\u001b[37m\u001b[0m \u001b[1m6s\u001b[0m 176ms/step - accuracy: 0.6214 - loss: 0.8811 - val_accuracy: 0.6767 - val_loss: 1.0520\n",
      "Epoch 15/20\n",
      "\u001b[1m33/33\u001b[0m \u001b[32m━━━━━━━━━━━━━━━━━━━━\u001b[0m\u001b[37m\u001b[0m \u001b[1m6s\u001b[0m 176ms/step - accuracy: 0.6380 - loss: 0.8097 - val_accuracy: 0.6867 - val_loss: 0.9854\n",
      "Epoch 16/20\n",
      "\u001b[1m33/33\u001b[0m \u001b[32m━━━━━━━━━━━━━━━━━━━━\u001b[0m\u001b[37m\u001b[0m \u001b[1m6s\u001b[0m 177ms/step - accuracy: 0.6766 - loss: 0.7948 - val_accuracy: 0.6967 - val_loss: 0.9108\n",
      "Epoch 17/20\n",
      "\u001b[1m33/33\u001b[0m \u001b[32m━━━━━━━━━━━━━━━━━━━━\u001b[0m\u001b[37m\u001b[0m \u001b[1m6s\u001b[0m 177ms/step - accuracy: 0.6771 - loss: 0.7421 - val_accuracy: 0.6667 - val_loss: 0.9480\n",
      "Epoch 18/20\n",
      "\u001b[1m33/33\u001b[0m \u001b[32m━━━━━━━━━━━━━━━━━━━━\u001b[0m\u001b[37m\u001b[0m \u001b[1m6s\u001b[0m 181ms/step - accuracy: 0.6461 - loss: 0.8166 - val_accuracy: 0.6633 - val_loss: 0.9076\n",
      "Epoch 19/20\n",
      "\u001b[1m33/33\u001b[0m \u001b[32m━━━━━━━━━━━━━━━━━━━━\u001b[0m\u001b[37m\u001b[0m \u001b[1m6s\u001b[0m 176ms/step - accuracy: 0.6387 - loss: 0.8283 - val_accuracy: 0.7067 - val_loss: 0.7471\n",
      "Epoch 20/20\n",
      "\u001b[1m33/33\u001b[0m \u001b[32m━━━━━━━━━━━━━━━━━━━━\u001b[0m\u001b[37m\u001b[0m \u001b[1m6s\u001b[0m 181ms/step - accuracy: 0.6888 - loss: 0.7399 - val_accuracy: 0.6967 - val_loss: 0.7348\n",
      "Validation accuracy: 0.7066666483879089\n",
      "Training model with dropout=0.4 and learning_rate=0.001\n",
      "Epoch 1/20\n",
      "\u001b[1m33/33\u001b[0m \u001b[32m━━━━━━━━━━━━━━━━━━━━\u001b[0m\u001b[37m\u001b[0m \u001b[1m9s\u001b[0m 194ms/step - accuracy: 0.4177 - loss: 3.6698 - val_accuracy: 0.3333 - val_loss: 1.6527\n",
      "Epoch 2/20\n",
      "\u001b[1m33/33\u001b[0m \u001b[32m━━━━━━━━━━━━━━━━━━━━\u001b[0m\u001b[37m\u001b[0m \u001b[1m6s\u001b[0m 175ms/step - accuracy: 0.5469 - loss: 1.0588 - val_accuracy: 0.3333 - val_loss: 2.7687\n",
      "Epoch 3/20\n",
      "\u001b[1m33/33\u001b[0m \u001b[32m━━━━━━━━━━━━━━━━━━━━\u001b[0m\u001b[37m\u001b[0m \u001b[1m6s\u001b[0m 183ms/step - accuracy: 0.5216 - loss: 1.0179 - val_accuracy: 0.3333 - val_loss: 3.5570\n",
      "Epoch 4/20\n",
      "\u001b[1m33/33\u001b[0m \u001b[32m━━━━━━━━━━━━━━━━━━━━\u001b[0m\u001b[37m\u001b[0m \u001b[1m6s\u001b[0m 177ms/step - accuracy: 0.6183 - loss: 0.8549 - val_accuracy: 0.3333 - val_loss: 4.3379\n",
      "Epoch 5/20\n",
      "\u001b[1m33/33\u001b[0m \u001b[32m━━━━━━━━━━━━━━━━━━━━\u001b[0m\u001b[37m\u001b[0m \u001b[1m7s\u001b[0m 201ms/step - accuracy: 0.6272 - loss: 0.8057 - val_accuracy: 0.3333 - val_loss: 4.7969\n",
      "Epoch 6/20\n",
      "\u001b[1m33/33\u001b[0m \u001b[32m━━━━━━━━━━━━━━━━━━━━\u001b[0m\u001b[37m\u001b[0m \u001b[1m6s\u001b[0m 177ms/step - accuracy: 0.6276 - loss: 0.8890 - val_accuracy: 0.3333 - val_loss: 6.4924\n",
      "Epoch 7/20\n",
      "\u001b[1m33/33\u001b[0m \u001b[32m━━━━━━━━━━━━━━━━━━━━\u001b[0m\u001b[37m\u001b[0m \u001b[1m6s\u001b[0m 181ms/step - accuracy: 0.6550 - loss: 0.8112 - val_accuracy: 0.3333 - val_loss: 4.8170\n",
      "Epoch 8/20\n",
      "\u001b[1m33/33\u001b[0m \u001b[32m━━━━━━━━━━━━━━━━━━━━\u001b[0m\u001b[37m\u001b[0m \u001b[1m6s\u001b[0m 182ms/step - accuracy: 0.6866 - loss: 0.7723 - val_accuracy: 0.3333 - val_loss: 5.6611\n",
      "Epoch 9/20\n",
      "\u001b[1m33/33\u001b[0m \u001b[32m━━━━━━━━━━━━━━━━━━━━\u001b[0m\u001b[37m\u001b[0m \u001b[1m6s\u001b[0m 181ms/step - accuracy: 0.6620 - loss: 0.8103 - val_accuracy: 0.3600 - val_loss: 4.1113\n",
      "Epoch 10/20\n",
      "\u001b[1m33/33\u001b[0m \u001b[32m━━━━━━━━━━━━━━━━━━━━\u001b[0m\u001b[37m\u001b[0m \u001b[1m6s\u001b[0m 175ms/step - accuracy: 0.6681 - loss: 0.8150 - val_accuracy: 0.4733 - val_loss: 3.0903\n",
      "Epoch 11/20\n",
      "\u001b[1m33/33\u001b[0m \u001b[32m━━━━━━━━━━━━━━━━━━━━\u001b[0m\u001b[37m\u001b[0m \u001b[1m6s\u001b[0m 194ms/step - accuracy: 0.7310 - loss: 0.7333 - val_accuracy: 0.5167 - val_loss: 3.7583\n",
      "Epoch 12/20\n",
      "\u001b[1m33/33\u001b[0m \u001b[32m━━━━━━━━━━━━━━━━━━━━\u001b[0m\u001b[37m\u001b[0m \u001b[1m6s\u001b[0m 190ms/step - accuracy: 0.7190 - loss: 0.7871 - val_accuracy: 0.5333 - val_loss: 2.4994\n",
      "Epoch 13/20\n",
      "\u001b[1m33/33\u001b[0m \u001b[32m━━━━━━━━━━━━━━━━━━━━\u001b[0m\u001b[37m\u001b[0m \u001b[1m7s\u001b[0m 211ms/step - accuracy: 0.7259 - loss: 0.6972 - val_accuracy: 0.6833 - val_loss: 1.5748\n",
      "Epoch 14/20\n",
      "\u001b[1m33/33\u001b[0m \u001b[32m━━━━━━━━━━━━━━━━━━━━\u001b[0m\u001b[37m\u001b[0m \u001b[1m6s\u001b[0m 191ms/step - accuracy: 0.7155 - loss: 0.6933 - val_accuracy: 0.6533 - val_loss: 1.4638\n",
      "Epoch 15/20\n",
      "\u001b[1m33/33\u001b[0m \u001b[32m━━━━━━━━━━━━━━━━━━━━\u001b[0m\u001b[37m\u001b[0m \u001b[1m9s\u001b[0m 277ms/step - accuracy: 0.6989 - loss: 0.7166 - val_accuracy: 0.6867 - val_loss: 1.6318\n",
      "Epoch 16/20\n",
      "\u001b[1m33/33\u001b[0m \u001b[32m━━━━━━━━━━━━━━━━━━━━\u001b[0m\u001b[37m\u001b[0m \u001b[1m10s\u001b[0m 310ms/step - accuracy: 0.7044 - loss: 0.7095 - val_accuracy: 0.6467 - val_loss: 1.9003\n",
      "Epoch 17/20\n",
      "\u001b[1m33/33\u001b[0m \u001b[32m━━━━━━━━━━━━━━━━━━━━\u001b[0m\u001b[37m\u001b[0m \u001b[1m10s\u001b[0m 313ms/step - accuracy: 0.7327 - loss: 0.6645 - val_accuracy: 0.6900 - val_loss: 1.6040\n",
      "Epoch 18/20\n",
      "\u001b[1m33/33\u001b[0m \u001b[32m━━━━━━━━━━━━━━━━━━━━\u001b[0m\u001b[37m\u001b[0m \u001b[1m10s\u001b[0m 309ms/step - accuracy: 0.7620 - loss: 0.6460 - val_accuracy: 0.7400 - val_loss: 0.9330\n",
      "Epoch 19/20\n",
      "\u001b[1m33/33\u001b[0m \u001b[32m━━━━━━━━━━━━━━━━━━━━\u001b[0m\u001b[37m\u001b[0m \u001b[1m9s\u001b[0m 286ms/step - accuracy: 0.7273 - loss: 0.6701 - val_accuracy: 0.5800 - val_loss: 1.6488\n",
      "Epoch 20/20\n",
      "\u001b[1m33/33\u001b[0m \u001b[32m━━━━━━━━━━━━━━━━━━━━\u001b[0m\u001b[37m\u001b[0m \u001b[1m9s\u001b[0m 289ms/step - accuracy: 0.7461 - loss: 0.6533 - val_accuracy: 0.7300 - val_loss: 0.8356\n",
      "Validation accuracy: 0.7400000095367432\n",
      "Training model with dropout=0.4 and learning_rate=0.0005\n",
      "Epoch 1/20\n",
      "\u001b[1m33/33\u001b[0m \u001b[32m━━━━━━━━━━━━━━━━━━━━\u001b[0m\u001b[37m\u001b[0m \u001b[1m11s\u001b[0m 222ms/step - accuracy: 0.4079 - loss: 3.2043 - val_accuracy: 0.3333 - val_loss: 1.2054\n",
      "Epoch 2/20\n",
      "\u001b[1m33/33\u001b[0m \u001b[32m━━━━━━━━━━━━━━━━━━━━\u001b[0m\u001b[37m\u001b[0m \u001b[1m8s\u001b[0m 239ms/step - accuracy: 0.4972 - loss: 1.3064 - val_accuracy: 0.3333 - val_loss: 2.7267\n",
      "Epoch 3/20\n",
      "\u001b[1m33/33\u001b[0m \u001b[32m━━━━━━━━━━━━━━━━━━━━\u001b[0m\u001b[37m\u001b[0m \u001b[1m7s\u001b[0m 217ms/step - accuracy: 0.5425 - loss: 0.9917 - val_accuracy: 0.3333 - val_loss: 3.8386\n",
      "Epoch 4/20\n",
      "\u001b[1m33/33\u001b[0m \u001b[32m━━━━━━━━━━━━━━━━━━━━\u001b[0m\u001b[37m\u001b[0m \u001b[1m7s\u001b[0m 202ms/step - accuracy: 0.5893 - loss: 0.9231 - val_accuracy: 0.3333 - val_loss: 3.7518\n",
      "Epoch 5/20\n",
      "\u001b[1m33/33\u001b[0m \u001b[32m━━━━━━━━━━━━━━━━━━━━\u001b[0m\u001b[37m\u001b[0m \u001b[1m6s\u001b[0m 194ms/step - accuracy: 0.6207 - loss: 0.8917 - val_accuracy: 0.3333 - val_loss: 2.9733\n",
      "Epoch 6/20\n",
      "\u001b[1m33/33\u001b[0m \u001b[32m━━━━━━━━━━━━━━━━━━━━\u001b[0m\u001b[37m\u001b[0m \u001b[1m7s\u001b[0m 200ms/step - accuracy: 0.6344 - loss: 0.8491 - val_accuracy: 0.3767 - val_loss: 2.2628\n",
      "Epoch 7/20\n",
      "\u001b[1m33/33\u001b[0m \u001b[32m━━━━━━━━━━━━━━━━━━━━\u001b[0m\u001b[37m\u001b[0m \u001b[1m6s\u001b[0m 195ms/step - accuracy: 0.6798 - loss: 0.8288 - val_accuracy: 0.4600 - val_loss: 1.4988\n",
      "Epoch 8/20\n",
      "\u001b[1m33/33\u001b[0m \u001b[32m━━━━━━━━━━━━━━━━━━━━\u001b[0m\u001b[37m\u001b[0m \u001b[1m7s\u001b[0m 202ms/step - accuracy: 0.6557 - loss: 0.8002 - val_accuracy: 0.4833 - val_loss: 1.6487\n",
      "Epoch 9/20\n",
      "\u001b[1m33/33\u001b[0m \u001b[32m━━━━━━━━━━━━━━━━━━━━\u001b[0m\u001b[37m\u001b[0m \u001b[1m6s\u001b[0m 196ms/step - accuracy: 0.6560 - loss: 0.8225 - val_accuracy: 0.5233 - val_loss: 1.3817\n",
      "Epoch 10/20\n",
      "\u001b[1m33/33\u001b[0m \u001b[32m━━━━━━━━━━━━━━━━━━━━\u001b[0m\u001b[37m\u001b[0m \u001b[1m6s\u001b[0m 192ms/step - accuracy: 0.6892 - loss: 0.7883 - val_accuracy: 0.6467 - val_loss: 1.3626\n",
      "Epoch 11/20\n",
      "\u001b[1m33/33\u001b[0m \u001b[32m━━━━━━━━━━━━━━━━━━━━\u001b[0m\u001b[37m\u001b[0m \u001b[1m6s\u001b[0m 193ms/step - accuracy: 0.6862 - loss: 0.7471 - val_accuracy: 0.6700 - val_loss: 1.5884\n",
      "Epoch 12/20\n",
      "\u001b[1m33/33\u001b[0m \u001b[32m━━━━━━━━━━━━━━━━━━━━\u001b[0m\u001b[37m\u001b[0m \u001b[1m6s\u001b[0m 193ms/step - accuracy: 0.7016 - loss: 0.7193 - val_accuracy: 0.6833 - val_loss: 1.6521\n",
      "Epoch 13/20\n",
      "\u001b[1m33/33\u001b[0m \u001b[32m━━━━━━━━━━━━━━━━━━━━\u001b[0m\u001b[37m\u001b[0m \u001b[1m6s\u001b[0m 196ms/step - accuracy: 0.6625 - loss: 0.7954 - val_accuracy: 0.7167 - val_loss: 1.3912\n",
      "Epoch 14/20\n",
      "\u001b[1m33/33\u001b[0m \u001b[32m━━━━━━━━━━━━━━━━━━━━\u001b[0m\u001b[37m\u001b[0m \u001b[1m6s\u001b[0m 191ms/step - accuracy: 0.7082 - loss: 0.6719 - val_accuracy: 0.7200 - val_loss: 1.5358\n",
      "Epoch 15/20\n",
      "\u001b[1m33/33\u001b[0m \u001b[32m━━━━━━━━━━━━━━━━━━━━\u001b[0m\u001b[37m\u001b[0m \u001b[1m6s\u001b[0m 195ms/step - accuracy: 0.6992 - loss: 0.7219 - val_accuracy: 0.6933 - val_loss: 1.2060\n",
      "Epoch 16/20\n",
      "\u001b[1m33/33\u001b[0m \u001b[32m━━━━━━━━━━━━━━━━━━━━\u001b[0m\u001b[37m\u001b[0m \u001b[1m6s\u001b[0m 196ms/step - accuracy: 0.6838 - loss: 0.7743 - val_accuracy: 0.6833 - val_loss: 1.0708\n",
      "Epoch 17/20\n",
      "\u001b[1m33/33\u001b[0m \u001b[32m━━━━━━━━━━━━━━━━━━━━\u001b[0m\u001b[37m\u001b[0m \u001b[1m7s\u001b[0m 211ms/step - accuracy: 0.7294 - loss: 0.7073 - val_accuracy: 0.7767 - val_loss: 0.8155\n",
      "Epoch 18/20\n",
      "\u001b[1m33/33\u001b[0m \u001b[32m━━━━━━━━━━━━━━━━━━━━\u001b[0m\u001b[37m\u001b[0m \u001b[1m7s\u001b[0m 204ms/step - accuracy: 0.7169 - loss: 0.7100 - val_accuracy: 0.7067 - val_loss: 1.1229\n",
      "Epoch 19/20\n",
      "\u001b[1m33/33\u001b[0m \u001b[32m━━━━━━━━━━━━━━━━━━━━\u001b[0m\u001b[37m\u001b[0m \u001b[1m6s\u001b[0m 190ms/step - accuracy: 0.7341 - loss: 0.6792 - val_accuracy: 0.7167 - val_loss: 1.6815\n",
      "Epoch 20/20\n",
      "\u001b[1m33/33\u001b[0m \u001b[32m━━━━━━━━━━━━━━━━━━━━\u001b[0m\u001b[37m\u001b[0m \u001b[1m6s\u001b[0m 196ms/step - accuracy: 0.7225 - loss: 0.6834 - val_accuracy: 0.7000 - val_loss: 1.2668\n",
      "Validation accuracy: 0.7766666412353516\n",
      "Training model with dropout=0.4 and learning_rate=0.0001\n",
      "Epoch 1/20\n",
      "\u001b[1m33/33\u001b[0m \u001b[32m━━━━━━━━━━━━━━━━━━━━\u001b[0m\u001b[37m\u001b[0m \u001b[1m9s\u001b[0m 212ms/step - accuracy: 0.3310 - loss: 4.2973 - val_accuracy: 0.3333 - val_loss: 1.4272\n",
      "Epoch 2/20\n",
      "\u001b[1m33/33\u001b[0m \u001b[32m━━━━━━━━━━━━━━━━━━━━\u001b[0m\u001b[37m\u001b[0m \u001b[1m7s\u001b[0m 197ms/step - accuracy: 0.4229 - loss: 2.5182 - val_accuracy: 0.3333 - val_loss: 2.5413\n",
      "Epoch 3/20\n",
      "\u001b[1m33/33\u001b[0m \u001b[32m━━━━━━━━━━━━━━━━━━━━\u001b[0m\u001b[37m\u001b[0m \u001b[1m6s\u001b[0m 192ms/step - accuracy: 0.4687 - loss: 1.8980 - val_accuracy: 0.3333 - val_loss: 3.0861\n",
      "Epoch 4/20\n",
      "\u001b[1m33/33\u001b[0m \u001b[32m━━━━━━━━━━━━━━━━━━━━\u001b[0m\u001b[37m\u001b[0m \u001b[1m6s\u001b[0m 195ms/step - accuracy: 0.4941 - loss: 1.4347 - val_accuracy: 0.3333 - val_loss: 3.7666\n",
      "Epoch 5/20\n",
      "\u001b[1m33/33\u001b[0m \u001b[32m━━━━━━━━━━━━━━━━━━━━\u001b[0m\u001b[37m\u001b[0m \u001b[1m7s\u001b[0m 197ms/step - accuracy: 0.4833 - loss: 1.3587 - val_accuracy: 0.3333 - val_loss: 3.8819\n",
      "Epoch 6/20\n",
      "\u001b[1m33/33\u001b[0m \u001b[32m━━━━━━━━━━━━━━━━━━━━\u001b[0m\u001b[37m\u001b[0m \u001b[1m6s\u001b[0m 194ms/step - accuracy: 0.5129 - loss: 1.2254 - val_accuracy: 0.3333 - val_loss: 3.7652\n",
      "Epoch 7/20\n",
      "\u001b[1m33/33\u001b[0m \u001b[32m━━━━━━━━━━━━━━━━━━━━\u001b[0m\u001b[37m\u001b[0m \u001b[1m7s\u001b[0m 197ms/step - accuracy: 0.4904 - loss: 1.2109 - val_accuracy: 0.3333 - val_loss: 3.6395\n",
      "Epoch 8/20\n",
      "\u001b[1m33/33\u001b[0m \u001b[32m━━━━━━━━━━━━━━━━━━━━\u001b[0m\u001b[37m\u001b[0m \u001b[1m7s\u001b[0m 207ms/step - accuracy: 0.4999 - loss: 1.0985 - val_accuracy: 0.3333 - val_loss: 3.1671\n",
      "Epoch 9/20\n",
      "\u001b[1m33/33\u001b[0m \u001b[32m━━━━━━━━━━━━━━━━━━━━\u001b[0m\u001b[37m\u001b[0m \u001b[1m6s\u001b[0m 191ms/step - accuracy: 0.5469 - loss: 1.0577 - val_accuracy: 0.3467 - val_loss: 2.8739\n",
      "Epoch 10/20\n",
      "\u001b[1m33/33\u001b[0m \u001b[32m━━━━━━━━━━━━━━━━━━━━\u001b[0m\u001b[37m\u001b[0m \u001b[1m7s\u001b[0m 205ms/step - accuracy: 0.5521 - loss: 1.0234 - val_accuracy: 0.4667 - val_loss: 2.6216\n",
      "Epoch 11/20\n",
      "\u001b[1m33/33\u001b[0m \u001b[32m━━━━━━━━━━━━━━━━━━━━\u001b[0m\u001b[37m\u001b[0m \u001b[1m8s\u001b[0m 248ms/step - accuracy: 0.5184 - loss: 1.0593 - val_accuracy: 0.5267 - val_loss: 2.3346\n",
      "Epoch 12/20\n",
      "\u001b[1m33/33\u001b[0m \u001b[32m━━━━━━━━━━━━━━━━━━━━\u001b[0m\u001b[37m\u001b[0m \u001b[1m6s\u001b[0m 180ms/step - accuracy: 0.5497 - loss: 1.0538 - val_accuracy: 0.6200 - val_loss: 1.8740\n",
      "Epoch 13/20\n",
      "\u001b[1m33/33\u001b[0m \u001b[32m━━━━━━━━━━━━━━━━━━━━\u001b[0m\u001b[37m\u001b[0m \u001b[1m6s\u001b[0m 179ms/step - accuracy: 0.5343 - loss: 0.9930 - val_accuracy: 0.6433 - val_loss: 1.7531\n",
      "Epoch 14/20\n",
      "\u001b[1m33/33\u001b[0m \u001b[32m━━━━━━━━━━━━━━━━━━━━\u001b[0m\u001b[37m\u001b[0m \u001b[1m7s\u001b[0m 224ms/step - accuracy: 0.5598 - loss: 0.9925 - val_accuracy: 0.6567 - val_loss: 1.8230\n",
      "Epoch 15/20\n",
      "\u001b[1m33/33\u001b[0m \u001b[32m━━━━━━━━━━━━━━━━━━━━\u001b[0m\u001b[37m\u001b[0m \u001b[1m7s\u001b[0m 196ms/step - accuracy: 0.5799 - loss: 0.9113 - val_accuracy: 0.6800 - val_loss: 1.7179\n",
      "Epoch 16/20\n",
      "\u001b[1m33/33\u001b[0m \u001b[32m━━━━━━━━━━━━━━━━━━━━\u001b[0m\u001b[37m\u001b[0m \u001b[1m7s\u001b[0m 213ms/step - accuracy: 0.6013 - loss: 0.8798 - val_accuracy: 0.7067 - val_loss: 1.5412\n",
      "Epoch 17/20\n",
      "\u001b[1m33/33\u001b[0m \u001b[32m━━━━━━━━━━━━━━━━━━━━\u001b[0m\u001b[37m\u001b[0m \u001b[1m6s\u001b[0m 186ms/step - accuracy: 0.6065 - loss: 0.9064 - val_accuracy: 0.7067 - val_loss: 1.5930\n",
      "Epoch 18/20\n",
      "\u001b[1m33/33\u001b[0m \u001b[32m━━━━━━━━━━━━━━━━━━━━\u001b[0m\u001b[37m\u001b[0m \u001b[1m7s\u001b[0m 226ms/step - accuracy: 0.6337 - loss: 0.8661 - val_accuracy: 0.6933 - val_loss: 1.3617\n",
      "Epoch 19/20\n",
      "\u001b[1m33/33\u001b[0m \u001b[32m━━━━━━━━━━━━━━━━━━━━\u001b[0m\u001b[37m\u001b[0m \u001b[1m9s\u001b[0m 255ms/step - accuracy: 0.5972 - loss: 0.9199 - val_accuracy: 0.6967 - val_loss: 1.2456\n",
      "Epoch 20/20\n",
      "\u001b[1m33/33\u001b[0m \u001b[32m━━━━━━━━━━━━━━━━━━━━\u001b[0m\u001b[37m\u001b[0m \u001b[1m8s\u001b[0m 253ms/step - accuracy: 0.6030 - loss: 0.8867 - val_accuracy: 0.7000 - val_loss: 1.2059\n",
      "Validation accuracy: 0.7066666483879089\n",
      "Training model with dropout=0.5 and learning_rate=0.001\n",
      "Epoch 1/20\n",
      "\u001b[1m33/33\u001b[0m \u001b[32m━━━━━━━━━━━━━━━━━━━━\u001b[0m\u001b[37m\u001b[0m \u001b[1m10s\u001b[0m 221ms/step - accuracy: 0.4203 - loss: 4.3295 - val_accuracy: 0.3333 - val_loss: 2.0833\n",
      "Epoch 2/20\n",
      "\u001b[1m33/33\u001b[0m \u001b[32m━━━━━━━━━━━━━━━━━━━━\u001b[0m\u001b[37m\u001b[0m \u001b[1m7s\u001b[0m 211ms/step - accuracy: 0.4452 - loss: 1.3332 - val_accuracy: 0.3333 - val_loss: 3.0092\n",
      "Epoch 3/20\n",
      "\u001b[1m33/33\u001b[0m \u001b[32m━━━━━━━━━━━━━━━━━━━━\u001b[0m\u001b[37m\u001b[0m \u001b[1m6s\u001b[0m 185ms/step - accuracy: 0.4403 - loss: 1.0991 - val_accuracy: 0.3333 - val_loss: 4.4483\n",
      "Epoch 4/20\n",
      "\u001b[1m33/33\u001b[0m \u001b[32m━━━━━━━━━━━━━━━━━━━━\u001b[0m\u001b[37m\u001b[0m \u001b[1m6s\u001b[0m 180ms/step - accuracy: 0.5176 - loss: 1.0297 - val_accuracy: 0.3333 - val_loss: 4.5929\n",
      "Epoch 5/20\n",
      "\u001b[1m33/33\u001b[0m \u001b[32m━━━━━━━━━━━━━━━━━━━━\u001b[0m\u001b[37m\u001b[0m \u001b[1m6s\u001b[0m 175ms/step - accuracy: 0.5173 - loss: 1.0361 - val_accuracy: 0.3467 - val_loss: 4.4258\n",
      "Epoch 6/20\n",
      "\u001b[1m33/33\u001b[0m \u001b[32m━━━━━━━━━━━━━━━━━━━━\u001b[0m\u001b[37m\u001b[0m \u001b[1m6s\u001b[0m 169ms/step - accuracy: 0.5165 - loss: 1.0084 - val_accuracy: 0.3333 - val_loss: 7.0475\n",
      "Epoch 7/20\n",
      "\u001b[1m33/33\u001b[0m \u001b[32m━━━━━━━━━━━━━━━━━━━━\u001b[0m\u001b[37m\u001b[0m \u001b[1m6s\u001b[0m 177ms/step - accuracy: 0.5215 - loss: 0.9754 - val_accuracy: 0.3433 - val_loss: 5.7747\n",
      "Epoch 8/20\n",
      "\u001b[1m33/33\u001b[0m \u001b[32m━━━━━━━━━━━━━━━━━━━━\u001b[0m\u001b[37m\u001b[0m \u001b[1m6s\u001b[0m 173ms/step - accuracy: 0.6091 - loss: 0.9098 - val_accuracy: 0.3633 - val_loss: 5.1069\n",
      "Epoch 9/20\n",
      "\u001b[1m33/33\u001b[0m \u001b[32m━━━━━━━━━━━━━━━━━━━━\u001b[0m\u001b[37m\u001b[0m \u001b[1m7s\u001b[0m 203ms/step - accuracy: 0.5817 - loss: 0.9375 - val_accuracy: 0.4100 - val_loss: 5.4281\n",
      "Epoch 10/20\n",
      "\u001b[1m33/33\u001b[0m \u001b[32m━━━━━━━━━━━━━━━━━━━━\u001b[0m\u001b[37m\u001b[0m \u001b[1m6s\u001b[0m 174ms/step - accuracy: 0.6013 - loss: 0.9458 - val_accuracy: 0.4067 - val_loss: 5.7271\n",
      "Epoch 11/20\n",
      "\u001b[1m33/33\u001b[0m \u001b[32m━━━━━━━━━━━━━━━━━━━━\u001b[0m\u001b[37m\u001b[0m \u001b[1m6s\u001b[0m 176ms/step - accuracy: 0.5789 - loss: 0.8767 - val_accuracy: 0.4200 - val_loss: 5.2758\n",
      "Epoch 12/20\n",
      "\u001b[1m33/33\u001b[0m \u001b[32m━━━━━━━━━━━━━━━━━━━━\u001b[0m\u001b[37m\u001b[0m \u001b[1m6s\u001b[0m 180ms/step - accuracy: 0.5683 - loss: 0.8636 - val_accuracy: 0.4433 - val_loss: 4.0501\n",
      "Epoch 13/20\n",
      "\u001b[1m33/33\u001b[0m \u001b[32m━━━━━━━━━━━━━━━━━━━━\u001b[0m\u001b[37m\u001b[0m \u001b[1m6s\u001b[0m 173ms/step - accuracy: 0.6033 - loss: 0.8401 - val_accuracy: 0.5067 - val_loss: 3.6882\n",
      "Epoch 14/20\n",
      "\u001b[1m33/33\u001b[0m \u001b[32m━━━━━━━━━━━━━━━━━━━━\u001b[0m\u001b[37m\u001b[0m \u001b[1m6s\u001b[0m 176ms/step - accuracy: 0.6229 - loss: 0.8607 - val_accuracy: 0.5600 - val_loss: 2.9726\n",
      "Epoch 15/20\n",
      "\u001b[1m33/33\u001b[0m \u001b[32m━━━━━━━━━━━━━━━━━━━━\u001b[0m\u001b[37m\u001b[0m \u001b[1m6s\u001b[0m 175ms/step - accuracy: 0.6298 - loss: 0.8128 - val_accuracy: 0.5767 - val_loss: 2.8973\n",
      "Epoch 16/20\n",
      "\u001b[1m33/33\u001b[0m \u001b[32m━━━━━━━━━━━━━━━━━━━━\u001b[0m\u001b[37m\u001b[0m \u001b[1m6s\u001b[0m 179ms/step - accuracy: 0.6285 - loss: 0.8541 - val_accuracy: 0.6200 - val_loss: 2.4199\n",
      "Epoch 17/20\n",
      "\u001b[1m33/33\u001b[0m \u001b[32m━━━━━━━━━━━━━━━━━━━━\u001b[0m\u001b[37m\u001b[0m \u001b[1m7s\u001b[0m 212ms/step - accuracy: 0.6571 - loss: 0.8038 - val_accuracy: 0.6500 - val_loss: 2.7035\n",
      "Epoch 18/20\n",
      "\u001b[1m33/33\u001b[0m \u001b[32m━━━━━━━━━━━━━━━━━━━━\u001b[0m\u001b[37m\u001b[0m \u001b[1m6s\u001b[0m 191ms/step - accuracy: 0.6276 - loss: 0.8183 - val_accuracy: 0.6400 - val_loss: 1.9440\n",
      "Epoch 19/20\n",
      "\u001b[1m33/33\u001b[0m \u001b[32m━━━━━━━━━━━━━━━━━━━━\u001b[0m\u001b[37m\u001b[0m \u001b[1m7s\u001b[0m 199ms/step - accuracy: 0.6438 - loss: 0.8315 - val_accuracy: 0.6267 - val_loss: 2.1263\n",
      "Epoch 20/20\n",
      "\u001b[1m33/33\u001b[0m \u001b[32m━━━━━━━━━━━━━━━━━━━━\u001b[0m\u001b[37m\u001b[0m \u001b[1m6s\u001b[0m 177ms/step - accuracy: 0.6512 - loss: 0.8253 - val_accuracy: 0.6067 - val_loss: 1.9969\n",
      "Validation accuracy: 0.6499999761581421\n",
      "Training model with dropout=0.5 and learning_rate=0.0005\n",
      "Epoch 1/20\n",
      "\u001b[1m33/33\u001b[0m \u001b[32m━━━━━━━━━━━━━━━━━━━━\u001b[0m\u001b[37m\u001b[0m \u001b[1m9s\u001b[0m 196ms/step - accuracy: 0.3803 - loss: 4.6263 - val_accuracy: 0.3333 - val_loss: 2.1746\n",
      "Epoch 2/20\n",
      "\u001b[1m33/33\u001b[0m \u001b[32m━━━━━━━━━━━━━━━━━━━━\u001b[0m\u001b[37m\u001b[0m \u001b[1m6s\u001b[0m 173ms/step - accuracy: 0.4402 - loss: 1.7084 - val_accuracy: 0.3333 - val_loss: 4.2539\n",
      "Epoch 3/20\n",
      "\u001b[1m33/33\u001b[0m \u001b[32m━━━━━━━━━━━━━━━━━━━━\u001b[0m\u001b[37m\u001b[0m \u001b[1m5s\u001b[0m 136ms/step - accuracy: 0.4326 - loss: 1.2406 - val_accuracy: 0.3333 - val_loss: 4.9894\n",
      "Epoch 4/20\n",
      "\u001b[1m33/33\u001b[0m \u001b[32m━━━━━━━━━━━━━━━━━━━━\u001b[0m\u001b[37m\u001b[0m \u001b[1m3s\u001b[0m 102ms/step - accuracy: 0.4753 - loss: 1.1235 - val_accuracy: 0.3333 - val_loss: 4.1340\n",
      "Epoch 5/20\n",
      "\u001b[1m33/33\u001b[0m \u001b[32m━━━━━━━━━━━━━━━━━━━━\u001b[0m\u001b[37m\u001b[0m \u001b[1m3s\u001b[0m 101ms/step - accuracy: 0.5100 - loss: 1.0387 - val_accuracy: 0.3333 - val_loss: 4.0574\n",
      "Epoch 6/20\n",
      "\u001b[1m33/33\u001b[0m \u001b[32m━━━━━━━━━━━━━━━━━━━━\u001b[0m\u001b[37m\u001b[0m \u001b[1m3s\u001b[0m 98ms/step - accuracy: 0.4988 - loss: 1.0148 - val_accuracy: 0.3333 - val_loss: 3.9052\n",
      "Epoch 7/20\n",
      "\u001b[1m33/33\u001b[0m \u001b[32m━━━━━━━━━━━━━━━━━━━━\u001b[0m\u001b[37m\u001b[0m \u001b[1m3s\u001b[0m 98ms/step - accuracy: 0.5420 - loss: 0.9919 - val_accuracy: 0.3333 - val_loss: 4.2254\n",
      "Epoch 8/20\n",
      "\u001b[1m33/33\u001b[0m \u001b[32m━━━━━━━━━━━━━━━━━━━━\u001b[0m\u001b[37m\u001b[0m \u001b[1m3s\u001b[0m 98ms/step - accuracy: 0.5531 - loss: 0.9605 - val_accuracy: 0.3433 - val_loss: 4.0202\n",
      "Epoch 9/20\n",
      "\u001b[1m33/33\u001b[0m \u001b[32m━━━━━━━━━━━━━━━━━━━━\u001b[0m\u001b[37m\u001b[0m \u001b[1m3s\u001b[0m 101ms/step - accuracy: 0.5436 - loss: 0.9929 - val_accuracy: 0.3667 - val_loss: 3.8811\n",
      "Epoch 10/20\n",
      "\u001b[1m33/33\u001b[0m \u001b[32m━━━━━━━━━━━━━━━━━━━━\u001b[0m\u001b[37m\u001b[0m \u001b[1m3s\u001b[0m 101ms/step - accuracy: 0.5734 - loss: 0.9594 - val_accuracy: 0.4600 - val_loss: 3.4013\n",
      "Epoch 11/20\n",
      "\u001b[1m33/33\u001b[0m \u001b[32m━━━━━━━━━━━━━━━━━━━━\u001b[0m\u001b[37m\u001b[0m \u001b[1m3s\u001b[0m 99ms/step - accuracy: 0.5868 - loss: 0.9174 - val_accuracy: 0.5067 - val_loss: 3.2177\n",
      "Epoch 12/20\n",
      "\u001b[1m33/33\u001b[0m \u001b[32m━━━━━━━━━━━━━━━━━━━━\u001b[0m\u001b[37m\u001b[0m \u001b[1m3s\u001b[0m 104ms/step - accuracy: 0.5851 - loss: 0.9091 - val_accuracy: 0.6133 - val_loss: 2.5400\n",
      "Epoch 13/20\n",
      "\u001b[1m33/33\u001b[0m \u001b[32m━━━━━━━━━━━━━━━━━━━━\u001b[0m\u001b[37m\u001b[0m \u001b[1m5s\u001b[0m 142ms/step - accuracy: 0.5917 - loss: 0.8647 - val_accuracy: 0.6167 - val_loss: 2.5227\n",
      "Epoch 14/20\n",
      "\u001b[1m33/33\u001b[0m \u001b[32m━━━━━━━━━━━━━━━━━━━━\u001b[0m\u001b[37m\u001b[0m \u001b[1m4s\u001b[0m 126ms/step - accuracy: 0.6123 - loss: 0.8610 - val_accuracy: 0.6333 - val_loss: 2.5784\n",
      "Epoch 15/20\n",
      "\u001b[1m33/33\u001b[0m \u001b[32m━━━━━━━━━━━━━━━━━━━━\u001b[0m\u001b[37m\u001b[0m \u001b[1m4s\u001b[0m 114ms/step - accuracy: 0.6143 - loss: 0.8989 - val_accuracy: 0.6767 - val_loss: 2.0438\n",
      "Epoch 16/20\n",
      "\u001b[1m33/33\u001b[0m \u001b[32m━━━━━━━━━━━━━━━━━━━━\u001b[0m\u001b[37m\u001b[0m \u001b[1m4s\u001b[0m 118ms/step - accuracy: 0.6166 - loss: 0.8774 - val_accuracy: 0.6767 - val_loss: 2.1302\n",
      "Epoch 17/20\n",
      "\u001b[1m33/33\u001b[0m \u001b[32m━━━━━━━━━━━━━━━━━━━━\u001b[0m\u001b[37m\u001b[0m \u001b[1m5s\u001b[0m 138ms/step - accuracy: 0.6279 - loss: 0.8583 - val_accuracy: 0.6567 - val_loss: 2.3651\n",
      "Epoch 18/20\n",
      "\u001b[1m33/33\u001b[0m \u001b[32m━━━━━━━━━━━━━━━━━━━━\u001b[0m\u001b[37m\u001b[0m \u001b[1m4s\u001b[0m 116ms/step - accuracy: 0.6456 - loss: 0.8153 - val_accuracy: 0.7033 - val_loss: 1.8793\n",
      "Epoch 19/20\n",
      "\u001b[1m33/33\u001b[0m \u001b[32m━━━━━━━━━━━━━━━━━━━━\u001b[0m\u001b[37m\u001b[0m \u001b[1m4s\u001b[0m 120ms/step - accuracy: 0.6396 - loss: 0.8272 - val_accuracy: 0.7167 - val_loss: 1.7361\n",
      "Epoch 20/20\n",
      "\u001b[1m33/33\u001b[0m \u001b[32m━━━━━━━━━━━━━━━━━━━━\u001b[0m\u001b[37m\u001b[0m \u001b[1m4s\u001b[0m 132ms/step - accuracy: 0.6432 - loss: 0.8584 - val_accuracy: 0.7133 - val_loss: 1.6216\n",
      "Validation accuracy: 0.7166666388511658\n",
      "Training model with dropout=0.5 and learning_rate=0.0001\n",
      "Epoch 1/20\n",
      "\u001b[1m33/33\u001b[0m \u001b[32m━━━━━━━━━━━━━━━━━━━━\u001b[0m\u001b[37m\u001b[0m \u001b[1m6s\u001b[0m 112ms/step - accuracy: 0.3110 - loss: 5.6543 - val_accuracy: 0.3333 - val_loss: 1.1407\n",
      "Epoch 2/20\n",
      "\u001b[1m33/33\u001b[0m \u001b[32m━━━━━━━━━━━━━━━━━━━━\u001b[0m\u001b[37m\u001b[0m \u001b[1m4s\u001b[0m 132ms/step - accuracy: 0.3813 - loss: 3.5767 - val_accuracy: 0.3333 - val_loss: 1.3708\n",
      "Epoch 3/20\n",
      "\u001b[1m33/33\u001b[0m \u001b[32m━━━━━━━━━━━━━━━━━━━━\u001b[0m\u001b[37m\u001b[0m \u001b[1m4s\u001b[0m 124ms/step - accuracy: 0.4053 - loss: 2.8204 - val_accuracy: 0.3333 - val_loss: 1.5994\n",
      "Epoch 4/20\n",
      "\u001b[1m33/33\u001b[0m \u001b[32m━━━━━━━━━━━━━━━━━━━━\u001b[0m\u001b[37m\u001b[0m \u001b[1m4s\u001b[0m 107ms/step - accuracy: 0.4362 - loss: 2.2083 - val_accuracy: 0.3333 - val_loss: 1.7906\n",
      "Epoch 5/20\n",
      "\u001b[1m33/33\u001b[0m \u001b[32m━━━━━━━━━━━━━━━━━━━━\u001b[0m\u001b[37m\u001b[0m \u001b[1m4s\u001b[0m 108ms/step - accuracy: 0.3803 - loss: 1.8721 - val_accuracy: 0.3333 - val_loss: 1.9931\n",
      "Epoch 6/20\n",
      "\u001b[1m33/33\u001b[0m \u001b[32m━━━━━━━━━━━━━━━━━━━━\u001b[0m\u001b[37m\u001b[0m \u001b[1m4s\u001b[0m 110ms/step - accuracy: 0.4212 - loss: 1.5973 - val_accuracy: 0.3367 - val_loss: 1.9818\n",
      "Epoch 7/20\n",
      "\u001b[1m33/33\u001b[0m \u001b[32m━━━━━━━━━━━━━━━━━━━━\u001b[0m\u001b[37m\u001b[0m \u001b[1m4s\u001b[0m 108ms/step - accuracy: 0.4060 - loss: 1.5120 - val_accuracy: 0.3600 - val_loss: 1.9013\n",
      "Epoch 8/20\n",
      "\u001b[1m33/33\u001b[0m \u001b[32m━━━━━━━━━━━━━━━━━━━━\u001b[0m\u001b[37m\u001b[0m \u001b[1m4s\u001b[0m 105ms/step - accuracy: 0.4336 - loss: 1.4098 - val_accuracy: 0.3667 - val_loss: 1.8847\n",
      "Epoch 9/20\n",
      "\u001b[1m33/33\u001b[0m \u001b[32m━━━━━━━━━━━━━━━━━━━━\u001b[0m\u001b[37m\u001b[0m \u001b[1m4s\u001b[0m 111ms/step - accuracy: 0.3829 - loss: 1.2828 - val_accuracy: 0.3900 - val_loss: 1.8429\n",
      "Epoch 10/20\n",
      "\u001b[1m33/33\u001b[0m \u001b[32m━━━━━━━━━━━━━━━━━━━━\u001b[0m\u001b[37m\u001b[0m \u001b[1m4s\u001b[0m 107ms/step - accuracy: 0.4011 - loss: 1.2850 - val_accuracy: 0.4700 - val_loss: 1.6993\n",
      "Epoch 11/20\n",
      "\u001b[1m33/33\u001b[0m \u001b[32m━━━━━━━━━━━━━━━━━━━━\u001b[0m\u001b[37m\u001b[0m \u001b[1m4s\u001b[0m 110ms/step - accuracy: 0.4415 - loss: 1.1962 - val_accuracy: 0.5400 - val_loss: 1.4702\n",
      "Epoch 12/20\n",
      "\u001b[1m33/33\u001b[0m \u001b[32m━━━━━━━━━━━━━━━━━━━━\u001b[0m\u001b[37m\u001b[0m \u001b[1m4s\u001b[0m 116ms/step - accuracy: 0.4497 - loss: 1.1762 - val_accuracy: 0.6133 - val_loss: 1.3276\n",
      "Epoch 13/20\n",
      "\u001b[1m33/33\u001b[0m \u001b[32m━━━━━━━━━━━━━━━━━━━━\u001b[0m\u001b[37m\u001b[0m \u001b[1m4s\u001b[0m 109ms/step - accuracy: 0.4078 - loss: 1.2026 - val_accuracy: 0.6433 - val_loss: 1.3299\n",
      "Epoch 14/20\n",
      "\u001b[1m33/33\u001b[0m \u001b[32m━━━━━━━━━━━━━━━━━━━━\u001b[0m\u001b[37m\u001b[0m \u001b[1m4s\u001b[0m 111ms/step - accuracy: 0.4115 - loss: 1.1383 - val_accuracy: 0.6333 - val_loss: 1.4818\n",
      "Epoch 15/20\n",
      "\u001b[1m33/33\u001b[0m \u001b[32m━━━━━━━━━━━━━━━━━━━━\u001b[0m\u001b[37m\u001b[0m \u001b[1m4s\u001b[0m 111ms/step - accuracy: 0.4410 - loss: 1.1193 - val_accuracy: 0.6633 - val_loss: 1.4002\n",
      "Epoch 16/20\n",
      "\u001b[1m33/33\u001b[0m \u001b[32m━━━━━━━━━━━━━━━━━━━━\u001b[0m\u001b[37m\u001b[0m \u001b[1m4s\u001b[0m 109ms/step - accuracy: 0.4384 - loss: 1.1678 - val_accuracy: 0.6733 - val_loss: 1.3996\n",
      "Epoch 17/20\n",
      "\u001b[1m33/33\u001b[0m \u001b[32m━━━━━━━━━━━━━━━━━━━━\u001b[0m\u001b[37m\u001b[0m \u001b[1m4s\u001b[0m 112ms/step - accuracy: 0.4624 - loss: 1.1114 - val_accuracy: 0.6633 - val_loss: 1.4353\n",
      "Epoch 18/20\n",
      "\u001b[1m33/33\u001b[0m \u001b[32m━━━━━━━━━━━━━━━━━━━━\u001b[0m\u001b[37m\u001b[0m \u001b[1m4s\u001b[0m 111ms/step - accuracy: 0.4689 - loss: 1.0607 - val_accuracy: 0.6767 - val_loss: 1.4367\n",
      "Epoch 19/20\n",
      "\u001b[1m33/33\u001b[0m \u001b[32m━━━━━━━━━━━━━━━━━━━━\u001b[0m\u001b[37m\u001b[0m \u001b[1m4s\u001b[0m 110ms/step - accuracy: 0.4697 - loss: 1.0839 - val_accuracy: 0.6800 - val_loss: 1.5155\n",
      "Epoch 20/20\n",
      "\u001b[1m33/33\u001b[0m \u001b[32m━━━━━━━━━━━━━━━━━━━━\u001b[0m\u001b[37m\u001b[0m \u001b[1m4s\u001b[0m 108ms/step - accuracy: 0.4883 - loss: 1.0523 - val_accuracy: 0.6833 - val_loss: 1.5318\n",
      "Validation accuracy: 0.6833333373069763\n",
      "\u001b[1m5/5\u001b[0m \u001b[32m━━━━━━━━━━━━━━━━━━━━\u001b[0m\u001b[37m\u001b[0m \u001b[1m0s\u001b[0m 51ms/step - accuracy: 0.5273 - loss: 2.2736\n",
      "Best Hyperparameter Tuned Model - Test Accuracy: 0.6066666841506958\n",
      "Best Hyperparameter Tuned Model - Test Loss: 2.20161771774292\n",
      "\u001b[1m4/5\u001b[0m \u001b[32m━━━━━━━━━━━━━━━━\u001b[0m\u001b[37m━━━━\u001b[0m \u001b[1m0s\u001b[0m 43ms/stepWARNING:tensorflow:5 out of the last 31 calls to <function TensorFlowTrainer.make_predict_function.<locals>.one_step_on_data_distributed at 0x3097feb80> triggered tf.function retracing. Tracing is expensive and the excessive number of tracings could be due to (1) creating @tf.function repeatedly in a loop, (2) passing tensors with different shapes, (3) passing Python objects instead of tensors. For (1), please define your @tf.function outside of the loop. For (2), @tf.function has reduce_retracing=True option that can avoid unnecessary retracing. For (3), please refer to https://www.tensorflow.org/guide/function#controlling_retracing and https://www.tensorflow.org/api_docs/python/tf/function for  more details.\n"
     ]
    },
    {
     "name": "stderr",
     "output_type": "stream",
     "text": [
      "WARNING:tensorflow:5 out of the last 31 calls to <function TensorFlowTrainer.make_predict_function.<locals>.one_step_on_data_distributed at 0x3097feb80> triggered tf.function retracing. Tracing is expensive and the excessive number of tracings could be due to (1) creating @tf.function repeatedly in a loop, (2) passing tensors with different shapes, (3) passing Python objects instead of tensors. For (1), please define your @tf.function outside of the loop. For (2), @tf.function has reduce_retracing=True option that can avoid unnecessary retracing. For (3), please refer to https://www.tensorflow.org/guide/function#controlling_retracing and https://www.tensorflow.org/api_docs/python/tf/function for  more details.\n"
     ]
    },
    {
     "name": "stdout",
     "output_type": "stream",
     "text": [
      "\u001b[1m5/5\u001b[0m \u001b[32m━━━━━━━━━━━━━━━━━━━━\u001b[0m\u001b[37m\u001b[0m \u001b[1m0s\u001b[0m 58ms/step\n",
      "Best Hyperparameter Tuned Model - Confusion Matrix:\n",
      "[[26  0 24]\n",
      " [ 7 16 27]\n",
      " [ 0  1 49]]\n",
      "Best Hyperparameter Tuned Model - Classification Report:\n",
      "               precision    recall  f1-score   support\n",
      "\n",
      "   Food Waste       0.79      0.52      0.63        50\n",
      "Mixed Recycle       0.94      0.32      0.48        50\n",
      "        Trash       0.49      0.98      0.65        50\n",
      "\n",
      "     accuracy                           0.61       150\n",
      "    macro avg       0.74      0.61      0.59       150\n",
      " weighted avg       0.74      0.61      0.59       150\n",
      "\n"
     ]
    }
   ],
   "source": [
    "# -------------------- EXPERIMENT 2: Hyperparameter Tuning --------------------\n",
    "print(\"Experiment 2: Hyperparameter Tuning\")\n",
    "dropout_rates = [0.3, 0.4, 0.5]\n",
    "learning_rates = [0.001, 0.0005, 0.0001]\n",
    "\n",
    "best_model = None\n",
    "best_val_accuracy = 0\n",
    "\n",
    "def build_model(dropout_rate=0.5, learning_rate=0.001):\n",
    "    model = Sequential([\n",
    "        Conv2D(32, (3, 3), activation='relu', input_shape=(*image_size, 3)),\n",
    "        BatchNormalization(),\n",
    "        MaxPooling2D(pool_size=(2, 2)),\n",
    "        Dropout(dropout_rate),\n",
    "        \n",
    "        Conv2D(64, (3, 3), activation='relu'),\n",
    "        BatchNormalization(),\n",
    "        MaxPooling2D(pool_size=(2, 2)),\n",
    "        Dropout(dropout_rate + 0.1),\n",
    "\n",
    "        Conv2D(128, (3, 3), activation='relu'),\n",
    "        BatchNormalization(),\n",
    "        MaxPooling2D(pool_size=(2, 2)),\n",
    "        Dropout(dropout_rate + 0.2),\n",
    "\n",
    "        Flatten(),\n",
    "        Dense(128, activation='relu'),\n",
    "        Dropout(dropout_rate + 0.2),\n",
    "        Dense(num_classes, activation='softmax')\n",
    "    ])\n",
    "    model.compile(optimizer=Adam(learning_rate=learning_rate),\n",
    "                  loss='categorical_crossentropy',\n",
    "                  metrics=['accuracy'])\n",
    "    return model\n",
    "\n",
    "for dropout_rate in dropout_rates:\n",
    "    for lr in learning_rates:\n",
    "        print(f\"Training model with dropout={dropout_rate} and learning_rate={lr}\")\n",
    "        model = build_model(dropout_rate=dropout_rate, learning_rate=lr)\n",
    "        history = model.fit(\n",
    "            train_generator,\n",
    "            validation_data=val_generator,\n",
    "            epochs=epochs,\n",
    "            verbose=1\n",
    "        )\n",
    "        plot_history(history, f\"Dropout={dropout_rate}, LR={lr}\")\n",
    "        val_accuracy = max(history.history['val_accuracy'])\n",
    "        print(f\"Validation accuracy: {val_accuracy}\")\n",
    "        \n",
    "        # Save the best model\n",
    "        if val_accuracy > best_val_accuracy:\n",
    "            best_val_accuracy = val_accuracy\n",
    "            best_model = model\n",
    "            model.save('best_model.h5')\n",
    "\n",
    "evaluate_model(best_model, \"Best Hyperparameter Tuned Model\")"
   ]
  },
  {
   "cell_type": "code",
   "execution_count": 29,
   "metadata": {},
   "outputs": [
    {
     "name": "stdout",
     "output_type": "stream",
     "text": [
      "Experiment 3: Data Augmentation\n",
      "Found 1050 images belonging to 3 classes.\n",
      "Epoch 1/20\n",
      "\u001b[1m33/33\u001b[0m \u001b[32m━━━━━━━━━━━━━━━━━━━━\u001b[0m\u001b[37m\u001b[0m \u001b[1m6s\u001b[0m 126ms/step - accuracy: 0.3904 - loss: 3.7100 - val_accuracy: 0.4900 - val_loss: 2.2413\n",
      "Epoch 2/20\n",
      "\u001b[1m33/33\u001b[0m \u001b[32m━━━━━━━━━━━━━━━━━━━━\u001b[0m\u001b[37m\u001b[0m \u001b[1m4s\u001b[0m 109ms/step - accuracy: 0.4738 - loss: 1.3599 - val_accuracy: 0.4700 - val_loss: 3.4348\n",
      "Epoch 3/20\n",
      "\u001b[1m33/33\u001b[0m \u001b[32m━━━━━━━━━━━━━━━━━━━━\u001b[0m\u001b[37m\u001b[0m \u001b[1m4s\u001b[0m 106ms/step - accuracy: 0.4959 - loss: 1.1181 - val_accuracy: 0.3367 - val_loss: 4.0437\n",
      "Epoch 4/20\n",
      "\u001b[1m33/33\u001b[0m \u001b[32m━━━━━━━━━━━━━━━━━━━━\u001b[0m\u001b[37m\u001b[0m \u001b[1m4s\u001b[0m 108ms/step - accuracy: 0.4578 - loss: 1.1029 - val_accuracy: 0.3433 - val_loss: 5.7203\n",
      "Epoch 5/20\n",
      "\u001b[1m33/33\u001b[0m \u001b[32m━━━━━━━━━━━━━━━━━━━━\u001b[0m\u001b[37m\u001b[0m \u001b[1m3s\u001b[0m 104ms/step - accuracy: 0.5081 - loss: 1.0514 - val_accuracy: 0.3467 - val_loss: 7.0814\n",
      "Epoch 6/20\n",
      "\u001b[1m33/33\u001b[0m \u001b[32m━━━━━━━━━━━━━━━━━━━━\u001b[0m\u001b[37m\u001b[0m \u001b[1m4s\u001b[0m 106ms/step - accuracy: 0.5686 - loss: 0.9853 - val_accuracy: 0.3467 - val_loss: 6.8161\n",
      "Epoch 7/20\n",
      "\u001b[1m33/33\u001b[0m \u001b[32m━━━━━━━━━━━━━━━━━━━━\u001b[0m\u001b[37m\u001b[0m \u001b[1m4s\u001b[0m 109ms/step - accuracy: 0.5844 - loss: 0.9541 - val_accuracy: 0.4267 - val_loss: 5.8141\n",
      "Epoch 8/20\n",
      "\u001b[1m33/33\u001b[0m \u001b[32m━━━━━━━━━━━━━━━━━━━━\u001b[0m\u001b[37m\u001b[0m \u001b[1m4s\u001b[0m 106ms/step - accuracy: 0.5998 - loss: 0.9395 - val_accuracy: 0.4667 - val_loss: 5.4396\n",
      "Epoch 9/20\n",
      "\u001b[1m33/33\u001b[0m \u001b[32m━━━━━━━━━━━━━━━━━━━━\u001b[0m\u001b[37m\u001b[0m \u001b[1m4s\u001b[0m 111ms/step - accuracy: 0.5814 - loss: 0.9323 - val_accuracy: 0.4800 - val_loss: 5.4060\n",
      "Epoch 10/20\n",
      "\u001b[1m33/33\u001b[0m \u001b[32m━━━━━━━━━━━━━━━━━━━━\u001b[0m\u001b[37m\u001b[0m \u001b[1m4s\u001b[0m 107ms/step - accuracy: 0.5918 - loss: 0.9311 - val_accuracy: 0.4667 - val_loss: 5.3331\n",
      "Epoch 11/20\n",
      "\u001b[1m33/33\u001b[0m \u001b[32m━━━━━━━━━━━━━━━━━━━━\u001b[0m\u001b[37m\u001b[0m \u001b[1m4s\u001b[0m 107ms/step - accuracy: 0.5888 - loss: 0.8609 - val_accuracy: 0.4800 - val_loss: 4.6571\n",
      "Epoch 12/20\n",
      "\u001b[1m33/33\u001b[0m \u001b[32m━━━━━━━━━━━━━━━━━━━━\u001b[0m\u001b[37m\u001b[0m \u001b[1m4s\u001b[0m 115ms/step - accuracy: 0.6212 - loss: 0.8882 - val_accuracy: 0.5067 - val_loss: 4.5431\n",
      "Epoch 13/20\n",
      "\u001b[1m33/33\u001b[0m \u001b[32m━━━━━━━━━━━━━━━━━━━━\u001b[0m\u001b[37m\u001b[0m \u001b[1m4s\u001b[0m 116ms/step - accuracy: 0.6223 - loss: 0.8480 - val_accuracy: 0.5500 - val_loss: 4.1431\n",
      "Epoch 14/20\n",
      "\u001b[1m33/33\u001b[0m \u001b[32m━━━━━━━━━━━━━━━━━━━━\u001b[0m\u001b[37m\u001b[0m \u001b[1m3s\u001b[0m 103ms/step - accuracy: 0.6226 - loss: 0.8348 - val_accuracy: 0.6300 - val_loss: 2.7338\n",
      "Epoch 15/20\n",
      "\u001b[1m33/33\u001b[0m \u001b[32m━━━━━━━━━━━━━━━━━━━━\u001b[0m\u001b[37m\u001b[0m \u001b[1m4s\u001b[0m 134ms/step - accuracy: 0.6787 - loss: 0.7565 - val_accuracy: 0.6667 - val_loss: 2.0655\n",
      "Epoch 16/20\n",
      "\u001b[1m33/33\u001b[0m \u001b[32m━━━━━━━━━━━━━━━━━━━━\u001b[0m\u001b[37m\u001b[0m \u001b[1m4s\u001b[0m 125ms/step - accuracy: 0.6224 - loss: 0.8355 - val_accuracy: 0.6833 - val_loss: 1.9238\n",
      "Epoch 17/20\n",
      "\u001b[1m33/33\u001b[0m \u001b[32m━━━━━━━━━━━━━━━━━━━━\u001b[0m\u001b[37m\u001b[0m \u001b[1m4s\u001b[0m 125ms/step - accuracy: 0.6939 - loss: 0.7406 - val_accuracy: 0.7067 - val_loss: 1.7595\n",
      "Epoch 18/20\n",
      "\u001b[1m33/33\u001b[0m \u001b[32m━━━━━━━━━━━━━━━━━━━━\u001b[0m\u001b[37m\u001b[0m \u001b[1m4s\u001b[0m 118ms/step - accuracy: 0.6773 - loss: 0.7970 - val_accuracy: 0.7067 - val_loss: 1.9288\n",
      "Epoch 19/20\n",
      "\u001b[1m33/33\u001b[0m \u001b[32m━━━━━━━━━━━━━━━━━━━━\u001b[0m\u001b[37m\u001b[0m \u001b[1m4s\u001b[0m 128ms/step - accuracy: 0.6504 - loss: 0.7633 - val_accuracy: 0.6233 - val_loss: 1.7956\n",
      "Epoch 20/20\n",
      "\u001b[1m33/33\u001b[0m \u001b[32m━━━━━━━━━━━━━━━━━━━━\u001b[0m\u001b[37m\u001b[0m \u001b[1m4s\u001b[0m 118ms/step - accuracy: 0.6485 - loss: 0.8456 - val_accuracy: 0.5733 - val_loss: 2.3941\n",
      "\u001b[1m5/5\u001b[0m \u001b[32m━━━━━━━━━━━━━━━━━━━━\u001b[0m\u001b[37m\u001b[0m \u001b[1m0s\u001b[0m 57ms/step - accuracy: 0.7674 - loss: 1.1741\n",
      "Augmented Data Model - Test Accuracy: 0.6666666865348816\n",
      "Augmented Data Model - Test Loss: 1.7322065830230713\n",
      "\u001b[1m5/5\u001b[0m \u001b[32m━━━━━━━━━━━━━━━━━━━━\u001b[0m\u001b[37m\u001b[0m \u001b[1m0s\u001b[0m 56ms/step\n",
      "Augmented Data Model - Confusion Matrix:\n",
      "[[48  1  1]\n",
      " [22 26  2]\n",
      " [21  3 26]]\n",
      "Augmented Data Model - Classification Report:\n",
      "               precision    recall  f1-score   support\n",
      "\n",
      "   Food Waste       0.53      0.96      0.68        50\n",
      "Mixed Recycle       0.87      0.52      0.65        50\n",
      "        Trash       0.90      0.52      0.66        50\n",
      "\n",
      "     accuracy                           0.67       150\n",
      "    macro avg       0.76      0.67      0.66       150\n",
      " weighted avg       0.76      0.67      0.66       150\n",
      "\n"
     ]
    }
   ],
   "source": [
    "# -------------------- EXPERIMENT 3: Data Augmentation --------------------\n",
    "print(\"Experiment 3: Data Augmentation\")\n",
    "train_datagen = ImageDataGenerator(\n",
    "    rescale=1./255,\n",
    "    rotation_range=15,       # Slightly reduce rotations\n",
    "    width_shift_range=0.1,   # Limit shifts\n",
    "    height_shift_range=0.1,\n",
    "    zoom_range=0.1,\n",
    "    horizontal_flip=True,\n",
    "    brightness_range=[0.8, 1.2]  # Realistic lighting variations\n",
    ")\n",
    "\n",
    "train_generator_augmented = train_datagen_augmented.flow_from_directory(\n",
    "    train_dir,\n",
    "    target_size=image_size,\n",
    "    batch_size=batch_size,\n",
    "    class_mode='categorical'\n",
    ")\n",
    "\n",
    "model_augmented = build_model(dropout_rate=0.4, learning_rate=0.0005)\n",
    "history_augmented = model_augmented.fit(\n",
    "    train_generator_augmented,\n",
    "    validation_data=val_generator,\n",
    "    epochs=epochs,\n",
    "    verbose=1\n",
    ")\n",
    "plot_history(history_augmented, \"Augmented Data Model\")\n",
    "evaluate_model(model_augmented, \"Augmented Data Model\")"
   ]
  },
  {
   "cell_type": "code",
   "execution_count": 30,
   "metadata": {},
   "outputs": [
    {
     "name": "stdout",
     "output_type": "stream",
     "text": [
      "Experiment 4: Adding Extra Convolutional Layers\n",
      "Epoch 1/20\n",
      "\u001b[1m33/33\u001b[0m \u001b[32m━━━━━━━━━━━━━━━━━━━━\u001b[0m\u001b[37m\u001b[0m \u001b[1m7s\u001b[0m 129ms/step - accuracy: 0.4222 - loss: 2.3887 - val_accuracy: 0.3333 - val_loss: 1.3755\n",
      "Epoch 2/20\n",
      "\u001b[1m33/33\u001b[0m \u001b[32m━━━━━━━━━━━━━━━━━━━━\u001b[0m\u001b[37m\u001b[0m \u001b[1m4s\u001b[0m 108ms/step - accuracy: 0.5464 - loss: 1.3373 - val_accuracy: 0.3333 - val_loss: 2.0680\n",
      "Epoch 3/20\n",
      "\u001b[1m33/33\u001b[0m \u001b[32m━━━━━━━━━━━━━━━━━━━━\u001b[0m\u001b[37m\u001b[0m \u001b[1m4s\u001b[0m 107ms/step - accuracy: 0.5773 - loss: 1.0849 - val_accuracy: 0.3333 - val_loss: 3.6170\n",
      "Epoch 4/20\n",
      "\u001b[1m33/33\u001b[0m \u001b[32m━━━━━━━━━━━━━━━━━━━━\u001b[0m\u001b[37m\u001b[0m \u001b[1m4s\u001b[0m 111ms/step - accuracy: 0.6408 - loss: 0.8850 - val_accuracy: 0.3333 - val_loss: 2.8182\n",
      "Epoch 5/20\n",
      "\u001b[1m33/33\u001b[0m \u001b[32m━━━━━━━━━━━━━━━━━━━━\u001b[0m\u001b[37m\u001b[0m \u001b[1m4s\u001b[0m 107ms/step - accuracy: 0.6723 - loss: 0.7914 - val_accuracy: 0.3333 - val_loss: 3.6434\n",
      "Epoch 6/20\n",
      "\u001b[1m33/33\u001b[0m \u001b[32m━━━━━━━━━━━━━━━━━━━━\u001b[0m\u001b[37m\u001b[0m \u001b[1m4s\u001b[0m 110ms/step - accuracy: 0.6970 - loss: 0.7752 - val_accuracy: 0.3333 - val_loss: 4.1966\n",
      "Epoch 7/20\n",
      "\u001b[1m33/33\u001b[0m \u001b[32m━━━━━━━━━━━━━━━━━━━━\u001b[0m\u001b[37m\u001b[0m \u001b[1m4s\u001b[0m 109ms/step - accuracy: 0.6597 - loss: 0.8185 - val_accuracy: 0.3467 - val_loss: 2.9143\n",
      "Epoch 8/20\n",
      "\u001b[1m33/33\u001b[0m \u001b[32m━━━━━━━━━━━━━━━━━━━━\u001b[0m\u001b[37m\u001b[0m \u001b[1m4s\u001b[0m 111ms/step - accuracy: 0.7135 - loss: 0.7305 - val_accuracy: 0.3367 - val_loss: 2.9976\n",
      "Epoch 9/20\n",
      "\u001b[1m33/33\u001b[0m \u001b[32m━━━━━━━━━━━━━━━━━━━━\u001b[0m\u001b[37m\u001b[0m \u001b[1m4s\u001b[0m 111ms/step - accuracy: 0.6976 - loss: 0.7160 - val_accuracy: 0.3433 - val_loss: 2.5967\n",
      "Epoch 10/20\n",
      "\u001b[1m33/33\u001b[0m \u001b[32m━━━━━━━━━━━━━━━━━━━━\u001b[0m\u001b[37m\u001b[0m \u001b[1m4s\u001b[0m 112ms/step - accuracy: 0.6968 - loss: 0.6873 - val_accuracy: 0.4433 - val_loss: 1.9750\n",
      "Epoch 11/20\n",
      "\u001b[1m33/33\u001b[0m \u001b[32m━━━━━━━━━━━━━━━━━━━━\u001b[0m\u001b[37m\u001b[0m \u001b[1m4s\u001b[0m 116ms/step - accuracy: 0.7096 - loss: 0.6858 - val_accuracy: 0.4200 - val_loss: 2.2518\n",
      "Epoch 12/20\n",
      "\u001b[1m33/33\u001b[0m \u001b[32m━━━━━━━━━━━━━━━━━━━━\u001b[0m\u001b[37m\u001b[0m \u001b[1m4s\u001b[0m 113ms/step - accuracy: 0.7531 - loss: 0.6190 - val_accuracy: 0.6400 - val_loss: 1.2903\n",
      "Epoch 13/20\n",
      "\u001b[1m33/33\u001b[0m \u001b[32m━━━━━━━━━━━━━━━━━━━━\u001b[0m\u001b[37m\u001b[0m \u001b[1m4s\u001b[0m 118ms/step - accuracy: 0.7513 - loss: 0.6150 - val_accuracy: 0.5367 - val_loss: 1.7978\n",
      "Epoch 14/20\n",
      "\u001b[1m33/33\u001b[0m \u001b[32m━━━━━━━━━━━━━━━━━━━━\u001b[0m\u001b[37m\u001b[0m \u001b[1m4s\u001b[0m 115ms/step - accuracy: 0.7459 - loss: 0.6221 - val_accuracy: 0.5633 - val_loss: 1.7468\n",
      "Epoch 15/20\n",
      "\u001b[1m33/33\u001b[0m \u001b[32m━━━━━━━━━━━━━━━━━━━━\u001b[0m\u001b[37m\u001b[0m \u001b[1m4s\u001b[0m 127ms/step - accuracy: 0.7357 - loss: 0.6320 - val_accuracy: 0.5900 - val_loss: 1.6521\n",
      "Epoch 16/20\n",
      "\u001b[1m33/33\u001b[0m \u001b[32m━━━━━━━━━━━━━━━━━━━━\u001b[0m\u001b[37m\u001b[0m \u001b[1m4s\u001b[0m 118ms/step - accuracy: 0.7631 - loss: 0.5744 - val_accuracy: 0.6600 - val_loss: 1.1417\n",
      "Epoch 17/20\n",
      "\u001b[1m33/33\u001b[0m \u001b[32m━━━━━━━━━━━━━━━━━━━━\u001b[0m\u001b[37m\u001b[0m \u001b[1m4s\u001b[0m 117ms/step - accuracy: 0.7838 - loss: 0.5508 - val_accuracy: 0.7533 - val_loss: 0.8970\n",
      "Epoch 18/20\n",
      "\u001b[1m33/33\u001b[0m \u001b[32m━━━━━━━━━━━━━━━━━━━━\u001b[0m\u001b[37m\u001b[0m \u001b[1m4s\u001b[0m 122ms/step - accuracy: 0.7569 - loss: 0.5898 - val_accuracy: 0.7700 - val_loss: 0.7891\n",
      "Epoch 19/20\n",
      "\u001b[1m33/33\u001b[0m \u001b[32m━━━━━━━━━━━━━━━━━━━━\u001b[0m\u001b[37m\u001b[0m \u001b[1m4s\u001b[0m 131ms/step - accuracy: 0.7678 - loss: 0.5692 - val_accuracy: 0.6033 - val_loss: 1.7209\n",
      "Epoch 20/20\n",
      "\u001b[1m33/33\u001b[0m \u001b[32m━━━━━━━━━━━━━━━━━━━━\u001b[0m\u001b[37m\u001b[0m \u001b[1m4s\u001b[0m 122ms/step - accuracy: 0.7877 - loss: 0.5767 - val_accuracy: 0.6367 - val_loss: 1.4982\n",
      "\u001b[1m5/5\u001b[0m \u001b[32m━━━━━━━━━━━━━━━━━━━━\u001b[0m\u001b[37m\u001b[0m \u001b[1m0s\u001b[0m 58ms/step - accuracy: 0.7124 - loss: 1.1347\n",
      "Model with Extra Layers - Test Accuracy: 0.6866666674613953\n",
      "Model with Extra Layers - Test Loss: 1.215235710144043\n",
      "\u001b[1m5/5\u001b[0m \u001b[32m━━━━━━━━━━━━━━━━━━━━\u001b[0m\u001b[37m\u001b[0m \u001b[1m0s\u001b[0m 65ms/step\n",
      "Model with Extra Layers - Confusion Matrix:\n",
      "[[46  0  4]\n",
      " [12 10 28]\n",
      " [ 3  0 47]]\n",
      "Model with Extra Layers - Classification Report:\n",
      "               precision    recall  f1-score   support\n",
      "\n",
      "   Food Waste       0.75      0.92      0.83        50\n",
      "Mixed Recycle       1.00      0.20      0.33        50\n",
      "        Trash       0.59      0.94      0.73        50\n",
      "\n",
      "     accuracy                           0.69       150\n",
      "    macro avg       0.78      0.69      0.63       150\n",
      " weighted avg       0.78      0.69      0.63       150\n",
      "\n"
     ]
    }
   ],
   "source": [
    "# -------------------- EXPERIMENT 4: Adding Extra Layers --------------------\n",
    "print(\"Experiment 4: Adding Extra Convolutional Layers\")\n",
    "\n",
    "def build_model_with_extra_layers(dropout_rate=0.4, learning_rate=0.0005):\n",
    "    model = Sequential([\n",
    "        # First set of convolutional layers\n",
    "        Conv2D(32, (3, 3), activation='relu', input_shape=(*image_size, 3)),\n",
    "        BatchNormalization(),\n",
    "        MaxPooling2D(pool_size=(2, 2)),\n",
    "        Dropout(dropout_rate),\n",
    "        \n",
    "        Conv2D(64, (3, 3), activation='relu'),\n",
    "        BatchNormalization(),\n",
    "        MaxPooling2D(pool_size=(2, 2)),\n",
    "        Dropout(dropout_rate),\n",
    "\n",
    "        # Adding additional convolutional layer\n",
    "        Conv2D(128, (3, 3), activation='relu'),\n",
    "        BatchNormalization(),\n",
    "        MaxPooling2D(pool_size=(2, 2)),\n",
    "        Dropout(dropout_rate),\n",
    "\n",
    "        Conv2D(256, (3, 3), activation='relu'),  # Extra layer\n",
    "        BatchNormalization(),\n",
    "        MaxPooling2D(pool_size=(2, 2)),\n",
    "        Dropout(dropout_rate),\n",
    "\n",
    "        # Fully connected layers\n",
    "        Flatten(),\n",
    "        Dense(256, activation='relu'),  # Increased units\n",
    "        Dropout(dropout_rate),\n",
    "        Dense(num_classes, activation='softmax')\n",
    "    ])\n",
    "    model.compile(optimizer=Adam(learning_rate=learning_rate),\n",
    "                  loss='categorical_crossentropy',\n",
    "                  metrics=['accuracy'])\n",
    "    return model\n",
    "\n",
    "model_extra_layers = build_model_with_extra_layers()\n",
    "history_extra_layers = model_extra_layers.fit(\n",
    "    train_generator,\n",
    "    validation_data=val_generator,\n",
    "    epochs=epochs,\n",
    "    verbose=1\n",
    ")\n",
    "plot_history(history_extra_layers, \"Model with Extra Layers\")\n",
    "evaluate_model(model_extra_layers, \"Model with Extra Layers\")\n"
   ]
  },
  {
   "cell_type": "code",
   "execution_count": 31,
   "metadata": {},
   "outputs": [
    {
     "name": "stdout",
     "output_type": "stream",
     "text": [
      "Experiment 5: Adding Extra Dense Layers\n",
      "Epoch 1/20\n",
      "\u001b[1m33/33\u001b[0m \u001b[32m━━━━━━━━━━━━━━━━━━━━\u001b[0m\u001b[37m\u001b[0m \u001b[1m6s\u001b[0m 124ms/step - accuracy: 0.3830 - loss: 2.4952 - val_accuracy: 0.3600 - val_loss: 1.4783\n",
      "Epoch 2/20\n",
      "\u001b[1m33/33\u001b[0m \u001b[32m━━━━━━━━━━━━━━━━━━━━\u001b[0m\u001b[37m\u001b[0m \u001b[1m4s\u001b[0m 109ms/step - accuracy: 0.5476 - loss: 1.2795 - val_accuracy: 0.3333 - val_loss: 1.8986\n",
      "Epoch 3/20\n",
      "\u001b[1m33/33\u001b[0m \u001b[32m━━━━━━━━━━━━━━━━━━━━\u001b[0m\u001b[37m\u001b[0m \u001b[1m4s\u001b[0m 117ms/step - accuracy: 0.5855 - loss: 1.0740 - val_accuracy: 0.3333 - val_loss: 2.3846\n",
      "Epoch 4/20\n",
      "\u001b[1m33/33\u001b[0m \u001b[32m━━━━━━━━━━━━━━━━━━━━\u001b[0m\u001b[37m\u001b[0m \u001b[1m4s\u001b[0m 117ms/step - accuracy: 0.5791 - loss: 0.9672 - val_accuracy: 0.3333 - val_loss: 2.5370\n",
      "Epoch 5/20\n",
      "\u001b[1m33/33\u001b[0m \u001b[32m━━━━━━━━━━━━━━━━━━━━\u001b[0m\u001b[37m\u001b[0m \u001b[1m4s\u001b[0m 113ms/step - accuracy: 0.6397 - loss: 0.8986 - val_accuracy: 0.3333 - val_loss: 2.2840\n",
      "Epoch 6/20\n",
      "\u001b[1m33/33\u001b[0m \u001b[32m━━━━━━━━━━━━━━━━━━━━\u001b[0m\u001b[37m\u001b[0m \u001b[1m4s\u001b[0m 124ms/step - accuracy: 0.6503 - loss: 0.8134 - val_accuracy: 0.3333 - val_loss: 3.2928\n",
      "Epoch 7/20\n",
      "\u001b[1m33/33\u001b[0m \u001b[32m━━━━━━━━━━━━━━━━━━━━\u001b[0m\u001b[37m\u001b[0m \u001b[1m4s\u001b[0m 124ms/step - accuracy: 0.6580 - loss: 0.8312 - val_accuracy: 0.3333 - val_loss: 3.6218\n",
      "Epoch 8/20\n",
      "\u001b[1m33/33\u001b[0m \u001b[32m━━━━━━━━━━━━━━━━━━━━\u001b[0m\u001b[37m\u001b[0m \u001b[1m4s\u001b[0m 121ms/step - accuracy: 0.6919 - loss: 0.7941 - val_accuracy: 0.3333 - val_loss: 3.3996\n",
      "Epoch 9/20\n",
      "\u001b[1m33/33\u001b[0m \u001b[32m━━━━━━━━━━━━━━━━━━━━\u001b[0m\u001b[37m\u001b[0m \u001b[1m4s\u001b[0m 121ms/step - accuracy: 0.7113 - loss: 0.7539 - val_accuracy: 0.3333 - val_loss: 3.1603\n",
      "Epoch 10/20\n",
      "\u001b[1m33/33\u001b[0m \u001b[32m━━━━━━━━━━━━━━━━━━━━\u001b[0m\u001b[37m\u001b[0m \u001b[1m4s\u001b[0m 118ms/step - accuracy: 0.7204 - loss: 0.7004 - val_accuracy: 0.3367 - val_loss: 3.0741\n",
      "Epoch 11/20\n",
      "\u001b[1m33/33\u001b[0m \u001b[32m━━━━━━━━━━━━━━━━━━━━\u001b[0m\u001b[37m\u001b[0m \u001b[1m4s\u001b[0m 118ms/step - accuracy: 0.7064 - loss: 0.7425 - val_accuracy: 0.3367 - val_loss: 2.8450\n",
      "Epoch 12/20\n",
      "\u001b[1m33/33\u001b[0m \u001b[32m━━━━━━━━━━━━━━━━━━━━\u001b[0m\u001b[37m\u001b[0m \u001b[1m4s\u001b[0m 121ms/step - accuracy: 0.7027 - loss: 0.7082 - val_accuracy: 0.3467 - val_loss: 2.3508\n",
      "Epoch 13/20\n",
      "\u001b[1m33/33\u001b[0m \u001b[32m━━━━━━━━━━━━━━━━━━━━\u001b[0m\u001b[37m\u001b[0m \u001b[1m4s\u001b[0m 117ms/step - accuracy: 0.7507 - loss: 0.6490 - val_accuracy: 0.4233 - val_loss: 1.4815\n",
      "Epoch 14/20\n",
      "\u001b[1m33/33\u001b[0m \u001b[32m━━━━━━━━━━━━━━━━━━━━\u001b[0m\u001b[37m\u001b[0m \u001b[1m4s\u001b[0m 120ms/step - accuracy: 0.7316 - loss: 0.6607 - val_accuracy: 0.5067 - val_loss: 1.1018\n",
      "Epoch 15/20\n",
      "\u001b[1m33/33\u001b[0m \u001b[32m━━━━━━━━━━━━━━━━━━━━\u001b[0m\u001b[37m\u001b[0m \u001b[1m4s\u001b[0m 123ms/step - accuracy: 0.7538 - loss: 0.6465 - val_accuracy: 0.5067 - val_loss: 1.1788\n",
      "Epoch 16/20\n",
      "\u001b[1m33/33\u001b[0m \u001b[32m━━━━━━━━━━━━━━━━━━━━\u001b[0m\u001b[37m\u001b[0m \u001b[1m4s\u001b[0m 118ms/step - accuracy: 0.7307 - loss: 0.6513 - val_accuracy: 0.5267 - val_loss: 1.0846\n",
      "Epoch 17/20\n",
      "\u001b[1m33/33\u001b[0m \u001b[32m━━━━━━━━━━━━━━━━━━━━\u001b[0m\u001b[37m\u001b[0m \u001b[1m4s\u001b[0m 121ms/step - accuracy: 0.7698 - loss: 0.6298 - val_accuracy: 0.5833 - val_loss: 0.9893\n",
      "Epoch 18/20\n",
      "\u001b[1m33/33\u001b[0m \u001b[32m━━━━━━━━━━━━━━━━━━━━\u001b[0m\u001b[37m\u001b[0m \u001b[1m4s\u001b[0m 120ms/step - accuracy: 0.7431 - loss: 0.6245 - val_accuracy: 0.6567 - val_loss: 0.9040\n",
      "Epoch 19/20\n",
      "\u001b[1m33/33\u001b[0m \u001b[32m━━━━━━━━━━━━━━━━━━━━\u001b[0m\u001b[37m\u001b[0m \u001b[1m4s\u001b[0m 132ms/step - accuracy: 0.7350 - loss: 0.6691 - val_accuracy: 0.6733 - val_loss: 0.8463\n",
      "Epoch 20/20\n",
      "\u001b[1m33/33\u001b[0m \u001b[32m━━━━━━━━━━━━━━━━━━━━\u001b[0m\u001b[37m\u001b[0m \u001b[1m5s\u001b[0m 142ms/step - accuracy: 0.7336 - loss: 0.6668 - val_accuracy: 0.7233 - val_loss: 0.8109\n",
      "\u001b[1m5/5\u001b[0m \u001b[32m━━━━━━━━━━━━━━━━━━━━\u001b[0m\u001b[37m\u001b[0m \u001b[1m0s\u001b[0m 55ms/step - accuracy: 0.6899 - loss: 0.9382\n",
      "Model with Extra Dense Layers - Test Accuracy: 0.753333330154419\n",
      "Model with Extra Dense Layers - Test Loss: 0.6789380311965942\n",
      "\u001b[1m5/5\u001b[0m \u001b[32m━━━━━━━━━━━━━━━━━━━━\u001b[0m\u001b[37m\u001b[0m \u001b[1m0s\u001b[0m 61ms/step\n",
      "Model with Extra Dense Layers - Confusion Matrix:\n",
      "[[26 17  7]\n",
      " [ 0 46  4]\n",
      " [ 3  6 41]]\n",
      "Model with Extra Dense Layers - Classification Report:\n",
      "               precision    recall  f1-score   support\n",
      "\n",
      "   Food Waste       0.90      0.52      0.66        50\n",
      "Mixed Recycle       0.67      0.92      0.77        50\n",
      "        Trash       0.79      0.82      0.80        50\n",
      "\n",
      "     accuracy                           0.75       150\n",
      "    macro avg       0.78      0.75      0.75       150\n",
      " weighted avg       0.78      0.75      0.75       150\n",
      "\n"
     ]
    }
   ],
   "source": [
    "# -------------------- EXPERIMENT 5: Increasing Dense Layers --------------------\n",
    "print(\"Experiment 5: Adding Extra Dense Layers\")\n",
    "\n",
    "def build_model_with_dense_layers(dropout_rate=0.4, learning_rate=0.0005):\n",
    "    model = Sequential([\n",
    "        Conv2D(32, (3, 3), activation='relu', input_shape=(*image_size, 3)),\n",
    "        BatchNormalization(),\n",
    "        MaxPooling2D(pool_size=(2, 2)),\n",
    "        Dropout(dropout_rate),\n",
    "\n",
    "        Conv2D(64, (3, 3), activation='relu'),\n",
    "        BatchNormalization(),\n",
    "        MaxPooling2D(pool_size=(2, 2)),\n",
    "        Dropout(dropout_rate),\n",
    "\n",
    "        Conv2D(128, (3, 3), activation='relu'),\n",
    "        BatchNormalization(),\n",
    "        MaxPooling2D(pool_size=(2, 2)),\n",
    "        Dropout(dropout_rate),\n",
    "\n",
    "        # Fully connected layers\n",
    "        Flatten(),\n",
    "        Dense(256, activation='relu'),  # Increased units\n",
    "        Dropout(dropout_rate),\n",
    "        Dense(128, activation='relu'),  # Extra dense layer\n",
    "        Dropout(dropout_rate),\n",
    "        Dense(num_classes, activation='softmax')\n",
    "    ])\n",
    "    model.compile(optimizer=Adam(learning_rate=learning_rate),\n",
    "                  loss='categorical_crossentropy',\n",
    "                  metrics=['accuracy'])\n",
    "    return model\n",
    "\n",
    "model_dense_layers = build_model_with_dense_layers()\n",
    "history_dense_layers = model_dense_layers.fit(\n",
    "    train_generator,\n",
    "    validation_data=val_generator,\n",
    "    epochs=epochs,\n",
    "    verbose=1\n",
    ")\n",
    "plot_history(history_dense_layers, \"Model with Extra Dense Layers\")\n",
    "evaluate_model(model_dense_layers, \"Model with Extra Dense Layers\")"
   ]
  },
  {
   "cell_type": "code",
   "execution_count": 35,
   "metadata": {},
   "outputs": [
    {
     "name": "stdout",
     "output_type": "stream",
     "text": [
      "Found 1050 images belonging to 3 classes.\n",
      "Found 300 images belonging to 3 classes.\n",
      "Epoch 1/30\n",
      "\u001b[1m33/33\u001b[0m \u001b[32m━━━━━━━━━━━━━━━━━━━━\u001b[0m\u001b[37m\u001b[0m \u001b[1m10s\u001b[0m 212ms/step - accuracy: 0.5557 - loss: 2.3979 - val_accuracy: 0.3767 - val_loss: 1.0837 - learning_rate: 0.0010\n",
      "Epoch 2/30\n",
      "\u001b[1m33/33\u001b[0m \u001b[32m━━━━━━━━━━━━━━━━━━━━\u001b[0m\u001b[37m\u001b[0m \u001b[1m6s\u001b[0m 194ms/step - accuracy: 0.6346 - loss: 1.7415 - val_accuracy: 0.3333 - val_loss: 3.4004 - learning_rate: 0.0010\n",
      "Epoch 3/30\n",
      "\u001b[1m33/33\u001b[0m \u001b[32m━━━━━━━━━━━━━━━━━━━━\u001b[0m\u001b[37m\u001b[0m \u001b[1m7s\u001b[0m 197ms/step - accuracy: 0.6486 - loss: 1.3600 - val_accuracy: 0.3333 - val_loss: 2.4759 - learning_rate: 0.0010\n",
      "Epoch 4/30\n",
      "\u001b[1m33/33\u001b[0m \u001b[32m━━━━━━━━━━━━━━━━━━━━\u001b[0m\u001b[37m\u001b[0m \u001b[1m0s\u001b[0m 172ms/step - accuracy: 0.6826 - loss: 1.0881\n",
      "Epoch 4: ReduceLROnPlateau reducing learning rate to 0.0005000000237487257.\n",
      "\u001b[1m33/33\u001b[0m \u001b[32m━━━━━━━━━━━━━━━━━━━━\u001b[0m\u001b[37m\u001b[0m \u001b[1m6s\u001b[0m 192ms/step - accuracy: 0.6826 - loss: 1.0863 - val_accuracy: 0.4100 - val_loss: 1.9132 - learning_rate: 0.0010\n",
      "Epoch 5/30\n",
      "\u001b[1m33/33\u001b[0m \u001b[32m━━━━━━━━━━━━━━━━━━━━\u001b[0m\u001b[37m\u001b[0m \u001b[1m7s\u001b[0m 217ms/step - accuracy: 0.7082 - loss: 0.8864 - val_accuracy: 0.3933 - val_loss: 1.7409 - learning_rate: 5.0000e-04\n",
      "Epoch 6/30\n",
      "\u001b[1m33/33\u001b[0m \u001b[32m━━━━━━━━━━━━━━━━━━━━\u001b[0m\u001b[37m\u001b[0m \u001b[1m7s\u001b[0m 214ms/step - accuracy: 0.7528 - loss: 0.6199 - val_accuracy: 0.3600 - val_loss: 1.8727 - learning_rate: 5.0000e-04\n",
      "\u001b[1m10/10\u001b[0m \u001b[32m━━━━━━━━━━━━━━━━━━━━\u001b[0m\u001b[37m\u001b[0m \u001b[1m1s\u001b[0m 70ms/step - accuracy: 0.3881 - loss: 1.0914\n"
     ]
    },
    {
     "name": "stderr",
     "output_type": "stream",
     "text": [
      "WARNING:absl:You are saving your model as an HDF5 file via `model.save()` or `keras.saving.save_model(model)`. This file format is considered legacy. We recommend using instead the native Keras format, e.g. `model.save('my_model.keras')` or `keras.saving.save_model(model, 'my_model.keras')`. \n"
     ]
    },
    {
     "name": "stdout",
     "output_type": "stream",
     "text": [
      "Validation Accuracy: 0.3766666650772095\n",
      "Validation Loss: 1.0836825370788574\n"
     ]
    }
   ],
   "source": [
    "from tensorflow.keras.models import Sequential\n",
    "from tensorflow.keras.layers import Conv2D, MaxPooling2D, Flatten, Dense, Dropout, BatchNormalization\n",
    "from tensorflow.keras.optimizers import Adam\n",
    "from tensorflow.keras.preprocessing.image import ImageDataGenerator\n",
    "from tensorflow.keras.callbacks import ReduceLROnPlateau, EarlyStopping\n",
    "\n",
    "\n",
    "train_dir = 'waste-images/train'\n",
    "val_dir = 'waste-images/val'\n",
    "# Data Augmentation\n",
    "train_datagen = ImageDataGenerator(\n",
    "    rescale=1./255,\n",
    "    rotation_range=30,\n",
    "    width_shift_range=0.2,\n",
    "    height_shift_range=0.2,\n",
    "    shear_range=0.2,\n",
    "    zoom_range=0.2,\n",
    "    horizontal_flip=True,\n",
    "    fill_mode='nearest'\n",
    ")\n",
    "\n",
    "val_datagen = ImageDataGenerator(rescale=1./255)\n",
    "\n",
    "train_generator = train_datagen.flow_from_directory(\n",
    "    train_dir,\n",
    "    target_size=(64, 64),\n",
    "    batch_size=32,\n",
    "    class_mode='categorical'\n",
    ")\n",
    "\n",
    "val_generator = val_datagen.flow_from_directory(\n",
    "    val_dir,\n",
    "    target_size=(64, 64),\n",
    "    batch_size=32,\n",
    "    class_mode='categorical'\n",
    ")\n",
    "\n",
    "# Build the Model\n",
    "model = Sequential()\n",
    "\n",
    "# Convolutional Layers with Batch Normalization\n",
    "model.add(Conv2D(64, (3, 3), activation='relu', input_shape=(64, 64, 3)))\n",
    "model.add(BatchNormalization())\n",
    "model.add(MaxPooling2D(pool_size=(2, 2)))\n",
    "\n",
    "model.add(Conv2D(128, (3, 3), activation='relu'))\n",
    "model.add(BatchNormalization())\n",
    "model.add(MaxPooling2D(pool_size=(2, 2)))\n",
    "\n",
    "model.add(Conv2D(256, (3, 3), activation='relu'))\n",
    "model.add(BatchNormalization())\n",
    "model.add(MaxPooling2D(pool_size=(2, 2)))\n",
    "\n",
    "# Flatten and Fully Connected Layers with Dropout\n",
    "model.add(Flatten())\n",
    "model.add(Dense(512, activation='relu'))\n",
    "model.add(Dropout(0.4))\n",
    "model.add(Dense(256, activation='relu'))\n",
    "model.add(Dropout(0.3))\n",
    "model.add(Dense(3, activation='softmax'))  # Adjust for the number of classes\n",
    "\n",
    "# Compile the Model\n",
    "learning_rate = 0.001\n",
    "optimizer = Adam(learning_rate=learning_rate)\n",
    "model.compile(optimizer=optimizer, loss='categorical_crossentropy', metrics=['accuracy'])\n",
    "\n",
    "# Callbacks\n",
    "reduce_lr = ReduceLROnPlateau(monitor='val_loss', factor=0.5, patience=3, min_lr=1e-6, verbose=1)\n",
    "early_stopping = EarlyStopping(monitor='val_loss', patience=5, restore_best_weights=True)\n",
    "\n",
    "# Train the Model\n",
    "history = model.fit(\n",
    "    train_generator,\n",
    "    validation_data=val_generator,\n",
    "    epochs=30,\n",
    "    callbacks=[reduce_lr, early_stopping]\n",
    ")\n",
    "\n",
    "# Evaluate on Validation Data\n",
    "val_loss, val_accuracy = model.evaluate(val_generator)\n",
    "print(f\"Validation Accuracy: {val_accuracy}\")\n",
    "print(f\"Validation Loss: {val_loss}\")\n",
    "\n",
    "# Save the Model\n",
    "model.save('improved_model.h5')\n",
    "\n",
    "# Visualize Training and Validation Accuracy/Loss\n",
    "import matplotlib.pyplot as plt\n",
    "\n",
    "def plot_training(history):\n",
    "    acc = history.history['accuracy']\n",
    "    val_acc = history.history['val_accuracy']\n",
    "    loss = history.history['loss']\n",
    "    val_loss = history.history['val_loss']\n",
    "    epochs = range(1, len(acc) + 1)\n",
    "\n",
    "    plt.figure(figsize=(12, 4))\n",
    "\n",
    "    # Plot accuracy\n",
    "    plt.subplot(1, 2, 1)\n",
    "    plt.plot(epochs, acc, label='Training Accuracy')\n",
    "    plt.plot(epochs, val_acc, label='Validation Accuracy')\n",
    "    plt.title('Training and Validation Accuracy')\n",
    "    plt.legend()\n",
    "\n",
    "    # Plot loss\n",
    "    plt.subplot(1, 2, 2)\n",
    "    plt.plot(epochs, loss, label='Training Loss')\n",
    "    plt.plot(epochs, val_loss, label='Validation Loss')\n",
    "    plt.title('Training and Validation Loss')\n",
    "    plt.legend()\n",
    "\n",
    "    plt.show()\n",
    "\n",
    "plot_training(history)\n"
   ]
  },
  {
   "cell_type": "code",
   "execution_count": null,
   "metadata": {},
   "outputs": [],
   "source": [
    "\n",
    "import tensorflow as tf\n",
    "from tensorflow.keras.models import Sequential\n",
    "from tensorflow.keras.layers import Conv2D, MaxPooling2D, Flatten, Dense, Dropout\n",
    "from tensorflow.keras.preprocessing.image import ImageDataGenerator\n",
    "from tensorflow.keras.optimizers import Adam\n",
    "\n",
    "# Define the model architecture\n",
    "def build_waste_classification_model(input_shape, num_classes):\n",
    "    model = Sequential([\n",
    "        # Convolutional Layers\n",
    "        Conv2D(32, (3, 3), activation='relu', input_shape=input_shape),\n",
    "        MaxPooling2D(pool_size=(2, 2)),\n",
    "        Dropout(0.2),\n",
    "        \n",
    "        Conv2D(64, (3, 3), activation='relu'),\n",
    "        MaxPooling2D(pool_size=(2, 2)),\n",
    "        Dropout(0.3),\n",
    "        \n",
    "        Conv2D(128, (3, 3), activation='relu'),\n",
    "        MaxPooling2D(pool_size=(2, 2)),\n",
    "        Dropout(0.4),\n",
    "        \n",
    "        # Flatten and Fully Connected Layers\n",
    "        Flatten(),\n",
    "        Dense(128, activation='relu'),\n",
    "        Dropout(0.5),\n",
    "        Dense(num_classes, activation='softmax')  # Output layer with softmax activation\n",
    "    ])\n",
    "    return model\n",
    "\n",
    "# Data augmentation\n",
    "def create_data_generators(train_dir, val_dir, image_size, batch_size):\n",
    "    train_datagen = ImageDataGenerator(\n",
    "        rescale=1./255,\n",
    "        rotation_range=20,\n",
    "        width_shift_range=0.2,\n",
    "        height_shift_range=0.2,\n",
    "        zoom_range=0.2,\n",
    "        horizontal_flip=True\n",
    "    )\n",
    "    val_datagen = ImageDataGenerator(rescale=1./255)\n",
    "\n",
    "    train_generator = train_datagen.flow_from_directory(\n",
    "        train_dir,\n",
    "        target_size=image_size,\n",
    "        batch_size=batch_size,\n",
    "        class_mode='categorical'\n",
    "    )\n",
    "    val_generator = val_datagen.flow_from_directory(\n",
    "        val_dir,\n",
    "        target_size=image_size,\n",
    "        batch_size=batch_size,\n",
    "        class_mode='categorical'\n",
    "    )\n",
    "    return train_generator, val_generator\n",
    "\n",
    "# Define parameters\n",
    "input_shape = (64, 64, 3)  # Image size (height, width, channels)\n",
    "num_classes = 3  # Food Waste, Mixed Recycle, Trash\n",
    "learning_rate = 0.001\n",
    "batch_size = 32\n",
    "epochs = 20\n",
    "train_dir = 'waste-images/train'\n",
    "val_dir = 'waste-images/val'\n",
    "\n",
    "\n",
    "# Create model\n",
    "model = build_waste_classification_model(input_shape, num_classes)\n",
    "model.compile(optimizer=Adam(learning_rate=learning_rate),\n",
    "              loss='categorical_crossentropy',\n",
    "              metrics=['accuracy'])\n",
    "\n",
    "# Generate data\n",
    "train_generator, val_generator = create_data_generators(train_dir, val_dir, (64, 64), batch_size)\n",
    "\n",
    "# Train the model\n",
    "history = model.fit(\n",
    "    train_generator,\n",
    "    epochs=epochs,\n",
    "    validation_data=val_generator\n",
    ")\n",
    "\n",
    "# Save the model\n",
    "model.save('waste_classification_model.h5')\n",
    "import tensorflow as tf\n",
    "from tensorflow.keras.models import Sequential\n",
    "from tensorflow.keras.layers import Conv2D, MaxPooling2D, Flatten, Dense, Dropout\n",
    "from tensorflow.keras.preprocessing.image import ImageDataGenerator\n",
    "from tensorflow.keras.optimizers import Adam\n",
    "\n",
    "# Define the model architecture\n",
    "def build_waste_classification_model(input_shape, num_classes):\n",
    "    model = Sequential([\n",
    "        # Convolutional Layers\n",
    "        Conv2D(32, (3, 3), activation='relu', input_shape=input_shape),\n",
    "        MaxPooling2D(pool_size=(2, 2)),\n",
    "        Dropout(0.2),\n",
    "        \n",
    "        Conv2D(64, (3, 3), activation='relu'),\n",
    "        MaxPooling2D(pool_size=(2, 2)),\n",
    "        Dropout(0.3),\n",
    "        \n",
    "        Conv2D(128, (3, 3), activation='relu'),\n",
    "        MaxPooling2D(pool_size=(2, 2)),\n",
    "        Dropout(0.4),\n",
    "        \n",
    "        # Flatten and Fully Connected Layers\n",
    "        Flatten(),\n",
    "        Dense(128, activation='relu'),\n",
    "        Dropout(0.5),\n",
    "        Dense(num_classes, activation='softmax')  # Output layer with softmax activation\n",
    "    ])\n",
    "    return model\n",
    "\n",
    "# Data augmentation\n",
    "def create_data_generators(train_dir, val_dir, image_size, batch_size):\n",
    "    train_datagen = ImageDataGenerator(\n",
    "        rescale=1./255,\n",
    "        rotation_range=20,\n",
    "        width_shift_range=0.2,\n",
    "        height_shift_range=0.2,\n",
    "        zoom_range=0.2,\n",
    "        horizontal_flip=True\n",
    "    )\n",
    "    val_datagen = ImageDataGenerator(rescale=1./255)\n",
    "\n",
    "    train_generator = train_datagen.flow_from_directory(\n",
    "        train_dir,\n",
    "        target_size=image_size,\n",
    "        batch_size=batch_size,\n",
    "        class_mode='categorical'\n",
    "    )\n",
    "    val_generator = val_datagen.flow_from_directory(\n",
    "        val_dir,\n",
    "        target_size=image_size,\n",
    "        batch_size=batch_size,\n",
    "        class_mode='categorical'\n",
    "    )\n",
    "    return train_generator, val_generator\n",
    "\n",
    "# Define parameters\n",
    "input_shape = (64, 64, 3)  # Image size (height, width, channels)\n",
    "num_classes = 3  # Food Waste, Mixed Recycle, Trash\n",
    "learning_rate = 0.001\n",
    "batch_size = 32\n",
    "epochs = 20\n",
    "train_dir = 'waste-images/train'\n",
    "val_dir = 'waste-images/val'\n",
    "\n",
    "\n",
    "# Create model\n",
    "model = build_waste_classification_model(input_shape, num_classes)\n",
    "model.compile(optimizer=Adam(learning_rate=learning_rate),\n",
    "              loss='categorical_crossentropy',\n",
    "              metrics=['accuracy'])\n",
    "\n",
    "# Generate data\n",
    "train_generator, val_generator = create_data_generators(train_dir, val_dir, (64, 64), batch_size)\n",
    "\n",
    "# Train the model\n",
    "history = model.fit(\n",
    "    train_generator,\n",
    "    epochs=epochs,\n",
    "    validation_data=val_generator\n",
    ")\n",
    "\n",
    "# Save the model\n",
    "model.save('waste_classification_model.h5')\n",
    "\n"
   ]
  }
 ],
 "metadata": {
  "kernelspec": {
   "display_name": "Python 3",
   "language": "python",
   "name": "python3"
  },
  "language_info": {
   "codemirror_mode": {
    "name": "ipython",
    "version": 3
   },
   "file_extension": ".py",
   "mimetype": "text/x-python",
   "name": "python",
   "nbconvert_exporter": "python",
   "pygments_lexer": "ipython3",
   "version": "3.9.6"
  }
 },
 "nbformat": 4,
 "nbformat_minor": 2
}
